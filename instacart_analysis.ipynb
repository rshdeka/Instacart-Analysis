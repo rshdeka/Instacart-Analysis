{
 "cells": [
  {
   "cell_type": "code",
   "execution_count": 1,
   "id": "9263b48d",
   "metadata": {},
   "outputs": [],
   "source": [
    "import pandas as pd\n",
    "import numpy as np\n",
    "import seaborn as sns\n",
    "import matplotlib.pyplot as plt\n",
    "import warnings\n",
    "warnings.filterwarnings('ignore')"
   ]
  },
  {
   "cell_type": "code",
   "execution_count": 2,
   "id": "29a5458e",
   "metadata": {},
   "outputs": [],
   "source": [
    "# Import data\n",
    "aisles = pd.read_csv(r'C:\\Users\\Rajashri\\Desktop\\Resume\\Resume Projects\\Instacart analyis\\aisles.csv')\n",
    "depts = pd.read_csv(r'C:\\Users\\Rajashri\\Desktop\\Resume\\Resume Projects\\Instacart analyis\\departments.csv')\n",
    "orders = pd.read_csv(r'C:\\Users\\Rajashri\\Desktop\\Resume\\Resume Projects\\Instacart analyis\\orders.csv')\n",
    "products = pd.read_csv(r'C:\\Users\\Rajashri\\Desktop\\Resume\\Resume Projects\\Instacart analyis\\products.csv')\n",
    "product_orders_train = pd.read_csv(r'C:\\Users\\Rajashri\\Desktop\\Resume\\Resume Projects\\Instacart analyis\\order_products__train.csv')\n",
    "product_orders_prior = pd.read_csv(r'C:\\Users\\Rajashri\\Desktop\\Resume\\Resume Projects\\Instacart analyis\\order_products__prior.csv')"
   ]
  },
  {
   "cell_type": "code",
   "execution_count": 3,
   "id": "e8955a7e",
   "metadata": {},
   "outputs": [
    {
     "name": "stdout",
     "output_type": "stream",
     "text": [
      "(3421083, 7)\n"
     ]
    },
    {
     "data": {
      "text/html": [
       "<div>\n",
       "<style scoped>\n",
       "    .dataframe tbody tr th:only-of-type {\n",
       "        vertical-align: middle;\n",
       "    }\n",
       "\n",
       "    .dataframe tbody tr th {\n",
       "        vertical-align: top;\n",
       "    }\n",
       "\n",
       "    .dataframe thead th {\n",
       "        text-align: right;\n",
       "    }\n",
       "</style>\n",
       "<table border=\"1\" class=\"dataframe\">\n",
       "  <thead>\n",
       "    <tr style=\"text-align: right;\">\n",
       "      <th></th>\n",
       "      <th>order_id</th>\n",
       "      <th>user_id</th>\n",
       "      <th>eval_set</th>\n",
       "      <th>order_number</th>\n",
       "      <th>order_dow</th>\n",
       "      <th>order_hour_of_day</th>\n",
       "      <th>days_since_prior_order</th>\n",
       "    </tr>\n",
       "  </thead>\n",
       "  <tbody>\n",
       "    <tr>\n",
       "      <th>0</th>\n",
       "      <td>2539329</td>\n",
       "      <td>1</td>\n",
       "      <td>prior</td>\n",
       "      <td>1</td>\n",
       "      <td>2</td>\n",
       "      <td>8</td>\n",
       "      <td>NaN</td>\n",
       "    </tr>\n",
       "    <tr>\n",
       "      <th>1</th>\n",
       "      <td>2398795</td>\n",
       "      <td>1</td>\n",
       "      <td>prior</td>\n",
       "      <td>2</td>\n",
       "      <td>3</td>\n",
       "      <td>7</td>\n",
       "      <td>15.0</td>\n",
       "    </tr>\n",
       "    <tr>\n",
       "      <th>2</th>\n",
       "      <td>473747</td>\n",
       "      <td>1</td>\n",
       "      <td>prior</td>\n",
       "      <td>3</td>\n",
       "      <td>3</td>\n",
       "      <td>12</td>\n",
       "      <td>21.0</td>\n",
       "    </tr>\n",
       "    <tr>\n",
       "      <th>3</th>\n",
       "      <td>2254736</td>\n",
       "      <td>1</td>\n",
       "      <td>prior</td>\n",
       "      <td>4</td>\n",
       "      <td>4</td>\n",
       "      <td>7</td>\n",
       "      <td>29.0</td>\n",
       "    </tr>\n",
       "    <tr>\n",
       "      <th>4</th>\n",
       "      <td>431534</td>\n",
       "      <td>1</td>\n",
       "      <td>prior</td>\n",
       "      <td>5</td>\n",
       "      <td>4</td>\n",
       "      <td>15</td>\n",
       "      <td>28.0</td>\n",
       "    </tr>\n",
       "  </tbody>\n",
       "</table>\n",
       "</div>"
      ],
      "text/plain": [
       "   order_id  user_id eval_set  order_number  order_dow  order_hour_of_day  \\\n",
       "0   2539329        1    prior             1          2                  8   \n",
       "1   2398795        1    prior             2          3                  7   \n",
       "2    473747        1    prior             3          3                 12   \n",
       "3   2254736        1    prior             4          4                  7   \n",
       "4    431534        1    prior             5          4                 15   \n",
       "\n",
       "   days_since_prior_order  \n",
       "0                     NaN  \n",
       "1                    15.0  \n",
       "2                    21.0  \n",
       "3                    29.0  \n",
       "4                    28.0  "
      ]
     },
     "execution_count": 3,
     "metadata": {},
     "output_type": "execute_result"
    }
   ],
   "source": [
    "print(orders.shape)\n",
    "orders.head(5)"
   ]
  },
  {
   "cell_type": "code",
   "execution_count": 4,
   "id": "d9749724",
   "metadata": {
    "scrolled": true
   },
   "outputs": [
    {
     "name": "stdout",
     "output_type": "stream",
     "text": [
      "(49688, 4)\n"
     ]
    },
    {
     "data": {
      "text/html": [
       "<div>\n",
       "<style scoped>\n",
       "    .dataframe tbody tr th:only-of-type {\n",
       "        vertical-align: middle;\n",
       "    }\n",
       "\n",
       "    .dataframe tbody tr th {\n",
       "        vertical-align: top;\n",
       "    }\n",
       "\n",
       "    .dataframe thead th {\n",
       "        text-align: right;\n",
       "    }\n",
       "</style>\n",
       "<table border=\"1\" class=\"dataframe\">\n",
       "  <thead>\n",
       "    <tr style=\"text-align: right;\">\n",
       "      <th></th>\n",
       "      <th>product_id</th>\n",
       "      <th>product_name</th>\n",
       "      <th>aisle_id</th>\n",
       "      <th>department_id</th>\n",
       "    </tr>\n",
       "  </thead>\n",
       "  <tbody>\n",
       "    <tr>\n",
       "      <th>0</th>\n",
       "      <td>1</td>\n",
       "      <td>Chocolate Sandwich Cookies</td>\n",
       "      <td>61</td>\n",
       "      <td>19</td>\n",
       "    </tr>\n",
       "    <tr>\n",
       "      <th>1</th>\n",
       "      <td>2</td>\n",
       "      <td>All-Seasons Salt</td>\n",
       "      <td>104</td>\n",
       "      <td>13</td>\n",
       "    </tr>\n",
       "    <tr>\n",
       "      <th>2</th>\n",
       "      <td>3</td>\n",
       "      <td>Robust Golden Unsweetened Oolong Tea</td>\n",
       "      <td>94</td>\n",
       "      <td>7</td>\n",
       "    </tr>\n",
       "    <tr>\n",
       "      <th>3</th>\n",
       "      <td>4</td>\n",
       "      <td>Smart Ones Classic Favorites Mini Rigatoni Wit...</td>\n",
       "      <td>38</td>\n",
       "      <td>1</td>\n",
       "    </tr>\n",
       "    <tr>\n",
       "      <th>4</th>\n",
       "      <td>5</td>\n",
       "      <td>Green Chile Anytime Sauce</td>\n",
       "      <td>5</td>\n",
       "      <td>13</td>\n",
       "    </tr>\n",
       "  </tbody>\n",
       "</table>\n",
       "</div>"
      ],
      "text/plain": [
       "   product_id                                       product_name  aisle_id  \\\n",
       "0           1                         Chocolate Sandwich Cookies        61   \n",
       "1           2                                   All-Seasons Salt       104   \n",
       "2           3               Robust Golden Unsweetened Oolong Tea        94   \n",
       "3           4  Smart Ones Classic Favorites Mini Rigatoni Wit...        38   \n",
       "4           5                          Green Chile Anytime Sauce         5   \n",
       "\n",
       "   department_id  \n",
       "0             19  \n",
       "1             13  \n",
       "2              7  \n",
       "3              1  \n",
       "4             13  "
      ]
     },
     "execution_count": 4,
     "metadata": {},
     "output_type": "execute_result"
    }
   ],
   "source": [
    "print(products.shape)\n",
    "products.head(5)"
   ]
  },
  {
   "cell_type": "code",
   "execution_count": 5,
   "id": "668dd10c",
   "metadata": {},
   "outputs": [
    {
     "name": "stdout",
     "output_type": "stream",
     "text": [
      "(134, 2)\n"
     ]
    },
    {
     "data": {
      "text/html": [
       "<div>\n",
       "<style scoped>\n",
       "    .dataframe tbody tr th:only-of-type {\n",
       "        vertical-align: middle;\n",
       "    }\n",
       "\n",
       "    .dataframe tbody tr th {\n",
       "        vertical-align: top;\n",
       "    }\n",
       "\n",
       "    .dataframe thead th {\n",
       "        text-align: right;\n",
       "    }\n",
       "</style>\n",
       "<table border=\"1\" class=\"dataframe\">\n",
       "  <thead>\n",
       "    <tr style=\"text-align: right;\">\n",
       "      <th></th>\n",
       "      <th>aisle_id</th>\n",
       "      <th>aisle</th>\n",
       "    </tr>\n",
       "  </thead>\n",
       "  <tbody>\n",
       "    <tr>\n",
       "      <th>0</th>\n",
       "      <td>1</td>\n",
       "      <td>prepared soups salads</td>\n",
       "    </tr>\n",
       "    <tr>\n",
       "      <th>1</th>\n",
       "      <td>2</td>\n",
       "      <td>specialty cheeses</td>\n",
       "    </tr>\n",
       "    <tr>\n",
       "      <th>2</th>\n",
       "      <td>3</td>\n",
       "      <td>energy granola bars</td>\n",
       "    </tr>\n",
       "    <tr>\n",
       "      <th>3</th>\n",
       "      <td>4</td>\n",
       "      <td>instant foods</td>\n",
       "    </tr>\n",
       "    <tr>\n",
       "      <th>4</th>\n",
       "      <td>5</td>\n",
       "      <td>marinades meat preparation</td>\n",
       "    </tr>\n",
       "  </tbody>\n",
       "</table>\n",
       "</div>"
      ],
      "text/plain": [
       "   aisle_id                       aisle\n",
       "0         1       prepared soups salads\n",
       "1         2           specialty cheeses\n",
       "2         3         energy granola bars\n",
       "3         4               instant foods\n",
       "4         5  marinades meat preparation"
      ]
     },
     "execution_count": 5,
     "metadata": {},
     "output_type": "execute_result"
    }
   ],
   "source": [
    "print(aisles.shape)\n",
    "aisles.head(5)"
   ]
  },
  {
   "cell_type": "code",
   "execution_count": 6,
   "id": "3544e49c",
   "metadata": {},
   "outputs": [
    {
     "name": "stdout",
     "output_type": "stream",
     "text": [
      "(21, 2)\n"
     ]
    },
    {
     "data": {
      "text/html": [
       "<div>\n",
       "<style scoped>\n",
       "    .dataframe tbody tr th:only-of-type {\n",
       "        vertical-align: middle;\n",
       "    }\n",
       "\n",
       "    .dataframe tbody tr th {\n",
       "        vertical-align: top;\n",
       "    }\n",
       "\n",
       "    .dataframe thead th {\n",
       "        text-align: right;\n",
       "    }\n",
       "</style>\n",
       "<table border=\"1\" class=\"dataframe\">\n",
       "  <thead>\n",
       "    <tr style=\"text-align: right;\">\n",
       "      <th></th>\n",
       "      <th>department_id</th>\n",
       "      <th>department</th>\n",
       "    </tr>\n",
       "  </thead>\n",
       "  <tbody>\n",
       "    <tr>\n",
       "      <th>0</th>\n",
       "      <td>1</td>\n",
       "      <td>frozen</td>\n",
       "    </tr>\n",
       "    <tr>\n",
       "      <th>1</th>\n",
       "      <td>2</td>\n",
       "      <td>other</td>\n",
       "    </tr>\n",
       "    <tr>\n",
       "      <th>2</th>\n",
       "      <td>3</td>\n",
       "      <td>bakery</td>\n",
       "    </tr>\n",
       "    <tr>\n",
       "      <th>3</th>\n",
       "      <td>4</td>\n",
       "      <td>produce</td>\n",
       "    </tr>\n",
       "    <tr>\n",
       "      <th>4</th>\n",
       "      <td>5</td>\n",
       "      <td>alcohol</td>\n",
       "    </tr>\n",
       "  </tbody>\n",
       "</table>\n",
       "</div>"
      ],
      "text/plain": [
       "   department_id department\n",
       "0              1     frozen\n",
       "1              2      other\n",
       "2              3     bakery\n",
       "3              4    produce\n",
       "4              5    alcohol"
      ]
     },
     "execution_count": 6,
     "metadata": {},
     "output_type": "execute_result"
    }
   ],
   "source": [
    "print(depts.shape)\n",
    "depts.head(5)"
   ]
  },
  {
   "cell_type": "code",
   "execution_count": 7,
   "id": "ed695ec6",
   "metadata": {},
   "outputs": [
    {
     "name": "stdout",
     "output_type": "stream",
     "text": [
      "(1384617, 4)\n"
     ]
    },
    {
     "data": {
      "text/html": [
       "<div>\n",
       "<style scoped>\n",
       "    .dataframe tbody tr th:only-of-type {\n",
       "        vertical-align: middle;\n",
       "    }\n",
       "\n",
       "    .dataframe tbody tr th {\n",
       "        vertical-align: top;\n",
       "    }\n",
       "\n",
       "    .dataframe thead th {\n",
       "        text-align: right;\n",
       "    }\n",
       "</style>\n",
       "<table border=\"1\" class=\"dataframe\">\n",
       "  <thead>\n",
       "    <tr style=\"text-align: right;\">\n",
       "      <th></th>\n",
       "      <th>order_id</th>\n",
       "      <th>product_id</th>\n",
       "      <th>add_to_cart_order</th>\n",
       "      <th>reordered</th>\n",
       "    </tr>\n",
       "  </thead>\n",
       "  <tbody>\n",
       "    <tr>\n",
       "      <th>0</th>\n",
       "      <td>1</td>\n",
       "      <td>49302</td>\n",
       "      <td>1</td>\n",
       "      <td>1</td>\n",
       "    </tr>\n",
       "    <tr>\n",
       "      <th>1</th>\n",
       "      <td>1</td>\n",
       "      <td>11109</td>\n",
       "      <td>2</td>\n",
       "      <td>1</td>\n",
       "    </tr>\n",
       "    <tr>\n",
       "      <th>2</th>\n",
       "      <td>1</td>\n",
       "      <td>10246</td>\n",
       "      <td>3</td>\n",
       "      <td>0</td>\n",
       "    </tr>\n",
       "    <tr>\n",
       "      <th>3</th>\n",
       "      <td>1</td>\n",
       "      <td>49683</td>\n",
       "      <td>4</td>\n",
       "      <td>0</td>\n",
       "    </tr>\n",
       "    <tr>\n",
       "      <th>4</th>\n",
       "      <td>1</td>\n",
       "      <td>43633</td>\n",
       "      <td>5</td>\n",
       "      <td>1</td>\n",
       "    </tr>\n",
       "  </tbody>\n",
       "</table>\n",
       "</div>"
      ],
      "text/plain": [
       "   order_id  product_id  add_to_cart_order  reordered\n",
       "0         1       49302                  1          1\n",
       "1         1       11109                  2          1\n",
       "2         1       10246                  3          0\n",
       "3         1       49683                  4          0\n",
       "4         1       43633                  5          1"
      ]
     },
     "execution_count": 7,
     "metadata": {},
     "output_type": "execute_result"
    }
   ],
   "source": [
    "print(product_orders_train.shape)\n",
    "product_orders_train.head(5)"
   ]
  },
  {
   "cell_type": "code",
   "execution_count": 8,
   "id": "85724406",
   "metadata": {},
   "outputs": [
    {
     "name": "stdout",
     "output_type": "stream",
     "text": [
      "(32434489, 4)\n"
     ]
    },
    {
     "data": {
      "text/html": [
       "<div>\n",
       "<style scoped>\n",
       "    .dataframe tbody tr th:only-of-type {\n",
       "        vertical-align: middle;\n",
       "    }\n",
       "\n",
       "    .dataframe tbody tr th {\n",
       "        vertical-align: top;\n",
       "    }\n",
       "\n",
       "    .dataframe thead th {\n",
       "        text-align: right;\n",
       "    }\n",
       "</style>\n",
       "<table border=\"1\" class=\"dataframe\">\n",
       "  <thead>\n",
       "    <tr style=\"text-align: right;\">\n",
       "      <th></th>\n",
       "      <th>order_id</th>\n",
       "      <th>product_id</th>\n",
       "      <th>add_to_cart_order</th>\n",
       "      <th>reordered</th>\n",
       "    </tr>\n",
       "  </thead>\n",
       "  <tbody>\n",
       "    <tr>\n",
       "      <th>0</th>\n",
       "      <td>2</td>\n",
       "      <td>33120</td>\n",
       "      <td>1</td>\n",
       "      <td>1</td>\n",
       "    </tr>\n",
       "    <tr>\n",
       "      <th>1</th>\n",
       "      <td>2</td>\n",
       "      <td>28985</td>\n",
       "      <td>2</td>\n",
       "      <td>1</td>\n",
       "    </tr>\n",
       "    <tr>\n",
       "      <th>2</th>\n",
       "      <td>2</td>\n",
       "      <td>9327</td>\n",
       "      <td>3</td>\n",
       "      <td>0</td>\n",
       "    </tr>\n",
       "    <tr>\n",
       "      <th>3</th>\n",
       "      <td>2</td>\n",
       "      <td>45918</td>\n",
       "      <td>4</td>\n",
       "      <td>1</td>\n",
       "    </tr>\n",
       "    <tr>\n",
       "      <th>4</th>\n",
       "      <td>2</td>\n",
       "      <td>30035</td>\n",
       "      <td>5</td>\n",
       "      <td>0</td>\n",
       "    </tr>\n",
       "  </tbody>\n",
       "</table>\n",
       "</div>"
      ],
      "text/plain": [
       "   order_id  product_id  add_to_cart_order  reordered\n",
       "0         2       33120                  1          1\n",
       "1         2       28985                  2          1\n",
       "2         2        9327                  3          0\n",
       "3         2       45918                  4          1\n",
       "4         2       30035                  5          0"
      ]
     },
     "execution_count": 8,
     "metadata": {},
     "output_type": "execute_result"
    }
   ],
   "source": [
    "print(product_orders_prior.shape)\n",
    "product_orders_prior.head(5)"
   ]
  },
  {
   "cell_type": "markdown",
   "id": "c53fa797",
   "metadata": {},
   "source": [
    "### Pre-processing the datasets"
   ]
  },
  {
   "cell_type": "code",
   "execution_count": 9,
   "id": "3b9ec580",
   "metadata": {},
   "outputs": [
    {
     "name": "stdout",
     "output_type": "stream",
     "text": [
      "(3421083, 7)\n"
     ]
    },
    {
     "data": {
      "text/html": [
       "<div>\n",
       "<style scoped>\n",
       "    .dataframe tbody tr th:only-of-type {\n",
       "        vertical-align: middle;\n",
       "    }\n",
       "\n",
       "    .dataframe tbody tr th {\n",
       "        vertical-align: top;\n",
       "    }\n",
       "\n",
       "    .dataframe thead th {\n",
       "        text-align: right;\n",
       "    }\n",
       "</style>\n",
       "<table border=\"1\" class=\"dataframe\">\n",
       "  <thead>\n",
       "    <tr style=\"text-align: right;\">\n",
       "      <th></th>\n",
       "      <th>order_id</th>\n",
       "      <th>user_id</th>\n",
       "      <th>eval_set</th>\n",
       "      <th>order_number</th>\n",
       "      <th>order_dow</th>\n",
       "      <th>order_hour_of_day</th>\n",
       "      <th>days_since_prior_order</th>\n",
       "    </tr>\n",
       "  </thead>\n",
       "  <tbody>\n",
       "    <tr>\n",
       "      <th>0</th>\n",
       "      <td>2539329</td>\n",
       "      <td>1</td>\n",
       "      <td>prior</td>\n",
       "      <td>1</td>\n",
       "      <td>2</td>\n",
       "      <td>8</td>\n",
       "      <td>NaN</td>\n",
       "    </tr>\n",
       "    <tr>\n",
       "      <th>1</th>\n",
       "      <td>2398795</td>\n",
       "      <td>1</td>\n",
       "      <td>prior</td>\n",
       "      <td>2</td>\n",
       "      <td>3</td>\n",
       "      <td>7</td>\n",
       "      <td>15.0</td>\n",
       "    </tr>\n",
       "    <tr>\n",
       "      <th>2</th>\n",
       "      <td>473747</td>\n",
       "      <td>1</td>\n",
       "      <td>prior</td>\n",
       "      <td>3</td>\n",
       "      <td>3</td>\n",
       "      <td>12</td>\n",
       "      <td>21.0</td>\n",
       "    </tr>\n",
       "    <tr>\n",
       "      <th>3</th>\n",
       "      <td>2254736</td>\n",
       "      <td>1</td>\n",
       "      <td>prior</td>\n",
       "      <td>4</td>\n",
       "      <td>4</td>\n",
       "      <td>7</td>\n",
       "      <td>29.0</td>\n",
       "    </tr>\n",
       "    <tr>\n",
       "      <th>4</th>\n",
       "      <td>431534</td>\n",
       "      <td>1</td>\n",
       "      <td>prior</td>\n",
       "      <td>5</td>\n",
       "      <td>4</td>\n",
       "      <td>15</td>\n",
       "      <td>28.0</td>\n",
       "    </tr>\n",
       "  </tbody>\n",
       "</table>\n",
       "</div>"
      ],
      "text/plain": [
       "   order_id  user_id eval_set  order_number  order_dow  order_hour_of_day  \\\n",
       "0   2539329        1    prior             1          2                  8   \n",
       "1   2398795        1    prior             2          3                  7   \n",
       "2    473747        1    prior             3          3                 12   \n",
       "3   2254736        1    prior             4          4                  7   \n",
       "4    431534        1    prior             5          4                 15   \n",
       "\n",
       "   days_since_prior_order  \n",
       "0                     NaN  \n",
       "1                    15.0  \n",
       "2                    21.0  \n",
       "3                    29.0  \n",
       "4                    28.0  "
      ]
     },
     "execution_count": 9,
     "metadata": {},
     "output_type": "execute_result"
    }
   ],
   "source": [
    "# Analysing the 'orders' dataset\n",
    "print(orders.shape)\n",
    "orders.head(5)"
   ]
  },
  {
   "cell_type": "code",
   "execution_count": 10,
   "id": "a04d28a9",
   "metadata": {},
   "outputs": [
    {
     "data": {
      "image/png": "[encoded data removed]",
      "text/plain": [
       "<Figure size 720x504 with 1 Axes>"
      ]
     },
     "metadata": {
      "needs_background": "light"
     },
     "output_type": "display_data"
    }
   ],
   "source": [
    "# \"eval_set\" tells us as to which of the three datasets (prior, train or test) a row belongs\n",
    "cnt_srs = orders['eval_set'].value_counts()\n",
    "\n",
    "plt.figure(figsize=(10,7))\n",
    "sns.barplot(cnt_srs.index, cnt_srs.values)\n",
    "plt.ylabel('Number of Occurrences')\n",
    "plt.xlabel('Eval set type')\n",
    "plt.title('Count of rows in each dataset')\n",
    "plt.xticks(rotation='vertical')\n",
    "plt.show()"
   ]
  },
  {
   "cell_type": "code",
   "execution_count": 11,
   "id": "8de302f6",
   "metadata": {},
   "outputs": [
    {
     "data": {
      "text/plain": [
       "eval_set\n",
       "prior    206209\n",
       "test      75000\n",
       "train    131209\n",
       "Name: user_id, dtype: int64"
      ]
     },
     "execution_count": 11,
     "metadata": {},
     "output_type": "execute_result"
    }
   ],
   "source": [
    "def get_unique_count(x):\n",
    "    return len(np.unique(x))\n",
    "\n",
    "cnt_srs = orders.groupby(\"eval_set\")[\"user_id\"].aggregate(get_unique_count)\n",
    "cnt_srs"
   ]
  },
  {
   "cell_type": "code",
   "execution_count": 12,
   "id": "2f284992",
   "metadata": {},
   "outputs": [
    {
     "data": {
      "image/png": "[encoded data removed]",
      "text/plain": [
       "<Figure size 1800x576 with 1 Axes>"
      ]
     },
     "metadata": {
      "needs_background": "light"
     },
     "output_type": "display_data"
    }
   ],
   "source": [
    "#  4-100 orders per customer are given in the dataset\n",
    "count = orders.groupby(\"user_id\")[\"order_number\"].aggregate(np.max).reset_index()\n",
    "count = count.order_number.value_counts()\n",
    "\n",
    "plt.figure(figsize=(25,8))\n",
    "sns.barplot(count.index, count.values, alpha=0.8)\n",
    "plt.xlabel('Number of orders')\n",
    "plt.ylabel('Count')\n",
    "plt.xticks(rotation='vertical')\n",
    "plt.show()"
   ]
  },
  {
   "cell_type": "code",
   "execution_count": 13,
   "id": "96d73e2e",
   "metadata": {},
   "outputs": [
    {
     "name": "stdout",
     "output_type": "stream",
     "text": [
      "(3421083, 7)\n"
     ]
    },
    {
     "data": {
      "text/html": [
       "<div>\n",
       "<style scoped>\n",
       "    .dataframe tbody tr th:only-of-type {\n",
       "        vertical-align: middle;\n",
       "    }\n",
       "\n",
       "    .dataframe tbody tr th {\n",
       "        vertical-align: top;\n",
       "    }\n",
       "\n",
       "    .dataframe thead th {\n",
       "        text-align: right;\n",
       "    }\n",
       "</style>\n",
       "<table border=\"1\" class=\"dataframe\">\n",
       "  <thead>\n",
       "    <tr style=\"text-align: right;\">\n",
       "      <th></th>\n",
       "      <th>order_id</th>\n",
       "      <th>user_id</th>\n",
       "      <th>eval_set</th>\n",
       "      <th>order_number</th>\n",
       "      <th>order_day</th>\n",
       "      <th>order_hour_of_day</th>\n",
       "      <th>days_since_prior_order</th>\n",
       "    </tr>\n",
       "  </thead>\n",
       "  <tbody>\n",
       "    <tr>\n",
       "      <th>0</th>\n",
       "      <td>2539329</td>\n",
       "      <td>1</td>\n",
       "      <td>prior</td>\n",
       "      <td>1</td>\n",
       "      <td>2</td>\n",
       "      <td>8</td>\n",
       "      <td>NaN</td>\n",
       "    </tr>\n",
       "    <tr>\n",
       "      <th>1</th>\n",
       "      <td>2398795</td>\n",
       "      <td>1</td>\n",
       "      <td>prior</td>\n",
       "      <td>2</td>\n",
       "      <td>3</td>\n",
       "      <td>7</td>\n",
       "      <td>15.0</td>\n",
       "    </tr>\n",
       "    <tr>\n",
       "      <th>2</th>\n",
       "      <td>473747</td>\n",
       "      <td>1</td>\n",
       "      <td>prior</td>\n",
       "      <td>3</td>\n",
       "      <td>3</td>\n",
       "      <td>12</td>\n",
       "      <td>21.0</td>\n",
       "    </tr>\n",
       "    <tr>\n",
       "      <th>3</th>\n",
       "      <td>2254736</td>\n",
       "      <td>1</td>\n",
       "      <td>prior</td>\n",
       "      <td>4</td>\n",
       "      <td>4</td>\n",
       "      <td>7</td>\n",
       "      <td>29.0</td>\n",
       "    </tr>\n",
       "    <tr>\n",
       "      <th>4</th>\n",
       "      <td>431534</td>\n",
       "      <td>1</td>\n",
       "      <td>prior</td>\n",
       "      <td>5</td>\n",
       "      <td>4</td>\n",
       "      <td>15</td>\n",
       "      <td>28.0</td>\n",
       "    </tr>\n",
       "  </tbody>\n",
       "</table>\n",
       "</div>"
      ],
      "text/plain": [
       "   order_id  user_id eval_set  order_number  order_day  order_hour_of_day  \\\n",
       "0   2539329        1    prior             1          2                  8   \n",
       "1   2398795        1    prior             2          3                  7   \n",
       "2    473747        1    prior             3          3                 12   \n",
       "3   2254736        1    prior             4          4                  7   \n",
       "4    431534        1    prior             5          4                 15   \n",
       "\n",
       "   days_since_prior_order  \n",
       "0                     NaN  \n",
       "1                    15.0  \n",
       "2                    21.0  \n",
       "3                    29.0  \n",
       "4                    28.0  "
      ]
     },
     "execution_count": 13,
     "metadata": {},
     "output_type": "execute_result"
    }
   ],
   "source": [
    "# Renaming the 'order_dow' column\n",
    "orders = orders.rename({'order_dow': 'order_day'}, axis='columns')\n",
    "print(orders.shape)\n",
    "orders.head(5)"
   ]
  },
  {
   "cell_type": "code",
   "execution_count": 14,
   "id": "db9690c9",
   "metadata": {},
   "outputs": [
    {
     "name": "stdout",
     "output_type": "stream",
     "text": [
      "(3421083, 6)\n"
     ]
    },
    {
     "data": {
      "text/html": [
       "<div>\n",
       "<style scoped>\n",
       "    .dataframe tbody tr th:only-of-type {\n",
       "        vertical-align: middle;\n",
       "    }\n",
       "\n",
       "    .dataframe tbody tr th {\n",
       "        vertical-align: top;\n",
       "    }\n",
       "\n",
       "    .dataframe thead th {\n",
       "        text-align: right;\n",
       "    }\n",
       "</style>\n",
       "<table border=\"1\" class=\"dataframe\">\n",
       "  <thead>\n",
       "    <tr style=\"text-align: right;\">\n",
       "      <th></th>\n",
       "      <th>order_id</th>\n",
       "      <th>user_id</th>\n",
       "      <th>order_number</th>\n",
       "      <th>order_day</th>\n",
       "      <th>order_hour_of_day</th>\n",
       "      <th>days_since_prior_order</th>\n",
       "    </tr>\n",
       "  </thead>\n",
       "  <tbody>\n",
       "    <tr>\n",
       "      <th>0</th>\n",
       "      <td>2539329</td>\n",
       "      <td>1</td>\n",
       "      <td>1</td>\n",
       "      <td>2</td>\n",
       "      <td>8</td>\n",
       "      <td>NaN</td>\n",
       "    </tr>\n",
       "    <tr>\n",
       "      <th>1</th>\n",
       "      <td>2398795</td>\n",
       "      <td>1</td>\n",
       "      <td>2</td>\n",
       "      <td>3</td>\n",
       "      <td>7</td>\n",
       "      <td>15.0</td>\n",
       "    </tr>\n",
       "    <tr>\n",
       "      <th>2</th>\n",
       "      <td>473747</td>\n",
       "      <td>1</td>\n",
       "      <td>3</td>\n",
       "      <td>3</td>\n",
       "      <td>12</td>\n",
       "      <td>21.0</td>\n",
       "    </tr>\n",
       "    <tr>\n",
       "      <th>3</th>\n",
       "      <td>2254736</td>\n",
       "      <td>1</td>\n",
       "      <td>4</td>\n",
       "      <td>4</td>\n",
       "      <td>7</td>\n",
       "      <td>29.0</td>\n",
       "    </tr>\n",
       "    <tr>\n",
       "      <th>4</th>\n",
       "      <td>431534</td>\n",
       "      <td>1</td>\n",
       "      <td>5</td>\n",
       "      <td>4</td>\n",
       "      <td>15</td>\n",
       "      <td>28.0</td>\n",
       "    </tr>\n",
       "  </tbody>\n",
       "</table>\n",
       "</div>"
      ],
      "text/plain": [
       "   order_id  user_id  order_number  order_day  order_hour_of_day  \\\n",
       "0   2539329        1             1          2                  8   \n",
       "1   2398795        1             2          3                  7   \n",
       "2    473747        1             3          3                 12   \n",
       "3   2254736        1             4          4                  7   \n",
       "4    431534        1             5          4                 15   \n",
       "\n",
       "   days_since_prior_order  \n",
       "0                     NaN  \n",
       "1                    15.0  \n",
       "2                    21.0  \n",
       "3                    29.0  \n",
       "4                    28.0  "
      ]
     },
     "execution_count": 14,
     "metadata": {},
     "output_type": "execute_result"
    }
   ],
   "source": [
    "# Drop the unnecessary columns\n",
    "orders = orders.drop(['eval_set'], axis='columns')\n",
    "print(orders.shape)\n",
    "orders.head(5)"
   ]
  },
  {
   "cell_type": "code",
   "execution_count": 15,
   "id": "42f48792",
   "metadata": {},
   "outputs": [
    {
     "data": {
      "text/plain": [
       "order_id                       0\n",
       "user_id                        0\n",
       "order_number                   0\n",
       "order_day                      0\n",
       "order_hour_of_day              0\n",
       "days_since_prior_order    206209\n",
       "dtype: int64"
      ]
     },
     "execution_count": 15,
     "metadata": {},
     "output_type": "execute_result"
    }
   ],
   "source": [
    "orders.isnull().sum()"
   ]
  },
  {
   "cell_type": "code",
   "execution_count": 16,
   "id": "9ff595bd",
   "metadata": {},
   "outputs": [],
   "source": [
    "# There are 206209 missing values in 'days_since_prior_order', so filling it with mean\n",
    "orders['days_since_prior_order'] = orders['days_since_prior_order'].fillna(orders['days_since_prior_order'].mean())"
   ]
  },
  {
   "cell_type": "code",
   "execution_count": 17,
   "id": "df4a0f31",
   "metadata": {},
   "outputs": [
    {
     "data": {
      "text/plain": [
       "array([11.11483623, 15.        , 21.        , 29.        , 28.        ,\n",
       "       19.        , 20.        , 14.        ,  0.        , 30.        ,\n",
       "       10.        ,  3.        ,  8.        , 13.        , 27.        ,\n",
       "        6.        ,  9.        , 12.        ,  7.        , 17.        ,\n",
       "       11.        , 22.        ,  4.        ,  5.        ,  2.        ,\n",
       "       23.        , 26.        , 25.        , 16.        ,  1.        ,\n",
       "       18.        , 24.        ])"
      ]
     },
     "execution_count": 17,
     "metadata": {},
     "output_type": "execute_result"
    }
   ],
   "source": [
    "orders['days_since_prior_order'].unique()"
   ]
  },
  {
   "cell_type": "code",
   "execution_count": 18,
   "id": "4810eca1",
   "metadata": {},
   "outputs": [],
   "source": [
    "orders['days_since_prior_order'] = orders['days_since_prior_order'].astype(int)"
   ]
  },
  {
   "cell_type": "code",
   "execution_count": 19,
   "id": "9fb125b6",
   "metadata": {},
   "outputs": [
    {
     "data": {
      "text/plain": [
       "array([11, 15, 21, 29, 28, 19, 20, 14,  0, 30, 10,  3,  8, 13, 27,  6,  9,\n",
       "       12,  7, 17, 22,  4,  5,  2, 23, 26, 25, 16,  1, 18, 24])"
      ]
     },
     "execution_count": 19,
     "metadata": {},
     "output_type": "execute_result"
    }
   ],
   "source": [
    "orders['days_since_prior_order'].unique()"
   ]
  },
  {
   "cell_type": "code",
   "execution_count": 20,
   "id": "713a6cae",
   "metadata": {},
   "outputs": [
    {
     "data": {
      "text/html": [
       "<div>\n",
       "<style scoped>\n",
       "    .dataframe tbody tr th:only-of-type {\n",
       "        vertical-align: middle;\n",
       "    }\n",
       "\n",
       "    .dataframe tbody tr th {\n",
       "        vertical-align: top;\n",
       "    }\n",
       "\n",
       "    .dataframe thead th {\n",
       "        text-align: right;\n",
       "    }\n",
       "</style>\n",
       "<table border=\"1\" class=\"dataframe\">\n",
       "  <thead>\n",
       "    <tr style=\"text-align: right;\">\n",
       "      <th></th>\n",
       "      <th>order_id</th>\n",
       "      <th>user_id</th>\n",
       "      <th>order_number</th>\n",
       "      <th>order_day</th>\n",
       "      <th>order_hour_of_day</th>\n",
       "      <th>days_since_prior_order</th>\n",
       "    </tr>\n",
       "  </thead>\n",
       "  <tbody>\n",
       "    <tr>\n",
       "      <th>0</th>\n",
       "      <td>2539329</td>\n",
       "      <td>1</td>\n",
       "      <td>1</td>\n",
       "      <td>2</td>\n",
       "      <td>8</td>\n",
       "      <td>11</td>\n",
       "    </tr>\n",
       "    <tr>\n",
       "      <th>1</th>\n",
       "      <td>2398795</td>\n",
       "      <td>1</td>\n",
       "      <td>2</td>\n",
       "      <td>3</td>\n",
       "      <td>7</td>\n",
       "      <td>15</td>\n",
       "    </tr>\n",
       "    <tr>\n",
       "      <th>2</th>\n",
       "      <td>473747</td>\n",
       "      <td>1</td>\n",
       "      <td>3</td>\n",
       "      <td>3</td>\n",
       "      <td>12</td>\n",
       "      <td>21</td>\n",
       "    </tr>\n",
       "    <tr>\n",
       "      <th>3</th>\n",
       "      <td>2254736</td>\n",
       "      <td>1</td>\n",
       "      <td>4</td>\n",
       "      <td>4</td>\n",
       "      <td>7</td>\n",
       "      <td>29</td>\n",
       "    </tr>\n",
       "    <tr>\n",
       "      <th>4</th>\n",
       "      <td>431534</td>\n",
       "      <td>1</td>\n",
       "      <td>5</td>\n",
       "      <td>4</td>\n",
       "      <td>15</td>\n",
       "      <td>28</td>\n",
       "    </tr>\n",
       "  </tbody>\n",
       "</table>\n",
       "</div>"
      ],
      "text/plain": [
       "   order_id  user_id  order_number  order_day  order_hour_of_day  \\\n",
       "0   2539329        1             1          2                  8   \n",
       "1   2398795        1             2          3                  7   \n",
       "2    473747        1             3          3                 12   \n",
       "3   2254736        1             4          4                  7   \n",
       "4    431534        1             5          4                 15   \n",
       "\n",
       "   days_since_prior_order  \n",
       "0                      11  \n",
       "1                      15  \n",
       "2                      21  \n",
       "3                      29  \n",
       "4                      28  "
      ]
     },
     "execution_count": 20,
     "metadata": {},
     "output_type": "execute_result"
    }
   ],
   "source": [
    "orders.head(5)"
   ]
  },
  {
   "cell_type": "code",
   "execution_count": 21,
   "id": "360f1b77",
   "metadata": {},
   "outputs": [
    {
     "data": {
      "text/plain": [
       "order_id                  0\n",
       "user_id                   0\n",
       "order_number              0\n",
       "order_day                 0\n",
       "order_hour_of_day         0\n",
       "days_since_prior_order    0\n",
       "dtype: int64"
      ]
     },
     "execution_count": 21,
     "metadata": {},
     "output_type": "execute_result"
    }
   ],
   "source": [
    "# Let's check if any more missing values present\n",
    "orders.isnull().sum()"
   ]
  },
  {
   "cell_type": "markdown",
   "id": "33837240",
   "metadata": {},
   "source": [
    "#### Merging the 'products', 'depts' and 'aisles' dataset"
   ]
  },
  {
   "cell_type": "code",
   "execution_count": 22,
   "id": "5411fa6d",
   "metadata": {},
   "outputs": [
    {
     "name": "stdout",
     "output_type": "stream",
     "text": [
      "(49688, 5)\n"
     ]
    },
    {
     "data": {
      "text/html": [
       "<div>\n",
       "<style scoped>\n",
       "    .dataframe tbody tr th:only-of-type {\n",
       "        vertical-align: middle;\n",
       "    }\n",
       "\n",
       "    .dataframe tbody tr th {\n",
       "        vertical-align: top;\n",
       "    }\n",
       "\n",
       "    .dataframe thead th {\n",
       "        text-align: right;\n",
       "    }\n",
       "</style>\n",
       "<table border=\"1\" class=\"dataframe\">\n",
       "  <thead>\n",
       "    <tr style=\"text-align: right;\">\n",
       "      <th></th>\n",
       "      <th>product_id</th>\n",
       "      <th>product_name</th>\n",
       "      <th>aisle_id</th>\n",
       "      <th>department_id</th>\n",
       "      <th>department</th>\n",
       "    </tr>\n",
       "  </thead>\n",
       "  <tbody>\n",
       "    <tr>\n",
       "      <th>0</th>\n",
       "      <td>1</td>\n",
       "      <td>Chocolate Sandwich Cookies</td>\n",
       "      <td>61</td>\n",
       "      <td>19</td>\n",
       "      <td>snacks</td>\n",
       "    </tr>\n",
       "    <tr>\n",
       "      <th>1</th>\n",
       "      <td>2</td>\n",
       "      <td>All-Seasons Salt</td>\n",
       "      <td>104</td>\n",
       "      <td>13</td>\n",
       "      <td>pantry</td>\n",
       "    </tr>\n",
       "    <tr>\n",
       "      <th>2</th>\n",
       "      <td>3</td>\n",
       "      <td>Robust Golden Unsweetened Oolong Tea</td>\n",
       "      <td>94</td>\n",
       "      <td>7</td>\n",
       "      <td>beverages</td>\n",
       "    </tr>\n",
       "    <tr>\n",
       "      <th>3</th>\n",
       "      <td>4</td>\n",
       "      <td>Smart Ones Classic Favorites Mini Rigatoni Wit...</td>\n",
       "      <td>38</td>\n",
       "      <td>1</td>\n",
       "      <td>frozen</td>\n",
       "    </tr>\n",
       "    <tr>\n",
       "      <th>4</th>\n",
       "      <td>5</td>\n",
       "      <td>Green Chile Anytime Sauce</td>\n",
       "      <td>5</td>\n",
       "      <td>13</td>\n",
       "      <td>pantry</td>\n",
       "    </tr>\n",
       "  </tbody>\n",
       "</table>\n",
       "</div>"
      ],
      "text/plain": [
       "   product_id                                       product_name  aisle_id  \\\n",
       "0           1                         Chocolate Sandwich Cookies        61   \n",
       "1           2                                   All-Seasons Salt       104   \n",
       "2           3               Robust Golden Unsweetened Oolong Tea        94   \n",
       "3           4  Smart Ones Classic Favorites Mini Rigatoni Wit...        38   \n",
       "4           5                          Green Chile Anytime Sauce         5   \n",
       "\n",
       "   department_id department  \n",
       "0             19     snacks  \n",
       "1             13     pantry  \n",
       "2              7  beverages  \n",
       "3              1     frozen  \n",
       "4             13     pantry  "
      ]
     },
     "execution_count": 22,
     "metadata": {},
     "output_type": "execute_result"
    }
   ],
   "source": [
    "# merging the 'depts' & 'products' datasets to get the dept_name\n",
    "prod_details = pd.merge(products, depts, on='department_id', how='left')\n",
    "print(prod_details.shape)\n",
    "prod_details.head(5)"
   ]
  },
  {
   "cell_type": "code",
   "execution_count": 23,
   "id": "e2072d58",
   "metadata": {},
   "outputs": [
    {
     "name": "stdout",
     "output_type": "stream",
     "text": [
      "(49688, 6)\n"
     ]
    },
    {
     "data": {
      "text/html": [
       "<div>\n",
       "<style scoped>\n",
       "    .dataframe tbody tr th:only-of-type {\n",
       "        vertical-align: middle;\n",
       "    }\n",
       "\n",
       "    .dataframe tbody tr th {\n",
       "        vertical-align: top;\n",
       "    }\n",
       "\n",
       "    .dataframe thead th {\n",
       "        text-align: right;\n",
       "    }\n",
       "</style>\n",
       "<table border=\"1\" class=\"dataframe\">\n",
       "  <thead>\n",
       "    <tr style=\"text-align: right;\">\n",
       "      <th></th>\n",
       "      <th>product_id</th>\n",
       "      <th>product_name</th>\n",
       "      <th>aisle_id</th>\n",
       "      <th>department_id</th>\n",
       "      <th>department</th>\n",
       "      <th>aisle</th>\n",
       "    </tr>\n",
       "  </thead>\n",
       "  <tbody>\n",
       "    <tr>\n",
       "      <th>0</th>\n",
       "      <td>1</td>\n",
       "      <td>Chocolate Sandwich Cookies</td>\n",
       "      <td>61</td>\n",
       "      <td>19</td>\n",
       "      <td>snacks</td>\n",
       "      <td>cookies cakes</td>\n",
       "    </tr>\n",
       "    <tr>\n",
       "      <th>1</th>\n",
       "      <td>2</td>\n",
       "      <td>All-Seasons Salt</td>\n",
       "      <td>104</td>\n",
       "      <td>13</td>\n",
       "      <td>pantry</td>\n",
       "      <td>spices seasonings</td>\n",
       "    </tr>\n",
       "    <tr>\n",
       "      <th>2</th>\n",
       "      <td>3</td>\n",
       "      <td>Robust Golden Unsweetened Oolong Tea</td>\n",
       "      <td>94</td>\n",
       "      <td>7</td>\n",
       "      <td>beverages</td>\n",
       "      <td>tea</td>\n",
       "    </tr>\n",
       "    <tr>\n",
       "      <th>3</th>\n",
       "      <td>4</td>\n",
       "      <td>Smart Ones Classic Favorites Mini Rigatoni Wit...</td>\n",
       "      <td>38</td>\n",
       "      <td>1</td>\n",
       "      <td>frozen</td>\n",
       "      <td>frozen meals</td>\n",
       "    </tr>\n",
       "    <tr>\n",
       "      <th>4</th>\n",
       "      <td>5</td>\n",
       "      <td>Green Chile Anytime Sauce</td>\n",
       "      <td>5</td>\n",
       "      <td>13</td>\n",
       "      <td>pantry</td>\n",
       "      <td>marinades meat preparation</td>\n",
       "    </tr>\n",
       "  </tbody>\n",
       "</table>\n",
       "</div>"
      ],
      "text/plain": [
       "   product_id                                       product_name  aisle_id  \\\n",
       "0           1                         Chocolate Sandwich Cookies        61   \n",
       "1           2                                   All-Seasons Salt       104   \n",
       "2           3               Robust Golden Unsweetened Oolong Tea        94   \n",
       "3           4  Smart Ones Classic Favorites Mini Rigatoni Wit...        38   \n",
       "4           5                          Green Chile Anytime Sauce         5   \n",
       "\n",
       "   department_id department                       aisle  \n",
       "0             19     snacks               cookies cakes  \n",
       "1             13     pantry           spices seasonings  \n",
       "2              7  beverages                         tea  \n",
       "3              1     frozen                frozen meals  \n",
       "4             13     pantry  marinades meat preparation  "
      ]
     },
     "execution_count": 23,
     "metadata": {},
     "output_type": "execute_result"
    }
   ],
   "source": [
    "# merging it with the 'aisles' datasets to get the aisle_name\n",
    "product_details = pd.merge(prod_details, aisles, on='aisle_id', how='left')\n",
    "print(product_details.shape)\n",
    "product_details.head(5)"
   ]
  },
  {
   "cell_type": "code",
   "execution_count": 24,
   "id": "6e3414c3",
   "metadata": {},
   "outputs": [
    {
     "data": {
      "text/html": [
       "<div>\n",
       "<style scoped>\n",
       "    .dataframe tbody tr th:only-of-type {\n",
       "        vertical-align: middle;\n",
       "    }\n",
       "\n",
       "    .dataframe tbody tr th {\n",
       "        vertical-align: top;\n",
       "    }\n",
       "\n",
       "    .dataframe thead th {\n",
       "        text-align: right;\n",
       "    }\n",
       "</style>\n",
       "<table border=\"1\" class=\"dataframe\">\n",
       "  <thead>\n",
       "    <tr style=\"text-align: right;\">\n",
       "      <th></th>\n",
       "      <th>product_id</th>\n",
       "      <th>product_name</th>\n",
       "      <th>department_id</th>\n",
       "      <th>department</th>\n",
       "      <th>aisle_id</th>\n",
       "      <th>aisle</th>\n",
       "    </tr>\n",
       "  </thead>\n",
       "  <tbody>\n",
       "    <tr>\n",
       "      <th>0</th>\n",
       "      <td>1</td>\n",
       "      <td>Chocolate Sandwich Cookies</td>\n",
       "      <td>19</td>\n",
       "      <td>snacks</td>\n",
       "      <td>61</td>\n",
       "      <td>cookies cakes</td>\n",
       "    </tr>\n",
       "    <tr>\n",
       "      <th>1</th>\n",
       "      <td>2</td>\n",
       "      <td>All-Seasons Salt</td>\n",
       "      <td>13</td>\n",
       "      <td>pantry</td>\n",
       "      <td>104</td>\n",
       "      <td>spices seasonings</td>\n",
       "    </tr>\n",
       "    <tr>\n",
       "      <th>2</th>\n",
       "      <td>3</td>\n",
       "      <td>Robust Golden Unsweetened Oolong Tea</td>\n",
       "      <td>7</td>\n",
       "      <td>beverages</td>\n",
       "      <td>94</td>\n",
       "      <td>tea</td>\n",
       "    </tr>\n",
       "    <tr>\n",
       "      <th>3</th>\n",
       "      <td>4</td>\n",
       "      <td>Smart Ones Classic Favorites Mini Rigatoni Wit...</td>\n",
       "      <td>1</td>\n",
       "      <td>frozen</td>\n",
       "      <td>38</td>\n",
       "      <td>frozen meals</td>\n",
       "    </tr>\n",
       "    <tr>\n",
       "      <th>4</th>\n",
       "      <td>5</td>\n",
       "      <td>Green Chile Anytime Sauce</td>\n",
       "      <td>13</td>\n",
       "      <td>pantry</td>\n",
       "      <td>5</td>\n",
       "      <td>marinades meat preparation</td>\n",
       "    </tr>\n",
       "  </tbody>\n",
       "</table>\n",
       "</div>"
      ],
      "text/plain": [
       "   product_id                                       product_name  \\\n",
       "0           1                         Chocolate Sandwich Cookies   \n",
       "1           2                                   All-Seasons Salt   \n",
       "2           3               Robust Golden Unsweetened Oolong Tea   \n",
       "3           4  Smart Ones Classic Favorites Mini Rigatoni Wit...   \n",
       "4           5                          Green Chile Anytime Sauce   \n",
       "\n",
       "   department_id department  aisle_id                       aisle  \n",
       "0             19     snacks        61               cookies cakes  \n",
       "1             13     pantry       104           spices seasonings  \n",
       "2              7  beverages        94                         tea  \n",
       "3              1     frozen        38                frozen meals  \n",
       "4             13     pantry         5  marinades meat preparation  "
      ]
     },
     "execution_count": 24,
     "metadata": {},
     "output_type": "execute_result"
    }
   ],
   "source": [
    "# Re-ordering the columns\n",
    "product_details = product_details.reindex(columns=['product_id', 'product_name', 'department_id', 'department',\n",
    "                                                   'aisle_id', 'aisle'])\n",
    "product_details.head(5)\n"
   ]
  },
  {
   "cell_type": "code",
   "execution_count": 25,
   "id": "112c01ed",
   "metadata": {},
   "outputs": [
    {
     "data": {
      "text/plain": [
       "product_id       0\n",
       "product_name     0\n",
       "department_id    0\n",
       "department       0\n",
       "aisle_id         0\n",
       "aisle            0\n",
       "dtype: int64"
      ]
     },
     "execution_count": 25,
     "metadata": {},
     "output_type": "execute_result"
    }
   ],
   "source": [
    "# Let's check if any missing values present\n",
    "product_details.isnull().sum()"
   ]
  },
  {
   "cell_type": "markdown",
   "id": "f80ca107",
   "metadata": {},
   "source": [
    "#### Merging the 'product_orders_train' with the 'product_details' dataset"
   ]
  },
  {
   "cell_type": "code",
   "execution_count": 26,
   "id": "f8b994ac",
   "metadata": {},
   "outputs": [
    {
     "name": "stdout",
     "output_type": "stream",
     "text": [
      "(1384617, 9)\n"
     ]
    },
    {
     "data": {
      "text/html": [
       "<div>\n",
       "<style scoped>\n",
       "    .dataframe tbody tr th:only-of-type {\n",
       "        vertical-align: middle;\n",
       "    }\n",
       "\n",
       "    .dataframe tbody tr th {\n",
       "        vertical-align: top;\n",
       "    }\n",
       "\n",
       "    .dataframe thead th {\n",
       "        text-align: right;\n",
       "    }\n",
       "</style>\n",
       "<table border=\"1\" class=\"dataframe\">\n",
       "  <thead>\n",
       "    <tr style=\"text-align: right;\">\n",
       "      <th></th>\n",
       "      <th>product_id</th>\n",
       "      <th>product_name</th>\n",
       "      <th>department_id</th>\n",
       "      <th>department</th>\n",
       "      <th>aisle_id</th>\n",
       "      <th>aisle</th>\n",
       "      <th>order_id</th>\n",
       "      <th>add_to_cart_order</th>\n",
       "      <th>reordered</th>\n",
       "    </tr>\n",
       "  </thead>\n",
       "  <tbody>\n",
       "    <tr>\n",
       "      <th>0</th>\n",
       "      <td>1</td>\n",
       "      <td>Chocolate Sandwich Cookies</td>\n",
       "      <td>19</td>\n",
       "      <td>snacks</td>\n",
       "      <td>61</td>\n",
       "      <td>cookies cakes</td>\n",
       "      <td>6695</td>\n",
       "      <td>7</td>\n",
       "      <td>1</td>\n",
       "    </tr>\n",
       "    <tr>\n",
       "      <th>1</th>\n",
       "      <td>1</td>\n",
       "      <td>Chocolate Sandwich Cookies</td>\n",
       "      <td>19</td>\n",
       "      <td>snacks</td>\n",
       "      <td>61</td>\n",
       "      <td>cookies cakes</td>\n",
       "      <td>48361</td>\n",
       "      <td>9</td>\n",
       "      <td>0</td>\n",
       "    </tr>\n",
       "    <tr>\n",
       "      <th>2</th>\n",
       "      <td>1</td>\n",
       "      <td>Chocolate Sandwich Cookies</td>\n",
       "      <td>19</td>\n",
       "      <td>snacks</td>\n",
       "      <td>61</td>\n",
       "      <td>cookies cakes</td>\n",
       "      <td>63770</td>\n",
       "      <td>4</td>\n",
       "      <td>0</td>\n",
       "    </tr>\n",
       "    <tr>\n",
       "      <th>3</th>\n",
       "      <td>1</td>\n",
       "      <td>Chocolate Sandwich Cookies</td>\n",
       "      <td>19</td>\n",
       "      <td>snacks</td>\n",
       "      <td>61</td>\n",
       "      <td>cookies cakes</td>\n",
       "      <td>75339</td>\n",
       "      <td>9</td>\n",
       "      <td>0</td>\n",
       "    </tr>\n",
       "    <tr>\n",
       "      <th>4</th>\n",
       "      <td>1</td>\n",
       "      <td>Chocolate Sandwich Cookies</td>\n",
       "      <td>19</td>\n",
       "      <td>snacks</td>\n",
       "      <td>61</td>\n",
       "      <td>cookies cakes</td>\n",
       "      <td>240996</td>\n",
       "      <td>3</td>\n",
       "      <td>1</td>\n",
       "    </tr>\n",
       "  </tbody>\n",
       "</table>\n",
       "</div>"
      ],
      "text/plain": [
       "   product_id                product_name  department_id department  aisle_id  \\\n",
       "0           1  Chocolate Sandwich Cookies             19     snacks        61   \n",
       "1           1  Chocolate Sandwich Cookies             19     snacks        61   \n",
       "2           1  Chocolate Sandwich Cookies             19     snacks        61   \n",
       "3           1  Chocolate Sandwich Cookies             19     snacks        61   \n",
       "4           1  Chocolate Sandwich Cookies             19     snacks        61   \n",
       "\n",
       "           aisle  order_id  add_to_cart_order  reordered  \n",
       "0  cookies cakes      6695                  7          1  \n",
       "1  cookies cakes     48361                  9          0  \n",
       "2  cookies cakes     63770                  4          0  \n",
       "3  cookies cakes     75339                  9          0  \n",
       "4  cookies cakes    240996                  3          1  "
      ]
     },
     "execution_count": 26,
     "metadata": {},
     "output_type": "execute_result"
    }
   ],
   "source": [
    "# merging the 'product_orders' & 'product_details' datasets to get additional info.\n",
    "merged_df = pd.merge(product_details, product_orders_train, on='product_id', how='inner')\n",
    "print(merged_df.shape)\n",
    "merged_df.head(5)"
   ]
  },
  {
   "cell_type": "code",
   "execution_count": 27,
   "id": "11e7c889",
   "metadata": {},
   "outputs": [
    {
     "data": {
      "text/plain": [
       "product_id           0\n",
       "product_name         0\n",
       "department_id        0\n",
       "department           0\n",
       "aisle_id             0\n",
       "aisle                0\n",
       "order_id             0\n",
       "add_to_cart_order    0\n",
       "reordered            0\n",
       "dtype: int64"
      ]
     },
     "execution_count": 27,
     "metadata": {},
     "output_type": "execute_result"
    }
   ],
   "source": [
    "# Let's check if any missing values present\n",
    "merged_df.isnull().sum()"
   ]
  },
  {
   "cell_type": "markdown",
   "id": "f0a78939",
   "metadata": {},
   "source": [
    "#### Merging with the 'orders' dataset to get the final dataset"
   ]
  },
  {
   "cell_type": "code",
   "execution_count": 28,
   "id": "0ff100d1",
   "metadata": {},
   "outputs": [
    {
     "name": "stdout",
     "output_type": "stream",
     "text": [
      "(1384617, 14)\n"
     ]
    },
    {
     "data": {
      "text/html": [
       "<div>\n",
       "<style scoped>\n",
       "    .dataframe tbody tr th:only-of-type {\n",
       "        vertical-align: middle;\n",
       "    }\n",
       "\n",
       "    .dataframe tbody tr th {\n",
       "        vertical-align: top;\n",
       "    }\n",
       "\n",
       "    .dataframe thead th {\n",
       "        text-align: right;\n",
       "    }\n",
       "</style>\n",
       "<table border=\"1\" class=\"dataframe\">\n",
       "  <thead>\n",
       "    <tr style=\"text-align: right;\">\n",
       "      <th></th>\n",
       "      <th>product_id</th>\n",
       "      <th>product_name</th>\n",
       "      <th>department_id</th>\n",
       "      <th>department</th>\n",
       "      <th>aisle_id</th>\n",
       "      <th>aisle</th>\n",
       "      <th>order_id</th>\n",
       "      <th>add_to_cart_order</th>\n",
       "      <th>reordered</th>\n",
       "      <th>user_id</th>\n",
       "      <th>order_number</th>\n",
       "      <th>order_day</th>\n",
       "      <th>order_hour_of_day</th>\n",
       "      <th>days_since_prior_order</th>\n",
       "    </tr>\n",
       "  </thead>\n",
       "  <tbody>\n",
       "    <tr>\n",
       "      <th>0</th>\n",
       "      <td>1</td>\n",
       "      <td>Chocolate Sandwich Cookies</td>\n",
       "      <td>19</td>\n",
       "      <td>snacks</td>\n",
       "      <td>61</td>\n",
       "      <td>cookies cakes</td>\n",
       "      <td>6695</td>\n",
       "      <td>7</td>\n",
       "      <td>1</td>\n",
       "      <td>1540</td>\n",
       "      <td>29</td>\n",
       "      <td>1</td>\n",
       "      <td>1</td>\n",
       "      <td>8</td>\n",
       "    </tr>\n",
       "    <tr>\n",
       "      <th>1</th>\n",
       "      <td>130</td>\n",
       "      <td>Vanilla Milk Chocolate Almond Ice Cream Bars M...</td>\n",
       "      <td>1</td>\n",
       "      <td>frozen</td>\n",
       "      <td>37</td>\n",
       "      <td>ice cream ice</td>\n",
       "      <td>6695</td>\n",
       "      <td>14</td>\n",
       "      <td>1</td>\n",
       "      <td>1540</td>\n",
       "      <td>29</td>\n",
       "      <td>1</td>\n",
       "      <td>1</td>\n",
       "      <td>8</td>\n",
       "    </tr>\n",
       "    <tr>\n",
       "      <th>2</th>\n",
       "      <td>3298</td>\n",
       "      <td>Mozzarella String Cheese</td>\n",
       "      <td>16</td>\n",
       "      <td>dairy eggs</td>\n",
       "      <td>21</td>\n",
       "      <td>packaged cheese</td>\n",
       "      <td>6695</td>\n",
       "      <td>13</td>\n",
       "      <td>1</td>\n",
       "      <td>1540</td>\n",
       "      <td>29</td>\n",
       "      <td>1</td>\n",
       "      <td>1</td>\n",
       "      <td>8</td>\n",
       "    </tr>\n",
       "    <tr>\n",
       "      <th>3</th>\n",
       "      <td>6184</td>\n",
       "      <td>Clementines</td>\n",
       "      <td>4</td>\n",
       "      <td>produce</td>\n",
       "      <td>32</td>\n",
       "      <td>packaged produce</td>\n",
       "      <td>6695</td>\n",
       "      <td>19</td>\n",
       "      <td>1</td>\n",
       "      <td>1540</td>\n",
       "      <td>29</td>\n",
       "      <td>1</td>\n",
       "      <td>1</td>\n",
       "      <td>8</td>\n",
       "    </tr>\n",
       "    <tr>\n",
       "      <th>4</th>\n",
       "      <td>9007</td>\n",
       "      <td>Frosted Flakes</td>\n",
       "      <td>14</td>\n",
       "      <td>breakfast</td>\n",
       "      <td>121</td>\n",
       "      <td>cereal</td>\n",
       "      <td>6695</td>\n",
       "      <td>9</td>\n",
       "      <td>1</td>\n",
       "      <td>1540</td>\n",
       "      <td>29</td>\n",
       "      <td>1</td>\n",
       "      <td>1</td>\n",
       "      <td>8</td>\n",
       "    </tr>\n",
       "  </tbody>\n",
       "</table>\n",
       "</div>"
      ],
      "text/plain": [
       "   product_id                                       product_name  \\\n",
       "0           1                         Chocolate Sandwich Cookies   \n",
       "1         130  Vanilla Milk Chocolate Almond Ice Cream Bars M...   \n",
       "2        3298                           Mozzarella String Cheese   \n",
       "3        6184                                        Clementines   \n",
       "4        9007                                     Frosted Flakes   \n",
       "\n",
       "   department_id  department  aisle_id             aisle  order_id  \\\n",
       "0             19      snacks        61     cookies cakes      6695   \n",
       "1              1      frozen        37     ice cream ice      6695   \n",
       "2             16  dairy eggs        21   packaged cheese      6695   \n",
       "3              4     produce        32  packaged produce      6695   \n",
       "4             14   breakfast       121            cereal      6695   \n",
       "\n",
       "   add_to_cart_order  reordered  user_id  order_number  order_day  \\\n",
       "0                  7          1     1540            29          1   \n",
       "1                 14          1     1540            29          1   \n",
       "2                 13          1     1540            29          1   \n",
       "3                 19          1     1540            29          1   \n",
       "4                  9          1     1540            29          1   \n",
       "\n",
       "   order_hour_of_day  days_since_prior_order  \n",
       "0                  1                       8  \n",
       "1                  1                       8  \n",
       "2                  1                       8  \n",
       "3                  1                       8  \n",
       "4                  1                       8  "
      ]
     },
     "execution_count": 28,
     "metadata": {},
     "output_type": "execute_result"
    }
   ],
   "source": [
    "# merging to get the final dataset\n",
    "new_df = pd.merge(merged_df, orders, on='order_id', how='inner')\n",
    "print(new_df.shape)\n",
    "new_df.head(5)"
   ]
  },
  {
   "cell_type": "code",
   "execution_count": 29,
   "id": "a2689d8e",
   "metadata": {},
   "outputs": [
    {
     "data": {
      "text/plain": [
       "product_id                0\n",
       "product_name              0\n",
       "department_id             0\n",
       "department                0\n",
       "aisle_id                  0\n",
       "aisle                     0\n",
       "order_id                  0\n",
       "add_to_cart_order         0\n",
       "reordered                 0\n",
       "user_id                   0\n",
       "order_number              0\n",
       "order_day                 0\n",
       "order_hour_of_day         0\n",
       "days_since_prior_order    0\n",
       "dtype: int64"
      ]
     },
     "execution_count": 29,
     "metadata": {},
     "output_type": "execute_result"
    }
   ],
   "source": [
    "# Let's check if any missing values present\n",
    "new_df.isnull().sum()"
   ]
  },
  {
   "cell_type": "code",
   "execution_count": 30,
   "id": "b905f18a",
   "metadata": {},
   "outputs": [
    {
     "name": "stdout",
     "output_type": "stream",
     "text": [
      "(1384617, 14)\n"
     ]
    },
    {
     "data": {
      "text/html": [
       "<div>\n",
       "<style scoped>\n",
       "    .dataframe tbody tr th:only-of-type {\n",
       "        vertical-align: middle;\n",
       "    }\n",
       "\n",
       "    .dataframe tbody tr th {\n",
       "        vertical-align: top;\n",
       "    }\n",
       "\n",
       "    .dataframe thead th {\n",
       "        text-align: right;\n",
       "    }\n",
       "</style>\n",
       "<table border=\"1\" class=\"dataframe\">\n",
       "  <thead>\n",
       "    <tr style=\"text-align: right;\">\n",
       "      <th></th>\n",
       "      <th>user_id</th>\n",
       "      <th>order_id</th>\n",
       "      <th>order_number</th>\n",
       "      <th>product_id</th>\n",
       "      <th>product_name</th>\n",
       "      <th>department_id</th>\n",
       "      <th>department</th>\n",
       "      <th>aisle_id</th>\n",
       "      <th>aisle</th>\n",
       "      <th>order_day</th>\n",
       "      <th>order_hour_of_day</th>\n",
       "      <th>days_since_prior_order</th>\n",
       "      <th>add_to_cart_order</th>\n",
       "      <th>reordered</th>\n",
       "    </tr>\n",
       "  </thead>\n",
       "  <tbody>\n",
       "    <tr>\n",
       "      <th>0</th>\n",
       "      <td>1540</td>\n",
       "      <td>6695</td>\n",
       "      <td>29</td>\n",
       "      <td>1</td>\n",
       "      <td>Chocolate Sandwich Cookies</td>\n",
       "      <td>19</td>\n",
       "      <td>snacks</td>\n",
       "      <td>61</td>\n",
       "      <td>cookies cakes</td>\n",
       "      <td>1</td>\n",
       "      <td>1</td>\n",
       "      <td>8</td>\n",
       "      <td>7</td>\n",
       "      <td>1</td>\n",
       "    </tr>\n",
       "    <tr>\n",
       "      <th>1</th>\n",
       "      <td>1540</td>\n",
       "      <td>6695</td>\n",
       "      <td>29</td>\n",
       "      <td>130</td>\n",
       "      <td>Vanilla Milk Chocolate Almond Ice Cream Bars M...</td>\n",
       "      <td>1</td>\n",
       "      <td>frozen</td>\n",
       "      <td>37</td>\n",
       "      <td>ice cream ice</td>\n",
       "      <td>1</td>\n",
       "      <td>1</td>\n",
       "      <td>8</td>\n",
       "      <td>14</td>\n",
       "      <td>1</td>\n",
       "    </tr>\n",
       "    <tr>\n",
       "      <th>2</th>\n",
       "      <td>1540</td>\n",
       "      <td>6695</td>\n",
       "      <td>29</td>\n",
       "      <td>3298</td>\n",
       "      <td>Mozzarella String Cheese</td>\n",
       "      <td>16</td>\n",
       "      <td>dairy eggs</td>\n",
       "      <td>21</td>\n",
       "      <td>packaged cheese</td>\n",
       "      <td>1</td>\n",
       "      <td>1</td>\n",
       "      <td>8</td>\n",
       "      <td>13</td>\n",
       "      <td>1</td>\n",
       "    </tr>\n",
       "    <tr>\n",
       "      <th>3</th>\n",
       "      <td>1540</td>\n",
       "      <td>6695</td>\n",
       "      <td>29</td>\n",
       "      <td>6184</td>\n",
       "      <td>Clementines</td>\n",
       "      <td>4</td>\n",
       "      <td>produce</td>\n",
       "      <td>32</td>\n",
       "      <td>packaged produce</td>\n",
       "      <td>1</td>\n",
       "      <td>1</td>\n",
       "      <td>8</td>\n",
       "      <td>19</td>\n",
       "      <td>1</td>\n",
       "    </tr>\n",
       "    <tr>\n",
       "      <th>4</th>\n",
       "      <td>1540</td>\n",
       "      <td>6695</td>\n",
       "      <td>29</td>\n",
       "      <td>9007</td>\n",
       "      <td>Frosted Flakes</td>\n",
       "      <td>14</td>\n",
       "      <td>breakfast</td>\n",
       "      <td>121</td>\n",
       "      <td>cereal</td>\n",
       "      <td>1</td>\n",
       "      <td>1</td>\n",
       "      <td>8</td>\n",
       "      <td>9</td>\n",
       "      <td>1</td>\n",
       "    </tr>\n",
       "  </tbody>\n",
       "</table>\n",
       "</div>"
      ],
      "text/plain": [
       "   user_id  order_id  order_number  product_id  \\\n",
       "0     1540      6695            29           1   \n",
       "1     1540      6695            29         130   \n",
       "2     1540      6695            29        3298   \n",
       "3     1540      6695            29        6184   \n",
       "4     1540      6695            29        9007   \n",
       "\n",
       "                                        product_name  department_id  \\\n",
       "0                         Chocolate Sandwich Cookies             19   \n",
       "1  Vanilla Milk Chocolate Almond Ice Cream Bars M...              1   \n",
       "2                           Mozzarella String Cheese             16   \n",
       "3                                        Clementines              4   \n",
       "4                                     Frosted Flakes             14   \n",
       "\n",
       "   department  aisle_id             aisle  order_day  order_hour_of_day  \\\n",
       "0      snacks        61     cookies cakes          1                  1   \n",
       "1      frozen        37     ice cream ice          1                  1   \n",
       "2  dairy eggs        21   packaged cheese          1                  1   \n",
       "3     produce        32  packaged produce          1                  1   \n",
       "4   breakfast       121            cereal          1                  1   \n",
       "\n",
       "   days_since_prior_order  add_to_cart_order  reordered  \n",
       "0                       8                  7          1  \n",
       "1                       8                 14          1  \n",
       "2                       8                 13          1  \n",
       "3                       8                 19          1  \n",
       "4                       8                  9          1  "
      ]
     },
     "execution_count": 30,
     "metadata": {},
     "output_type": "execute_result"
    }
   ],
   "source": [
    "# Re-ordering the columns\n",
    "new_df = new_df.reindex(columns=['user_id', 'order_id', 'order_number', 'product_id', 'product_name', 'department_id', \n",
    "                                 'department', 'aisle_id', 'aisle', 'order_day', 'order_hour_of_day', \n",
    "                                 'days_since_prior_order', 'add_to_cart_order', 'reordered'])\n",
    "print(new_df.shape)\n",
    "new_df.head(5)"
   ]
  },
  {
   "cell_type": "markdown",
   "id": "668b413e",
   "metadata": {},
   "source": [
    "### Feature Engineering"
   ]
  },
  {
   "cell_type": "markdown",
   "id": "dd4ad7a1",
   "metadata": {},
   "source": [
    "##### Adding a new 'product_reorder_rate' column"
   ]
  },
  {
   "cell_type": "code",
   "execution_count": 31,
   "id": "63396113",
   "metadata": {},
   "outputs": [
    {
     "name": "stdout",
     "output_type": "stream",
     "text": [
      "(65183, 3)\n"
     ]
    },
    {
     "data": {
      "text/html": [
       "<div>\n",
       "<style scoped>\n",
       "    .dataframe tbody tr th:only-of-type {\n",
       "        vertical-align: middle;\n",
       "    }\n",
       "\n",
       "    .dataframe tbody tr th {\n",
       "        vertical-align: top;\n",
       "    }\n",
       "\n",
       "    .dataframe thead th {\n",
       "        text-align: right;\n",
       "    }\n",
       "</style>\n",
       "<table border=\"1\" class=\"dataframe\">\n",
       "  <thead>\n",
       "    <tr style=\"text-align: right;\">\n",
       "      <th></th>\n",
       "      <th>product_id</th>\n",
       "      <th>reordered</th>\n",
       "      <th>product_reorder_rate</th>\n",
       "    </tr>\n",
       "  </thead>\n",
       "  <tbody>\n",
       "    <tr>\n",
       "      <th>0</th>\n",
       "      <td>1</td>\n",
       "      <td>0</td>\n",
       "      <td>0.355263</td>\n",
       "    </tr>\n",
       "    <tr>\n",
       "      <th>1</th>\n",
       "      <td>1</td>\n",
       "      <td>1</td>\n",
       "      <td>0.644737</td>\n",
       "    </tr>\n",
       "    <tr>\n",
       "      <th>2</th>\n",
       "      <td>2</td>\n",
       "      <td>0</td>\n",
       "      <td>0.750000</td>\n",
       "    </tr>\n",
       "    <tr>\n",
       "      <th>3</th>\n",
       "      <td>2</td>\n",
       "      <td>1</td>\n",
       "      <td>0.250000</td>\n",
       "    </tr>\n",
       "    <tr>\n",
       "      <th>4</th>\n",
       "      <td>3</td>\n",
       "      <td>1</td>\n",
       "      <td>1.000000</td>\n",
       "    </tr>\n",
       "  </tbody>\n",
       "</table>\n",
       "</div>"
      ],
      "text/plain": [
       "   product_id  reordered  product_reorder_rate\n",
       "0           1          0              0.355263\n",
       "1           1          1              0.644737\n",
       "2           2          0              0.750000\n",
       "3           2          1              0.250000\n",
       "4           3          1              1.000000"
      ]
     },
     "execution_count": 31,
     "metadata": {},
     "output_type": "execute_result"
    }
   ],
   "source": [
    "# Get the 'reorder_rate' for each product, i.e., how frequently the product was reordered regardless the user preference?\n",
    "# reorder_rate = reorders / total orders\n",
    "df = pd.DataFrame({'product_reorder_rate': new_df.groupby(['product_id','reordered'])['reordered'].count().groupby(['product_id']).apply(lambda x: x / float(x.sum()))}).reset_index()\n",
    "print(df.shape)\n",
    "df.head(5)"
   ]
  },
  {
   "cell_type": "code",
   "execution_count": 32,
   "id": "82b403f6",
   "metadata": {},
   "outputs": [
    {
     "data": {
      "text/html": [
       "<div>\n",
       "<style scoped>\n",
       "    .dataframe tbody tr th:only-of-type {\n",
       "        vertical-align: middle;\n",
       "    }\n",
       "\n",
       "    .dataframe tbody tr th {\n",
       "        vertical-align: top;\n",
       "    }\n",
       "\n",
       "    .dataframe thead th {\n",
       "        text-align: right;\n",
       "    }\n",
       "</style>\n",
       "<table border=\"1\" class=\"dataframe\">\n",
       "  <thead>\n",
       "    <tr style=\"text-align: right;\">\n",
       "      <th></th>\n",
       "      <th>product_id</th>\n",
       "      <th>reordered</th>\n",
       "      <th>product_reorder_rate</th>\n",
       "    </tr>\n",
       "  </thead>\n",
       "  <tbody>\n",
       "    <tr>\n",
       "      <th>1</th>\n",
       "      <td>1</td>\n",
       "      <td>1</td>\n",
       "      <td>0.644737</td>\n",
       "    </tr>\n",
       "    <tr>\n",
       "      <th>3</th>\n",
       "      <td>2</td>\n",
       "      <td>1</td>\n",
       "      <td>0.250000</td>\n",
       "    </tr>\n",
       "    <tr>\n",
       "      <th>4</th>\n",
       "      <td>3</td>\n",
       "      <td>1</td>\n",
       "      <td>1.000000</td>\n",
       "    </tr>\n",
       "    <tr>\n",
       "      <th>6</th>\n",
       "      <td>4</td>\n",
       "      <td>1</td>\n",
       "      <td>0.636364</td>\n",
       "    </tr>\n",
       "    <tr>\n",
       "      <th>7</th>\n",
       "      <td>5</td>\n",
       "      <td>1</td>\n",
       "      <td>1.000000</td>\n",
       "    </tr>\n",
       "    <tr>\n",
       "      <th>...</th>\n",
       "      <td>...</td>\n",
       "      <td>...</td>\n",
       "      <td>...</td>\n",
       "    </tr>\n",
       "    <tr>\n",
       "      <th>65172</th>\n",
       "      <td>49680</td>\n",
       "      <td>1</td>\n",
       "      <td>0.282609</td>\n",
       "    </tr>\n",
       "    <tr>\n",
       "      <th>65174</th>\n",
       "      <td>49681</td>\n",
       "      <td>1</td>\n",
       "      <td>0.625000</td>\n",
       "    </tr>\n",
       "    <tr>\n",
       "      <th>65177</th>\n",
       "      <td>49683</td>\n",
       "      <td>1</td>\n",
       "      <td>0.708247</td>\n",
       "    </tr>\n",
       "    <tr>\n",
       "      <th>65179</th>\n",
       "      <td>49686</td>\n",
       "      <td>1</td>\n",
       "      <td>0.714286</td>\n",
       "    </tr>\n",
       "    <tr>\n",
       "      <th>65182</th>\n",
       "      <td>49688</td>\n",
       "      <td>1</td>\n",
       "      <td>0.250000</td>\n",
       "    </tr>\n",
       "  </tbody>\n",
       "</table>\n",
       "<p>30176 rows × 3 columns</p>\n",
       "</div>"
      ],
      "text/plain": [
       "       product_id  reordered  product_reorder_rate\n",
       "1               1          1              0.644737\n",
       "3               2          1              0.250000\n",
       "4               3          1              1.000000\n",
       "6               4          1              0.636364\n",
       "7               5          1              1.000000\n",
       "...           ...        ...                   ...\n",
       "65172       49680          1              0.282609\n",
       "65174       49681          1              0.625000\n",
       "65177       49683          1              0.708247\n",
       "65179       49686          1              0.714286\n",
       "65182       49688          1              0.250000\n",
       "\n",
       "[30176 rows x 3 columns]"
      ]
     },
     "execution_count": 32,
     "metadata": {},
     "output_type": "execute_result"
    }
   ],
   "source": [
    "# get data of reordered products only\n",
    "df[df['reordered']==1]"
   ]
  },
  {
   "cell_type": "code",
   "execution_count": 33,
   "id": "529c0f23",
   "metadata": {},
   "outputs": [
    {
     "data": {
      "text/html": [
       "<div>\n",
       "<style scoped>\n",
       "    .dataframe tbody tr th:only-of-type {\n",
       "        vertical-align: middle;\n",
       "    }\n",
       "\n",
       "    .dataframe tbody tr th {\n",
       "        vertical-align: top;\n",
       "    }\n",
       "\n",
       "    .dataframe thead th {\n",
       "        text-align: right;\n",
       "    }\n",
       "</style>\n",
       "<table border=\"1\" class=\"dataframe\">\n",
       "  <thead>\n",
       "    <tr style=\"text-align: right;\">\n",
       "      <th></th>\n",
       "      <th>product_id</th>\n",
       "      <th>reordered</th>\n",
       "      <th>product_reorder_rate</th>\n",
       "    </tr>\n",
       "  </thead>\n",
       "  <tbody>\n",
       "    <tr>\n",
       "      <th>19</th>\n",
       "      <td>13</td>\n",
       "      <td>0</td>\n",
       "      <td>1.0</td>\n",
       "    </tr>\n",
       "    <tr>\n",
       "      <th>20</th>\n",
       "      <td>14</td>\n",
       "      <td>0</td>\n",
       "      <td>1.0</td>\n",
       "    </tr>\n",
       "    <tr>\n",
       "      <th>21</th>\n",
       "      <td>15</td>\n",
       "      <td>0</td>\n",
       "      <td>1.0</td>\n",
       "    </tr>\n",
       "    <tr>\n",
       "      <th>22</th>\n",
       "      <td>16</td>\n",
       "      <td>0</td>\n",
       "      <td>1.0</td>\n",
       "    </tr>\n",
       "    <tr>\n",
       "      <th>25</th>\n",
       "      <td>21</td>\n",
       "      <td>0</td>\n",
       "      <td>1.0</td>\n",
       "    </tr>\n",
       "    <tr>\n",
       "      <th>...</th>\n",
       "      <td>...</td>\n",
       "      <td>...</td>\n",
       "      <td>...</td>\n",
       "    </tr>\n",
       "    <tr>\n",
       "      <th>65142</th>\n",
       "      <td>49653</td>\n",
       "      <td>0</td>\n",
       "      <td>1.0</td>\n",
       "    </tr>\n",
       "    <tr>\n",
       "      <th>65145</th>\n",
       "      <td>49658</td>\n",
       "      <td>0</td>\n",
       "      <td>1.0</td>\n",
       "    </tr>\n",
       "    <tr>\n",
       "      <th>65146</th>\n",
       "      <td>49659</td>\n",
       "      <td>0</td>\n",
       "      <td>1.0</td>\n",
       "    </tr>\n",
       "    <tr>\n",
       "      <th>65175</th>\n",
       "      <td>49682</td>\n",
       "      <td>0</td>\n",
       "      <td>1.0</td>\n",
       "    </tr>\n",
       "    <tr>\n",
       "      <th>65180</th>\n",
       "      <td>49687</td>\n",
       "      <td>0</td>\n",
       "      <td>1.0</td>\n",
       "    </tr>\n",
       "  </tbody>\n",
       "</table>\n",
       "<p>8947 rows × 3 columns</p>\n",
       "</div>"
      ],
      "text/plain": [
       "       product_id  reordered  product_reorder_rate\n",
       "19             13          0                   1.0\n",
       "20             14          0                   1.0\n",
       "21             15          0                   1.0\n",
       "22             16          0                   1.0\n",
       "25             21          0                   1.0\n",
       "...           ...        ...                   ...\n",
       "65142       49653          0                   1.0\n",
       "65145       49658          0                   1.0\n",
       "65146       49659          0                   1.0\n",
       "65175       49682          0                   1.0\n",
       "65180       49687          0                   1.0\n",
       "\n",
       "[8947 rows x 3 columns]"
      ]
     },
     "execution_count": 33,
     "metadata": {},
     "output_type": "execute_result"
    }
   ],
   "source": [
    "# get data for products which were never reordered\n",
    "df[(df['reordered']==0) & (df['product_reorder_rate']==float(1.0))]"
   ]
  },
  {
   "cell_type": "code",
   "execution_count": 34,
   "id": "074cff4f",
   "metadata": {},
   "outputs": [
    {
     "data": {
      "text/html": [
       "<div>\n",
       "<style scoped>\n",
       "    .dataframe tbody tr th:only-of-type {\n",
       "        vertical-align: middle;\n",
       "    }\n",
       "\n",
       "    .dataframe tbody tr th {\n",
       "        vertical-align: top;\n",
       "    }\n",
       "\n",
       "    .dataframe thead th {\n",
       "        text-align: right;\n",
       "    }\n",
       "</style>\n",
       "<table border=\"1\" class=\"dataframe\">\n",
       "  <thead>\n",
       "    <tr style=\"text-align: right;\">\n",
       "      <th></th>\n",
       "      <th>product_id</th>\n",
       "      <th>reordered</th>\n",
       "      <th>product_reorder_rate</th>\n",
       "    </tr>\n",
       "  </thead>\n",
       "  <tbody>\n",
       "    <tr>\n",
       "      <th>0</th>\n",
       "      <td>1</td>\n",
       "      <td>0</td>\n",
       "      <td>0.355263</td>\n",
       "    </tr>\n",
       "    <tr>\n",
       "      <th>1</th>\n",
       "      <td>1</td>\n",
       "      <td>1</td>\n",
       "      <td>0.644737</td>\n",
       "    </tr>\n",
       "    <tr>\n",
       "      <th>2</th>\n",
       "      <td>2</td>\n",
       "      <td>0</td>\n",
       "      <td>0.750000</td>\n",
       "    </tr>\n",
       "    <tr>\n",
       "      <th>3</th>\n",
       "      <td>2</td>\n",
       "      <td>1</td>\n",
       "      <td>0.250000</td>\n",
       "    </tr>\n",
       "    <tr>\n",
       "      <th>4</th>\n",
       "      <td>3</td>\n",
       "      <td>1</td>\n",
       "      <td>1.000000</td>\n",
       "    </tr>\n",
       "  </tbody>\n",
       "</table>\n",
       "</div>"
      ],
      "text/plain": [
       "   product_id  reordered  product_reorder_rate\n",
       "0           1          0              0.355263\n",
       "1           1          1              0.644737\n",
       "2           2          0              0.750000\n",
       "3           2          1              0.250000\n",
       "4           3          1              1.000000"
      ]
     },
     "execution_count": 34,
     "metadata": {},
     "output_type": "execute_result"
    }
   ],
   "source": [
    "# handling such products, since never reordered so reorder_rate = 0.0\n",
    "df.loc[((df['reordered']==0) & (df['product_reorder_rate']==float(1.0))), 'product_reorder_rate'] = 0.0\n",
    "df.head(5)"
   ]
  },
  {
   "cell_type": "code",
   "execution_count": 35,
   "id": "e2e59773",
   "metadata": {},
   "outputs": [
    {
     "name": "stdout",
     "output_type": "stream",
     "text": [
      "(1384617, 15)\n"
     ]
    },
    {
     "data": {
      "text/html": [
       "<div>\n",
       "<style scoped>\n",
       "    .dataframe tbody tr th:only-of-type {\n",
       "        vertical-align: middle;\n",
       "    }\n",
       "\n",
       "    .dataframe tbody tr th {\n",
       "        vertical-align: top;\n",
       "    }\n",
       "\n",
       "    .dataframe thead th {\n",
       "        text-align: right;\n",
       "    }\n",
       "</style>\n",
       "<table border=\"1\" class=\"dataframe\">\n",
       "  <thead>\n",
       "    <tr style=\"text-align: right;\">\n",
       "      <th></th>\n",
       "      <th>user_id</th>\n",
       "      <th>order_id</th>\n",
       "      <th>order_number</th>\n",
       "      <th>product_id</th>\n",
       "      <th>product_name</th>\n",
       "      <th>department_id</th>\n",
       "      <th>department</th>\n",
       "      <th>aisle_id</th>\n",
       "      <th>aisle</th>\n",
       "      <th>order_day</th>\n",
       "      <th>order_hour_of_day</th>\n",
       "      <th>days_since_prior_order</th>\n",
       "      <th>add_to_cart_order</th>\n",
       "      <th>reordered</th>\n",
       "      <th>product_reorder_rate</th>\n",
       "    </tr>\n",
       "  </thead>\n",
       "  <tbody>\n",
       "    <tr>\n",
       "      <th>0</th>\n",
       "      <td>1540</td>\n",
       "      <td>6695</td>\n",
       "      <td>29</td>\n",
       "      <td>1</td>\n",
       "      <td>Chocolate Sandwich Cookies</td>\n",
       "      <td>19</td>\n",
       "      <td>snacks</td>\n",
       "      <td>61</td>\n",
       "      <td>cookies cakes</td>\n",
       "      <td>1</td>\n",
       "      <td>1</td>\n",
       "      <td>8</td>\n",
       "      <td>7</td>\n",
       "      <td>1</td>\n",
       "      <td>0.644737</td>\n",
       "    </tr>\n",
       "    <tr>\n",
       "      <th>1</th>\n",
       "      <td>57938</td>\n",
       "      <td>240996</td>\n",
       "      <td>49</td>\n",
       "      <td>1</td>\n",
       "      <td>Chocolate Sandwich Cookies</td>\n",
       "      <td>19</td>\n",
       "      <td>snacks</td>\n",
       "      <td>61</td>\n",
       "      <td>cookies cakes</td>\n",
       "      <td>4</td>\n",
       "      <td>11</td>\n",
       "      <td>21</td>\n",
       "      <td>3</td>\n",
       "      <td>1</td>\n",
       "      <td>0.644737</td>\n",
       "    </tr>\n",
       "    <tr>\n",
       "      <th>2</th>\n",
       "      <td>21054</td>\n",
       "      <td>253400</td>\n",
       "      <td>4</td>\n",
       "      <td>1</td>\n",
       "      <td>Chocolate Sandwich Cookies</td>\n",
       "      <td>19</td>\n",
       "      <td>snacks</td>\n",
       "      <td>61</td>\n",
       "      <td>cookies cakes</td>\n",
       "      <td>3</td>\n",
       "      <td>14</td>\n",
       "      <td>30</td>\n",
       "      <td>4</td>\n",
       "      <td>1</td>\n",
       "      <td>0.644737</td>\n",
       "    </tr>\n",
       "    <tr>\n",
       "      <th>3</th>\n",
       "      <td>66968</td>\n",
       "      <td>273262</td>\n",
       "      <td>18</td>\n",
       "      <td>1</td>\n",
       "      <td>Chocolate Sandwich Cookies</td>\n",
       "      <td>19</td>\n",
       "      <td>snacks</td>\n",
       "      <td>61</td>\n",
       "      <td>cookies cakes</td>\n",
       "      <td>6</td>\n",
       "      <td>10</td>\n",
       "      <td>18</td>\n",
       "      <td>1</td>\n",
       "      <td>1</td>\n",
       "      <td>0.644737</td>\n",
       "    </tr>\n",
       "    <tr>\n",
       "      <th>4</th>\n",
       "      <td>54868</td>\n",
       "      <td>298510</td>\n",
       "      <td>5</td>\n",
       "      <td>1</td>\n",
       "      <td>Chocolate Sandwich Cookies</td>\n",
       "      <td>19</td>\n",
       "      <td>snacks</td>\n",
       "      <td>61</td>\n",
       "      <td>cookies cakes</td>\n",
       "      <td>3</td>\n",
       "      <td>12</td>\n",
       "      <td>14</td>\n",
       "      <td>1</td>\n",
       "      <td>1</td>\n",
       "      <td>0.644737</td>\n",
       "    </tr>\n",
       "  </tbody>\n",
       "</table>\n",
       "</div>"
      ],
      "text/plain": [
       "   user_id  order_id  order_number  product_id                product_name  \\\n",
       "0     1540      6695            29           1  Chocolate Sandwich Cookies   \n",
       "1    57938    240996            49           1  Chocolate Sandwich Cookies   \n",
       "2    21054    253400             4           1  Chocolate Sandwich Cookies   \n",
       "3    66968    273262            18           1  Chocolate Sandwich Cookies   \n",
       "4    54868    298510             5           1  Chocolate Sandwich Cookies   \n",
       "\n",
       "   department_id department  aisle_id          aisle  order_day  \\\n",
       "0             19     snacks        61  cookies cakes          1   \n",
       "1             19     snacks        61  cookies cakes          4   \n",
       "2             19     snacks        61  cookies cakes          3   \n",
       "3             19     snacks        61  cookies cakes          6   \n",
       "4             19     snacks        61  cookies cakes          3   \n",
       "\n",
       "   order_hour_of_day  days_since_prior_order  add_to_cart_order  reordered  \\\n",
       "0                  1                       8                  7          1   \n",
       "1                 11                      21                  3          1   \n",
       "2                 14                      30                  4          1   \n",
       "3                 10                      18                  1          1   \n",
       "4                 12                      14                  1          1   \n",
       "\n",
       "   product_reorder_rate  \n",
       "0              0.644737  \n",
       "1              0.644737  \n",
       "2              0.644737  \n",
       "3              0.644737  \n",
       "4              0.644737  "
      ]
     },
     "execution_count": 35,
     "metadata": {},
     "output_type": "execute_result"
    }
   ],
   "source": [
    "# merging it with the 'new_df' dataset\n",
    "sales = pd.merge(new_df, df, on=['product_id', 'reordered'], how='inner')\n",
    "print(sales.shape)\n",
    "sales.head(5)"
   ]
  },
  {
   "cell_type": "markdown",
   "id": "d13625de",
   "metadata": {},
   "source": [
    "##### Adding a new 'user_reorder_rate' column"
   ]
  },
  {
   "cell_type": "code",
   "execution_count": 36,
   "id": "3c9ffc7d",
   "metadata": {},
   "outputs": [
    {
     "name": "stdout",
     "output_type": "stream",
     "text": [
      "(229615, 3)\n"
     ]
    },
    {
     "data": {
      "text/html": [
       "<div>\n",
       "<style scoped>\n",
       "    .dataframe tbody tr th:only-of-type {\n",
       "        vertical-align: middle;\n",
       "    }\n",
       "\n",
       "    .dataframe tbody tr th {\n",
       "        vertical-align: top;\n",
       "    }\n",
       "\n",
       "    .dataframe thead th {\n",
       "        text-align: right;\n",
       "    }\n",
       "</style>\n",
       "<table border=\"1\" class=\"dataframe\">\n",
       "  <thead>\n",
       "    <tr style=\"text-align: right;\">\n",
       "      <th></th>\n",
       "      <th>user_id</th>\n",
       "      <th>reordered</th>\n",
       "      <th>user_reorder_rate</th>\n",
       "    </tr>\n",
       "  </thead>\n",
       "  <tbody>\n",
       "    <tr>\n",
       "      <th>0</th>\n",
       "      <td>1</td>\n",
       "      <td>0</td>\n",
       "      <td>0.090909</td>\n",
       "    </tr>\n",
       "    <tr>\n",
       "      <th>1</th>\n",
       "      <td>1</td>\n",
       "      <td>1</td>\n",
       "      <td>0.909091</td>\n",
       "    </tr>\n",
       "    <tr>\n",
       "      <th>2</th>\n",
       "      <td>2</td>\n",
       "      <td>0</td>\n",
       "      <td>0.612903</td>\n",
       "    </tr>\n",
       "    <tr>\n",
       "      <th>3</th>\n",
       "      <td>2</td>\n",
       "      <td>1</td>\n",
       "      <td>0.387097</td>\n",
       "    </tr>\n",
       "    <tr>\n",
       "      <th>4</th>\n",
       "      <td>5</td>\n",
       "      <td>0</td>\n",
       "      <td>0.555556</td>\n",
       "    </tr>\n",
       "  </tbody>\n",
       "</table>\n",
       "</div>"
      ],
      "text/plain": [
       "   user_id  reordered  user_reorder_rate\n",
       "0        1          0           0.090909\n",
       "1        1          1           0.909091\n",
       "2        2          0           0.612903\n",
       "3        2          1           0.387097\n",
       "4        5          0           0.555556"
      ]
     },
     "execution_count": 36,
     "metadata": {},
     "output_type": "execute_result"
    }
   ],
   "source": [
    "# Get the 'reorder_rate' for each user, i.e., what is the reorder rate on orders placed by a user?\n",
    "# reorder_rate = reorders / total orders\n",
    "user_df = pd.DataFrame({'user_reorder_rate': new_df.groupby(['user_id','reordered'])['reordered'].count().groupby(['user_id']).apply(lambda x: x / float(x.sum()))}).reset_index()\n",
    "print(user_df.shape)\n",
    "user_df.head(5)"
   ]
  },
  {
   "cell_type": "code",
   "execution_count": 37,
   "id": "6c2c097a",
   "metadata": {},
   "outputs": [
    {
     "data": {
      "text/html": [
       "<div>\n",
       "<style scoped>\n",
       "    .dataframe tbody tr th:only-of-type {\n",
       "        vertical-align: middle;\n",
       "    }\n",
       "\n",
       "    .dataframe tbody tr th {\n",
       "        vertical-align: top;\n",
       "    }\n",
       "\n",
       "    .dataframe thead th {\n",
       "        text-align: right;\n",
       "    }\n",
       "</style>\n",
       "<table border=\"1\" class=\"dataframe\">\n",
       "  <thead>\n",
       "    <tr style=\"text-align: right;\">\n",
       "      <th></th>\n",
       "      <th>user_id</th>\n",
       "      <th>reordered</th>\n",
       "      <th>user_reorder_rate</th>\n",
       "    </tr>\n",
       "  </thead>\n",
       "  <tbody>\n",
       "    <tr>\n",
       "      <th>1</th>\n",
       "      <td>1</td>\n",
       "      <td>1</td>\n",
       "      <td>0.909091</td>\n",
       "    </tr>\n",
       "    <tr>\n",
       "      <th>3</th>\n",
       "      <td>2</td>\n",
       "      <td>1</td>\n",
       "      <td>0.387097</td>\n",
       "    </tr>\n",
       "    <tr>\n",
       "      <th>5</th>\n",
       "      <td>5</td>\n",
       "      <td>1</td>\n",
       "      <td>0.444444</td>\n",
       "    </tr>\n",
       "    <tr>\n",
       "      <th>7</th>\n",
       "      <td>7</td>\n",
       "      <td>1</td>\n",
       "      <td>0.888889</td>\n",
       "    </tr>\n",
       "    <tr>\n",
       "      <th>9</th>\n",
       "      <td>8</td>\n",
       "      <td>1</td>\n",
       "      <td>0.222222</td>\n",
       "    </tr>\n",
       "    <tr>\n",
       "      <th>...</th>\n",
       "      <td>...</td>\n",
       "      <td>...</td>\n",
       "      <td>...</td>\n",
       "    </tr>\n",
       "    <tr>\n",
       "      <th>229606</th>\n",
       "      <td>206199</td>\n",
       "      <td>1</td>\n",
       "      <td>0.636364</td>\n",
       "    </tr>\n",
       "    <tr>\n",
       "      <th>229608</th>\n",
       "      <td>206200</td>\n",
       "      <td>1</td>\n",
       "      <td>0.578947</td>\n",
       "    </tr>\n",
       "    <tr>\n",
       "      <th>229610</th>\n",
       "      <td>206203</td>\n",
       "      <td>1</td>\n",
       "      <td>0.923077</td>\n",
       "    </tr>\n",
       "    <tr>\n",
       "      <th>229612</th>\n",
       "      <td>206205</td>\n",
       "      <td>1</td>\n",
       "      <td>0.315789</td>\n",
       "    </tr>\n",
       "    <tr>\n",
       "      <th>229614</th>\n",
       "      <td>206209</td>\n",
       "      <td>1</td>\n",
       "      <td>0.500000</td>\n",
       "    </tr>\n",
       "  </tbody>\n",
       "</table>\n",
       "<p>122607 rows × 3 columns</p>\n",
       "</div>"
      ],
      "text/plain": [
       "        user_id  reordered  user_reorder_rate\n",
       "1             1          1           0.909091\n",
       "3             2          1           0.387097\n",
       "5             5          1           0.444444\n",
       "7             7          1           0.888889\n",
       "9             8          1           0.222222\n",
       "...         ...        ...                ...\n",
       "229606   206199          1           0.636364\n",
       "229608   206200          1           0.578947\n",
       "229610   206203          1           0.923077\n",
       "229612   206205          1           0.315789\n",
       "229614   206209          1           0.500000\n",
       "\n",
       "[122607 rows x 3 columns]"
      ]
     },
     "execution_count": 37,
     "metadata": {},
     "output_type": "execute_result"
    }
   ],
   "source": [
    "# get data of reordered users only\n",
    "user_df[user_df['reordered']==1]"
   ]
  },
  {
   "cell_type": "code",
   "execution_count": 38,
   "id": "67eeed6c",
   "metadata": {},
   "outputs": [
    {
     "data": {
      "text/html": [
       "<div>\n",
       "<style scoped>\n",
       "    .dataframe tbody tr th:only-of-type {\n",
       "        vertical-align: middle;\n",
       "    }\n",
       "\n",
       "    .dataframe tbody tr th {\n",
       "        vertical-align: top;\n",
       "    }\n",
       "\n",
       "    .dataframe thead th {\n",
       "        text-align: right;\n",
       "    }\n",
       "</style>\n",
       "<table border=\"1\" class=\"dataframe\">\n",
       "  <thead>\n",
       "    <tr style=\"text-align: right;\">\n",
       "      <th></th>\n",
       "      <th>user_id</th>\n",
       "      <th>reordered</th>\n",
       "      <th>user_reorder_rate</th>\n",
       "    </tr>\n",
       "  </thead>\n",
       "  <tbody>\n",
       "    <tr>\n",
       "      <th>11</th>\n",
       "      <td>10</td>\n",
       "      <td>0</td>\n",
       "      <td>1.0</td>\n",
       "    </tr>\n",
       "    <tr>\n",
       "      <th>41</th>\n",
       "      <td>44</td>\n",
       "      <td>0</td>\n",
       "      <td>1.0</td>\n",
       "    </tr>\n",
       "    <tr>\n",
       "      <th>43</th>\n",
       "      <td>47</td>\n",
       "      <td>0</td>\n",
       "      <td>1.0</td>\n",
       "    </tr>\n",
       "    <tr>\n",
       "      <th>100</th>\n",
       "      <td>93</td>\n",
       "      <td>0</td>\n",
       "      <td>1.0</td>\n",
       "    </tr>\n",
       "    <tr>\n",
       "      <th>125</th>\n",
       "      <td>112</td>\n",
       "      <td>0</td>\n",
       "      <td>1.0</td>\n",
       "    </tr>\n",
       "    <tr>\n",
       "      <th>...</th>\n",
       "      <td>...</td>\n",
       "      <td>...</td>\n",
       "      <td>...</td>\n",
       "    </tr>\n",
       "    <tr>\n",
       "      <th>229485</th>\n",
       "      <td>206100</td>\n",
       "      <td>0</td>\n",
       "      <td>1.0</td>\n",
       "    </tr>\n",
       "    <tr>\n",
       "      <th>229503</th>\n",
       "      <td>206114</td>\n",
       "      <td>0</td>\n",
       "      <td>1.0</td>\n",
       "    </tr>\n",
       "    <tr>\n",
       "      <th>229509</th>\n",
       "      <td>206121</td>\n",
       "      <td>0</td>\n",
       "      <td>1.0</td>\n",
       "    </tr>\n",
       "    <tr>\n",
       "      <th>229587</th>\n",
       "      <td>206184</td>\n",
       "      <td>0</td>\n",
       "      <td>1.0</td>\n",
       "    </tr>\n",
       "    <tr>\n",
       "      <th>229604</th>\n",
       "      <td>206198</td>\n",
       "      <td>0</td>\n",
       "      <td>1.0</td>\n",
       "    </tr>\n",
       "  </tbody>\n",
       "</table>\n",
       "<p>8602 rows × 3 columns</p>\n",
       "</div>"
      ],
      "text/plain": [
       "        user_id  reordered  user_reorder_rate\n",
       "11           10          0                1.0\n",
       "41           44          0                1.0\n",
       "43           47          0                1.0\n",
       "100          93          0                1.0\n",
       "125         112          0                1.0\n",
       "...         ...        ...                ...\n",
       "229485   206100          0                1.0\n",
       "229503   206114          0                1.0\n",
       "229509   206121          0                1.0\n",
       "229587   206184          0                1.0\n",
       "229604   206198          0                1.0\n",
       "\n",
       "[8602 rows x 3 columns]"
      ]
     },
     "execution_count": 38,
     "metadata": {},
     "output_type": "execute_result"
    }
   ],
   "source": [
    "# get data for users who never reordered\n",
    "user_df[(user_df['reordered']==0) & (user_df['user_reorder_rate']==float(1.0))]"
   ]
  },
  {
   "cell_type": "code",
   "execution_count": 39,
   "id": "8ea04ee5",
   "metadata": {},
   "outputs": [
    {
     "data": {
      "text/html": [
       "<div>\n",
       "<style scoped>\n",
       "    .dataframe tbody tr th:only-of-type {\n",
       "        vertical-align: middle;\n",
       "    }\n",
       "\n",
       "    .dataframe tbody tr th {\n",
       "        vertical-align: top;\n",
       "    }\n",
       "\n",
       "    .dataframe thead th {\n",
       "        text-align: right;\n",
       "    }\n",
       "</style>\n",
       "<table border=\"1\" class=\"dataframe\">\n",
       "  <thead>\n",
       "    <tr style=\"text-align: right;\">\n",
       "      <th></th>\n",
       "      <th>user_id</th>\n",
       "      <th>reordered</th>\n",
       "      <th>user_reorder_rate</th>\n",
       "    </tr>\n",
       "  </thead>\n",
       "  <tbody>\n",
       "    <tr>\n",
       "      <th>0</th>\n",
       "      <td>1</td>\n",
       "      <td>0</td>\n",
       "      <td>0.090909</td>\n",
       "    </tr>\n",
       "    <tr>\n",
       "      <th>1</th>\n",
       "      <td>1</td>\n",
       "      <td>1</td>\n",
       "      <td>0.909091</td>\n",
       "    </tr>\n",
       "    <tr>\n",
       "      <th>2</th>\n",
       "      <td>2</td>\n",
       "      <td>0</td>\n",
       "      <td>0.612903</td>\n",
       "    </tr>\n",
       "    <tr>\n",
       "      <th>3</th>\n",
       "      <td>2</td>\n",
       "      <td>1</td>\n",
       "      <td>0.387097</td>\n",
       "    </tr>\n",
       "    <tr>\n",
       "      <th>4</th>\n",
       "      <td>5</td>\n",
       "      <td>0</td>\n",
       "      <td>0.555556</td>\n",
       "    </tr>\n",
       "  </tbody>\n",
       "</table>\n",
       "</div>"
      ],
      "text/plain": [
       "   user_id  reordered  user_reorder_rate\n",
       "0        1          0           0.090909\n",
       "1        1          1           0.909091\n",
       "2        2          0           0.612903\n",
       "3        2          1           0.387097\n",
       "4        5          0           0.555556"
      ]
     },
     "execution_count": 39,
     "metadata": {},
     "output_type": "execute_result"
    }
   ],
   "source": [
    "# handling such users, since never reordered so reorder_rate = 0.0\n",
    "user_df.loc[((user_df['reordered']==0) & (user_df['user_reorder_rate']==float(1.0))), 'user_reorder_rate'] = 0.0\n",
    "user_df.head(5)"
   ]
  },
  {
   "cell_type": "code",
   "execution_count": 40,
   "id": "0037f769",
   "metadata": {},
   "outputs": [
    {
     "data": {
      "text/html": [
       "<div>\n",
       "<style scoped>\n",
       "    .dataframe tbody tr th:only-of-type {\n",
       "        vertical-align: middle;\n",
       "    }\n",
       "\n",
       "    .dataframe tbody tr th {\n",
       "        vertical-align: top;\n",
       "    }\n",
       "\n",
       "    .dataframe thead th {\n",
       "        text-align: right;\n",
       "    }\n",
       "</style>\n",
       "<table border=\"1\" class=\"dataframe\">\n",
       "  <thead>\n",
       "    <tr style=\"text-align: right;\">\n",
       "      <th></th>\n",
       "      <th>user_id</th>\n",
       "      <th>reordered</th>\n",
       "      <th>user_reorder_rate</th>\n",
       "    </tr>\n",
       "  </thead>\n",
       "  <tbody>\n",
       "  </tbody>\n",
       "</table>\n",
       "</div>"
      ],
      "text/plain": [
       "Empty DataFrame\n",
       "Columns: [user_id, reordered, user_reorder_rate]\n",
       "Index: []"
      ]
     },
     "execution_count": 40,
     "metadata": {},
     "output_type": "execute_result"
    }
   ],
   "source": [
    "user_df[(user_df['reordered']==0) & (user_df['user_reorder_rate']==float(1.0))]"
   ]
  },
  {
   "cell_type": "code",
   "execution_count": 41,
   "id": "2dba6421",
   "metadata": {},
   "outputs": [
    {
     "name": "stdout",
     "output_type": "stream",
     "text": [
      "(1384617, 16)\n"
     ]
    },
    {
     "data": {
      "text/html": [
       "<div>\n",
       "<style scoped>\n",
       "    .dataframe tbody tr th:only-of-type {\n",
       "        vertical-align: middle;\n",
       "    }\n",
       "\n",
       "    .dataframe tbody tr th {\n",
       "        vertical-align: top;\n",
       "    }\n",
       "\n",
       "    .dataframe thead th {\n",
       "        text-align: right;\n",
       "    }\n",
       "</style>\n",
       "<table border=\"1\" class=\"dataframe\">\n",
       "  <thead>\n",
       "    <tr style=\"text-align: right;\">\n",
       "      <th></th>\n",
       "      <th>user_id</th>\n",
       "      <th>order_id</th>\n",
       "      <th>order_number</th>\n",
       "      <th>product_id</th>\n",
       "      <th>product_name</th>\n",
       "      <th>department_id</th>\n",
       "      <th>department</th>\n",
       "      <th>aisle_id</th>\n",
       "      <th>aisle</th>\n",
       "      <th>order_day</th>\n",
       "      <th>order_hour_of_day</th>\n",
       "      <th>days_since_prior_order</th>\n",
       "      <th>add_to_cart_order</th>\n",
       "      <th>reordered</th>\n",
       "      <th>product_reorder_rate</th>\n",
       "      <th>user_reorder_rate</th>\n",
       "    </tr>\n",
       "  </thead>\n",
       "  <tbody>\n",
       "    <tr>\n",
       "      <th>0</th>\n",
       "      <td>1540</td>\n",
       "      <td>6695</td>\n",
       "      <td>29</td>\n",
       "      <td>1</td>\n",
       "      <td>Chocolate Sandwich Cookies</td>\n",
       "      <td>19</td>\n",
       "      <td>snacks</td>\n",
       "      <td>61</td>\n",
       "      <td>cookies cakes</td>\n",
       "      <td>1</td>\n",
       "      <td>1</td>\n",
       "      <td>8</td>\n",
       "      <td>7</td>\n",
       "      <td>1</td>\n",
       "      <td>0.644737</td>\n",
       "      <td>1.0</td>\n",
       "    </tr>\n",
       "    <tr>\n",
       "      <th>1</th>\n",
       "      <td>1540</td>\n",
       "      <td>6695</td>\n",
       "      <td>29</td>\n",
       "      <td>130</td>\n",
       "      <td>Vanilla Milk Chocolate Almond Ice Cream Bars M...</td>\n",
       "      <td>1</td>\n",
       "      <td>frozen</td>\n",
       "      <td>37</td>\n",
       "      <td>ice cream ice</td>\n",
       "      <td>1</td>\n",
       "      <td>1</td>\n",
       "      <td>8</td>\n",
       "      <td>14</td>\n",
       "      <td>1</td>\n",
       "      <td>0.680000</td>\n",
       "      <td>1.0</td>\n",
       "    </tr>\n",
       "    <tr>\n",
       "      <th>2</th>\n",
       "      <td>1540</td>\n",
       "      <td>6695</td>\n",
       "      <td>29</td>\n",
       "      <td>3298</td>\n",
       "      <td>Mozzarella String Cheese</td>\n",
       "      <td>16</td>\n",
       "      <td>dairy eggs</td>\n",
       "      <td>21</td>\n",
       "      <td>packaged cheese</td>\n",
       "      <td>1</td>\n",
       "      <td>1</td>\n",
       "      <td>8</td>\n",
       "      <td>13</td>\n",
       "      <td>1</td>\n",
       "      <td>0.731707</td>\n",
       "      <td>1.0</td>\n",
       "    </tr>\n",
       "    <tr>\n",
       "      <th>3</th>\n",
       "      <td>1540</td>\n",
       "      <td>6695</td>\n",
       "      <td>29</td>\n",
       "      <td>6184</td>\n",
       "      <td>Clementines</td>\n",
       "      <td>4</td>\n",
       "      <td>produce</td>\n",
       "      <td>32</td>\n",
       "      <td>packaged produce</td>\n",
       "      <td>1</td>\n",
       "      <td>1</td>\n",
       "      <td>8</td>\n",
       "      <td>19</td>\n",
       "      <td>1</td>\n",
       "      <td>0.743153</td>\n",
       "      <td>1.0</td>\n",
       "    </tr>\n",
       "    <tr>\n",
       "      <th>4</th>\n",
       "      <td>1540</td>\n",
       "      <td>6695</td>\n",
       "      <td>29</td>\n",
       "      <td>9007</td>\n",
       "      <td>Frosted Flakes</td>\n",
       "      <td>14</td>\n",
       "      <td>breakfast</td>\n",
       "      <td>121</td>\n",
       "      <td>cereal</td>\n",
       "      <td>1</td>\n",
       "      <td>1</td>\n",
       "      <td>8</td>\n",
       "      <td>9</td>\n",
       "      <td>1</td>\n",
       "      <td>0.608696</td>\n",
       "      <td>1.0</td>\n",
       "    </tr>\n",
       "  </tbody>\n",
       "</table>\n",
       "</div>"
      ],
      "text/plain": [
       "   user_id  order_id  order_number  product_id  \\\n",
       "0     1540      6695            29           1   \n",
       "1     1540      6695            29         130   \n",
       "2     1540      6695            29        3298   \n",
       "3     1540      6695            29        6184   \n",
       "4     1540      6695            29        9007   \n",
       "\n",
       "                                        product_name  department_id  \\\n",
       "0                         Chocolate Sandwich Cookies             19   \n",
       "1  Vanilla Milk Chocolate Almond Ice Cream Bars M...              1   \n",
       "2                           Mozzarella String Cheese             16   \n",
       "3                                        Clementines              4   \n",
       "4                                     Frosted Flakes             14   \n",
       "\n",
       "   department  aisle_id             aisle  order_day  order_hour_of_day  \\\n",
       "0      snacks        61     cookies cakes          1                  1   \n",
       "1      frozen        37     ice cream ice          1                  1   \n",
       "2  dairy eggs        21   packaged cheese          1                  1   \n",
       "3     produce        32  packaged produce          1                  1   \n",
       "4   breakfast       121            cereal          1                  1   \n",
       "\n",
       "   days_since_prior_order  add_to_cart_order  reordered  product_reorder_rate  \\\n",
       "0                       8                  7          1              0.644737   \n",
       "1                       8                 14          1              0.680000   \n",
       "2                       8                 13          1              0.731707   \n",
       "3                       8                 19          1              0.743153   \n",
       "4                       8                  9          1              0.608696   \n",
       "\n",
       "   user_reorder_rate  \n",
       "0                1.0  \n",
       "1                1.0  \n",
       "2                1.0  \n",
       "3                1.0  \n",
       "4                1.0  "
      ]
     },
     "execution_count": 41,
     "metadata": {},
     "output_type": "execute_result"
    }
   ],
   "source": [
    "# merging it with the 'sales' dataset\n",
    "sales_df = pd.merge(sales, user_df, on=['user_id', 'reordered'], how='inner')\n",
    "print(sales_df.shape)\n",
    "sales_df.head(5)"
   ]
  },
  {
   "cell_type": "code",
   "execution_count": 42,
   "id": "83d9f59c",
   "metadata": {},
   "outputs": [
    {
     "name": "stdout",
     "output_type": "stream",
     "text": [
      "(1384617, 16)\n"
     ]
    },
    {
     "data": {
      "text/html": [
       "<div>\n",
       "<style scoped>\n",
       "    .dataframe tbody tr th:only-of-type {\n",
       "        vertical-align: middle;\n",
       "    }\n",
       "\n",
       "    .dataframe tbody tr th {\n",
       "        vertical-align: top;\n",
       "    }\n",
       "\n",
       "    .dataframe thead th {\n",
       "        text-align: right;\n",
       "    }\n",
       "</style>\n",
       "<table border=\"1\" class=\"dataframe\">\n",
       "  <thead>\n",
       "    <tr style=\"text-align: right;\">\n",
       "      <th></th>\n",
       "      <th>user_id</th>\n",
       "      <th>order_id</th>\n",
       "      <th>order_number</th>\n",
       "      <th>product_id</th>\n",
       "      <th>product_name</th>\n",
       "      <th>product_reorder_rate</th>\n",
       "      <th>department_id</th>\n",
       "      <th>department</th>\n",
       "      <th>aisle_id</th>\n",
       "      <th>aisle</th>\n",
       "      <th>order_day</th>\n",
       "      <th>order_hour_of_day</th>\n",
       "      <th>days_since_prior_order</th>\n",
       "      <th>add_to_cart_order</th>\n",
       "      <th>user_reorder_rate</th>\n",
       "      <th>reordered</th>\n",
       "    </tr>\n",
       "  </thead>\n",
       "  <tbody>\n",
       "    <tr>\n",
       "      <th>0</th>\n",
       "      <td>1540</td>\n",
       "      <td>6695</td>\n",
       "      <td>29</td>\n",
       "      <td>1</td>\n",
       "      <td>Chocolate Sandwich Cookies</td>\n",
       "      <td>0.644737</td>\n",
       "      <td>19</td>\n",
       "      <td>snacks</td>\n",
       "      <td>61</td>\n",
       "      <td>cookies cakes</td>\n",
       "      <td>1</td>\n",
       "      <td>1</td>\n",
       "      <td>8</td>\n",
       "      <td>7</td>\n",
       "      <td>1.0</td>\n",
       "      <td>1</td>\n",
       "    </tr>\n",
       "    <tr>\n",
       "      <th>1</th>\n",
       "      <td>1540</td>\n",
       "      <td>6695</td>\n",
       "      <td>29</td>\n",
       "      <td>130</td>\n",
       "      <td>Vanilla Milk Chocolate Almond Ice Cream Bars M...</td>\n",
       "      <td>0.680000</td>\n",
       "      <td>1</td>\n",
       "      <td>frozen</td>\n",
       "      <td>37</td>\n",
       "      <td>ice cream ice</td>\n",
       "      <td>1</td>\n",
       "      <td>1</td>\n",
       "      <td>8</td>\n",
       "      <td>14</td>\n",
       "      <td>1.0</td>\n",
       "      <td>1</td>\n",
       "    </tr>\n",
       "    <tr>\n",
       "      <th>2</th>\n",
       "      <td>1540</td>\n",
       "      <td>6695</td>\n",
       "      <td>29</td>\n",
       "      <td>3298</td>\n",
       "      <td>Mozzarella String Cheese</td>\n",
       "      <td>0.731707</td>\n",
       "      <td>16</td>\n",
       "      <td>dairy eggs</td>\n",
       "      <td>21</td>\n",
       "      <td>packaged cheese</td>\n",
       "      <td>1</td>\n",
       "      <td>1</td>\n",
       "      <td>8</td>\n",
       "      <td>13</td>\n",
       "      <td>1.0</td>\n",
       "      <td>1</td>\n",
       "    </tr>\n",
       "    <tr>\n",
       "      <th>3</th>\n",
       "      <td>1540</td>\n",
       "      <td>6695</td>\n",
       "      <td>29</td>\n",
       "      <td>6184</td>\n",
       "      <td>Clementines</td>\n",
       "      <td>0.743153</td>\n",
       "      <td>4</td>\n",
       "      <td>produce</td>\n",
       "      <td>32</td>\n",
       "      <td>packaged produce</td>\n",
       "      <td>1</td>\n",
       "      <td>1</td>\n",
       "      <td>8</td>\n",
       "      <td>19</td>\n",
       "      <td>1.0</td>\n",
       "      <td>1</td>\n",
       "    </tr>\n",
       "    <tr>\n",
       "      <th>4</th>\n",
       "      <td>1540</td>\n",
       "      <td>6695</td>\n",
       "      <td>29</td>\n",
       "      <td>9007</td>\n",
       "      <td>Frosted Flakes</td>\n",
       "      <td>0.608696</td>\n",
       "      <td>14</td>\n",
       "      <td>breakfast</td>\n",
       "      <td>121</td>\n",
       "      <td>cereal</td>\n",
       "      <td>1</td>\n",
       "      <td>1</td>\n",
       "      <td>8</td>\n",
       "      <td>9</td>\n",
       "      <td>1.0</td>\n",
       "      <td>1</td>\n",
       "    </tr>\n",
       "  </tbody>\n",
       "</table>\n",
       "</div>"
      ],
      "text/plain": [
       "   user_id  order_id  order_number  product_id  \\\n",
       "0     1540      6695            29           1   \n",
       "1     1540      6695            29         130   \n",
       "2     1540      6695            29        3298   \n",
       "3     1540      6695            29        6184   \n",
       "4     1540      6695            29        9007   \n",
       "\n",
       "                                        product_name  product_reorder_rate  \\\n",
       "0                         Chocolate Sandwich Cookies              0.644737   \n",
       "1  Vanilla Milk Chocolate Almond Ice Cream Bars M...              0.680000   \n",
       "2                           Mozzarella String Cheese              0.731707   \n",
       "3                                        Clementines              0.743153   \n",
       "4                                     Frosted Flakes              0.608696   \n",
       "\n",
       "   department_id  department  aisle_id             aisle  order_day  \\\n",
       "0             19      snacks        61     cookies cakes          1   \n",
       "1              1      frozen        37     ice cream ice          1   \n",
       "2             16  dairy eggs        21   packaged cheese          1   \n",
       "3              4     produce        32  packaged produce          1   \n",
       "4             14   breakfast       121            cereal          1   \n",
       "\n",
       "   order_hour_of_day  days_since_prior_order  add_to_cart_order  \\\n",
       "0                  1                       8                  7   \n",
       "1                  1                       8                 14   \n",
       "2                  1                       8                 13   \n",
       "3                  1                       8                 19   \n",
       "4                  1                       8                  9   \n",
       "\n",
       "   user_reorder_rate  reordered  \n",
       "0                1.0          1  \n",
       "1                1.0          1  \n",
       "2                1.0          1  \n",
       "3                1.0          1  \n",
       "4                1.0          1  "
      ]
     },
     "execution_count": 42,
     "metadata": {},
     "output_type": "execute_result"
    }
   ],
   "source": [
    "# Re-ordering the columns\n",
    "sales_df=sales_df.reindex(columns=['user_id','order_id','order_number','product_id','product_name','product_reorder_rate',\n",
    "                                   'department_id','department','aisle_id','aisle','order_day','order_hour_of_day',\n",
    "                                   'days_since_prior_order', 'add_to_cart_order','user_reorder_rate','reordered'])\n",
    "print(sales_df.shape)\n",
    "sales_df.head(5)"
   ]
  },
  {
   "cell_type": "markdown",
   "id": "2f34ab91",
   "metadata": {},
   "source": [
    "### Exploratory Analysis"
   ]
  },
  {
   "cell_type": "code",
   "execution_count": 43,
   "id": "556175a1",
   "metadata": {},
   "outputs": [
    {
     "data": {
      "image/png": "[encoded data removed]",
      "text/plain": [
       "<Figure size 1080x504 with 1 Axes>"
      ]
     },
     "metadata": {
      "needs_background": "light"
     },
     "output_type": "display_data"
    }
   ],
   "source": [
    "# visualise the order changes with each day of week\n",
    "# 0->Saturday and 1->Sunday when the orders are highest and lowest during 4->Wednesday\n",
    "plt.figure(figsize=(15,7))\n",
    "sns.countplot(x=\"order_day\", data=sales_df)\n",
    "plt.ylabel('Count of orders')\n",
    "plt.xlabel('Day of week')\n",
    "plt.xticks(rotation='vertical')\n",
    "plt.title(\"Frequency of order by days in a week\")\n",
    "plt.show()"
   ]
  },
  {
   "cell_type": "code",
   "execution_count": 44,
   "id": "4b99a35e",
   "metadata": {},
   "outputs": [
    {
     "data": {
      "image/png": "[encoded data removed]",
      "text/plain": [
       "<Figure size 1080x504 with 1 Axes>"
      ]
     },
     "metadata": {
      "needs_background": "light"
     },
     "output_type": "display_data"
    }
   ],
   "source": [
    "# visualise the order changes with hours of a day\n",
    "# majority of the orders are made during day time, i.e., from 10am->6pm\n",
    "plt.figure(figsize=(15,7))\n",
    "sns.countplot(x=\"order_hour_of_day\", data=sales_df)\n",
    "plt.ylabel('Count of orders')\n",
    "plt.xlabel('Hour of day')\n",
    "plt.xticks(rotation='vertical')\n",
    "plt.title(\"Frequency of order by hours of day\")\n",
    "plt.show()"
   ]
  },
  {
   "cell_type": "code",
   "execution_count": 45,
   "id": "ae72bf71",
   "metadata": {},
   "outputs": [
    {
     "data": {
      "image/png": "[encoded data removed]",
      "text/plain": [
       "<Figure size 1080x504 with 1 Axes>"
      ]
     },
     "metadata": {
      "needs_background": "light"
     },
     "output_type": "display_data"
    }
   ],
   "source": [
    "# visualise the time-interval between the orders of a person\n",
    "# customers tend to order once in every week(peak at 7 days) or once in a month(peak at 30 days)\n",
    "plt.figure(figsize=(15,7))\n",
    "sns.countplot(x=\"days_since_prior_order\", data=sales_df)\n",
    "plt.ylabel('Count')\n",
    "plt.xlabel('Time interval between orders')\n",
    "plt.xticks(rotation='vertical')\n",
    "plt.title(\"Frequency of days since prior order\")\n",
    "plt.show()"
   ]
  },
  {
   "cell_type": "markdown",
   "id": "1c5c163d",
   "metadata": {},
   "source": [
    "##### Get the frequency of ordered products per department"
   ]
  },
  {
   "cell_type": "code",
   "execution_count": 46,
   "id": "7ca6e048",
   "metadata": {},
   "outputs": [
    {
     "data": {
      "image/png": "[encoded data removed]",
      "text/plain": [
       "<Figure size 1080x504 with 1 Axes>"
      ]
     },
     "metadata": {
      "needs_background": "light"
     },
     "output_type": "display_data"
    }
   ],
   "source": [
    "cnt_depts = sales_df.department.value_counts()\n",
    "\n",
    "plt.figure(figsize=(15,7))\n",
    "sns.barplot(x=cnt_depts.index, y=cnt_depts.values)\n",
    "plt.xlabel('Department')\n",
    "plt.ylabel('Number of ordered products')\n",
    "plt.title('Frequency of ordered products per department')\n",
    "plt.xticks(rotation='vertical')\n",
    "plt.show()"
   ]
  },
  {
   "cell_type": "markdown",
   "id": "e936001b",
   "metadata": {},
   "source": [
    "##### Get the top 20 most commonly ordered products"
   ]
  },
  {
   "cell_type": "code",
   "execution_count": 47,
   "id": "19ece3d9",
   "metadata": {},
   "outputs": [
    {
     "data": {
      "text/plain": [
       "Banana                    18726\n",
       "Bag of Organic Bananas    15480\n",
       "Organic Strawberries      10894\n",
       "Organic Baby Spinach       9784\n",
       "Large Lemon                8135\n",
       "Organic Avocado            7409\n",
       "Organic Hass Avocado       7293\n",
       "Strawberries               6494\n",
       "Limes                      6033\n",
       "Organic Raspberries        5546\n",
       "Organic Blueberries        4966\n",
       "Organic Whole Milk         4908\n",
       "Organic Cucumber           4613\n",
       "Organic Zucchini           4589\n",
       "Organic Yellow Onion       4290\n",
       "Organic Garlic             4158\n",
       "Seedless Red Grapes        4059\n",
       "Asparagus                  3868\n",
       "Organic Grape Tomatoes     3823\n",
       "Organic Red Onion          3818\n",
       "Name: product_name, dtype: int64"
      ]
     },
     "execution_count": 47,
     "metadata": {},
     "output_type": "execute_result"
    }
   ],
   "source": [
    "top_ordered = sales_df['product_name'].value_counts().head(20)\n",
    "top_ordered"
   ]
  },
  {
   "cell_type": "code",
   "execution_count": 48,
   "id": "d79ac981",
   "metadata": {},
   "outputs": [
    {
     "data": {
      "image/png": "[encoded data removed]",
      "text/plain": [
       "<Figure size 1080x504 with 1 Axes>"
      ]
     },
     "metadata": {
      "needs_background": "light"
     },
     "output_type": "display_data"
    }
   ],
   "source": [
    "# let's visualize the most commonly ordered products\n",
    "plt.figure(figsize=(15,7))\n",
    "sns.barplot(x=top_ordered.index, y=top_ordered.values)\n",
    "plt.xlabel('Most commonly ordered products')\n",
    "plt.ylabel('Count')\n",
    "plt.xticks(rotation='vertical')\n",
    "plt.show()"
   ]
  },
  {
   "cell_type": "markdown",
   "id": "d4d3a9c1",
   "metadata": {},
   "source": [
    "##### Get the top departments from which products are ordered"
   ]
  },
  {
   "cell_type": "code",
   "execution_count": 49,
   "id": "cbeff588",
   "metadata": {},
   "outputs": [
    {
     "data": {
      "text/plain": [
       "produce            409087\n",
       "dairy eggs         217051\n",
       "snacks             118862\n",
       "beverages          114046\n",
       "frozen             100426\n",
       "pantry              81242\n",
       "bakery              48394\n",
       "canned goods        46799\n",
       "deli                44291\n",
       "dry goods pasta     38713\n",
       "household           35986\n",
       "meat seafood        30307\n",
       "breakfast           29500\n",
       "personal care       21570\n",
       "babies              14941\n",
       "international       11902\n",
       "missing              8251\n",
       "alcohol              5598\n",
       "pets                 4497\n",
       "other                1795\n",
       "Name: department, dtype: int64"
      ]
     },
     "execution_count": 49,
     "metadata": {},
     "output_type": "execute_result"
    }
   ],
   "source": [
    "top_ordered_depts = sales_df['department'].value_counts().head(20)\n",
    "top_ordered_depts"
   ]
  },
  {
   "cell_type": "code",
   "execution_count": 50,
   "id": "673b397e",
   "metadata": {},
   "outputs": [
    {
     "data": {
      "image/png": "[encoded data removed]",
      "text/plain": [
       "<Figure size 1080x504 with 1 Axes>"
      ]
     },
     "metadata": {
      "needs_background": "light"
     },
     "output_type": "display_data"
    }
   ],
   "source": [
    "# let's visualize the departments from which products are most commonly ordered\n",
    "plt.figure(figsize=(15,7))\n",
    "sns.barplot(x=top_ordered_depts.index, y=top_ordered_depts.values)\n",
    "plt.xlabel('Most commonly ordered from departments')\n",
    "plt.ylabel('Count')\n",
    "plt.xticks(rotation='vertical')\n",
    "plt.show()"
   ]
  },
  {
   "cell_type": "markdown",
   "id": "0bb07d9c",
   "metadata": {},
   "source": [
    "##### Get the top aisles from which products are ordered"
   ]
  },
  {
   "cell_type": "code",
   "execution_count": 51,
   "id": "0ce237dc",
   "metadata": {},
   "outputs": [
    {
     "data": {
      "text/plain": [
       "fresh vegetables                 150609\n",
       "fresh fruits                     150473\n",
       "packaged vegetables fruits        78493\n",
       "yogurt                            55240\n",
       "packaged cheese                   41699\n",
       "water seltzer sparkling water     36617\n",
       "milk                              32644\n",
       "chips pretzels                    31269\n",
       "soy lactosefree                   26240\n",
       "bread                             23635\n",
       "refrigerated                      23228\n",
       "ice cream ice                     22676\n",
       "frozen produce                    22453\n",
       "eggs                              19875\n",
       "crackers                          19592\n",
       "frozen meals                      18221\n",
       "energy granola bars               17449\n",
       "lunch meat                        16957\n",
       "soft drinks                       16279\n",
       "cereal                            16201\n",
       "Name: aisle, dtype: int64"
      ]
     },
     "execution_count": 51,
     "metadata": {},
     "output_type": "execute_result"
    }
   ],
   "source": [
    "top_ordered_aisles = sales_df['aisle'].value_counts().head(20)\n",
    "top_ordered_aisles"
   ]
  },
  {
   "cell_type": "code",
   "execution_count": 52,
   "id": "66031d10",
   "metadata": {},
   "outputs": [
    {
     "data": {
      "image/png": "[encoded data removed]",
      "text/plain": [
       "<Figure size 1080x504 with 1 Axes>"
      ]
     },
     "metadata": {
      "needs_background": "light"
     },
     "output_type": "display_data"
    }
   ],
   "source": [
    "# let's visualize the aisles from which products are most commonly ordered\n",
    "plt.figure(figsize=(15,7))\n",
    "sns.barplot(x=top_ordered_aisles.index, y=top_ordered_aisles.values)\n",
    "plt.xlabel('Most commonly ordered from aisles')\n",
    "plt.ylabel('Count')\n",
    "plt.xticks(rotation='vertical')\n",
    "plt.show()"
   ]
  },
  {
   "cell_type": "markdown",
   "id": "d3d5ec12",
   "metadata": {},
   "source": [
    "##### Get the top 10 products added to cart"
   ]
  },
  {
   "cell_type": "code",
   "execution_count": 53,
   "id": "44f60834",
   "metadata": {},
   "outputs": [
    {
     "data": {
      "text/html": [
       "<div>\n",
       "<style scoped>\n",
       "    .dataframe tbody tr th:only-of-type {\n",
       "        vertical-align: middle;\n",
       "    }\n",
       "\n",
       "    .dataframe tbody tr th {\n",
       "        vertical-align: top;\n",
       "    }\n",
       "\n",
       "    .dataframe thead th {\n",
       "        text-align: right;\n",
       "    }\n",
       "</style>\n",
       "<table border=\"1\" class=\"dataframe\">\n",
       "  <thead>\n",
       "    <tr style=\"text-align: right;\">\n",
       "      <th></th>\n",
       "      <th>product_name</th>\n",
       "      <th>department</th>\n",
       "      <th>aisle</th>\n",
       "      <th>add_to_cart_order</th>\n",
       "    </tr>\n",
       "  </thead>\n",
       "  <tbody>\n",
       "    <tr>\n",
       "      <th>0</th>\n",
       "      <td>Mixed Nuts Lightly Salted</td>\n",
       "      <td>snacks</td>\n",
       "      <td>nuts seeds dried fruit</td>\n",
       "      <td>80</td>\n",
       "    </tr>\n",
       "    <tr>\n",
       "      <th>1</th>\n",
       "      <td>Fresh European Style Baby Spinach</td>\n",
       "      <td>produce</td>\n",
       "      <td>packaged vegetables fruits</td>\n",
       "      <td>80</td>\n",
       "    </tr>\n",
       "    <tr>\n",
       "      <th>2</th>\n",
       "      <td>Organic Avocado</td>\n",
       "      <td>produce</td>\n",
       "      <td>fresh fruits</td>\n",
       "      <td>79</td>\n",
       "    </tr>\n",
       "    <tr>\n",
       "      <th>3</th>\n",
       "      <td>Aged White Cheddar Puffs Cheese Snacks</td>\n",
       "      <td>snacks</td>\n",
       "      <td>popcorn jerky</td>\n",
       "      <td>79</td>\n",
       "    </tr>\n",
       "    <tr>\n",
       "      <th>4</th>\n",
       "      <td>Organic Baby Bella Mushrooms</td>\n",
       "      <td>produce</td>\n",
       "      <td>packaged vegetables fruits</td>\n",
       "      <td>78</td>\n",
       "    </tr>\n",
       "    <tr>\n",
       "      <th>5</th>\n",
       "      <td>Raisin Bran Cereal</td>\n",
       "      <td>breakfast</td>\n",
       "      <td>cereal</td>\n",
       "      <td>78</td>\n",
       "    </tr>\n",
       "    <tr>\n",
       "      <th>6</th>\n",
       "      <td>Half &amp; Half</td>\n",
       "      <td>dairy eggs</td>\n",
       "      <td>cream</td>\n",
       "      <td>77</td>\n",
       "    </tr>\n",
       "    <tr>\n",
       "      <th>7</th>\n",
       "      <td>Done Baby Wipes Cumber &amp; Green Tea</td>\n",
       "      <td>babies</td>\n",
       "      <td>diapers wipes</td>\n",
       "      <td>77</td>\n",
       "    </tr>\n",
       "    <tr>\n",
       "      <th>8</th>\n",
       "      <td>Asparation/Broccolini/Baby Broccoli</td>\n",
       "      <td>produce</td>\n",
       "      <td>fresh vegetables</td>\n",
       "      <td>77</td>\n",
       "    </tr>\n",
       "    <tr>\n",
       "      <th>9</th>\n",
       "      <td>Fragrance Free Natural Care Wipes</td>\n",
       "      <td>babies</td>\n",
       "      <td>diapers wipes</td>\n",
       "      <td>76</td>\n",
       "    </tr>\n",
       "  </tbody>\n",
       "</table>\n",
       "</div>"
      ],
      "text/plain": [
       "                             product_name  department  \\\n",
       "0               Mixed Nuts Lightly Salted      snacks   \n",
       "1       Fresh European Style Baby Spinach     produce   \n",
       "2                         Organic Avocado     produce   \n",
       "3  Aged White Cheddar Puffs Cheese Snacks      snacks   \n",
       "4            Organic Baby Bella Mushrooms     produce   \n",
       "5                      Raisin Bran Cereal   breakfast   \n",
       "6                             Half & Half  dairy eggs   \n",
       "7      Done Baby Wipes Cumber & Green Tea      babies   \n",
       "8     Asparation/Broccolini/Baby Broccoli     produce   \n",
       "9       Fragrance Free Natural Care Wipes      babies   \n",
       "\n",
       "                        aisle  add_to_cart_order  \n",
       "0      nuts seeds dried fruit                 80  \n",
       "1  packaged vegetables fruits                 80  \n",
       "2                fresh fruits                 79  \n",
       "3               popcorn jerky                 79  \n",
       "4  packaged vegetables fruits                 78  \n",
       "5                      cereal                 78  \n",
       "6                       cream                 77  \n",
       "7               diapers wipes                 77  \n",
       "8            fresh vegetables                 77  \n",
       "9               diapers wipes                 76  "
      ]
     },
     "execution_count": 53,
     "metadata": {},
     "output_type": "execute_result"
    }
   ],
   "source": [
    "top_cart = sales_df.nlargest(n=10, columns=['add_to_cart_order'])\n",
    "\n",
    "# Dropping off the other irrelevant columns\n",
    "top_cart.drop(['user_id','order_number','order_day','order_hour_of_day','days_since_prior_order','product_id','department_id', \n",
    "               'aisle_id','order_id','product_reorder_rate','user_reorder_rate','reordered'], axis=1, inplace=True)\n",
    "top_cart = top_cart.reset_index(drop=True)\n",
    "top_cart"
   ]
  },
  {
   "cell_type": "code",
   "execution_count": 54,
   "id": "18b10bb3",
   "metadata": {},
   "outputs": [
    {
     "data": {
      "image/png": "[encoded data removed]",
      "text/plain": [
       "<Figure size 1080x504 with 1 Axes>"
      ]
     },
     "metadata": {
      "needs_background": "light"
     },
     "output_type": "display_data"
    }
   ],
   "source": [
    "# let's visualize the top add-to-cart products\n",
    "plt.figure(figsize=(15,7))\n",
    "sns.barplot(x=top_cart['product_name'], y=top_cart['add_to_cart_order'])\n",
    "plt.xlabel('Most commonly added-to-cart products')\n",
    "plt.ylabel('Count')\n",
    "plt.xticks(rotation='vertical')\n",
    "plt.show()"
   ]
  },
  {
   "cell_type": "markdown",
   "id": "af71555f",
   "metadata": {},
   "source": [
    "##### Get the top departments from which products are added-to-cart"
   ]
  },
  {
   "cell_type": "code",
   "execution_count": 55,
   "id": "4488b60e",
   "metadata": {},
   "outputs": [
    {
     "data": {
      "image/png": "[encoded data removed]",
      "text/plain": [
       "<Figure size 1080x504 with 1 Axes>"
      ]
     },
     "metadata": {
      "needs_background": "light"
     },
     "output_type": "display_data"
    }
   ],
   "source": [
    "# let's visualize the top add-to-cart departments\n",
    "plt.figure(figsize=(15,7))\n",
    "sns.barplot(x=top_cart['department'], y=top_cart['add_to_cart_order'])\n",
    "plt.xlabel('Most commonly added-to-cart from departments')\n",
    "plt.ylabel('Count')\n",
    "plt.xticks(rotation='vertical')\n",
    "plt.show()"
   ]
  },
  {
   "cell_type": "markdown",
   "id": "12ce66cd",
   "metadata": {},
   "source": [
    "##### Get the top aisles from which products are added-to-cart "
   ]
  },
  {
   "cell_type": "code",
   "execution_count": 56,
   "id": "2b3e362e",
   "metadata": {},
   "outputs": [
    {
     "data": {
      "image/png": "[encoded data removed]",
      "text/plain": [
       "<Figure size 1080x504 with 1 Axes>"
      ]
     },
     "metadata": {
      "needs_background": "light"
     },
     "output_type": "display_data"
    }
   ],
   "source": [
    "# let's visualize the top add-to-cart aisles\n",
    "plt.figure(figsize=(15,7))\n",
    "sns.barplot(x=top_cart['aisle'], y=top_cart['add_to_cart_order'])\n",
    "plt.xlabel('Most commonly added-to-cart from aisles')\n",
    "plt.ylabel('Count')\n",
    "plt.xticks(rotation='vertical')\n",
    "plt.show()"
   ]
  },
  {
   "cell_type": "markdown",
   "id": "8dafe074",
   "metadata": {},
   "source": [
    "##### Get the top 20 most frequently bought products (less gap in between)"
   ]
  },
  {
   "cell_type": "code",
   "execution_count": 57,
   "id": "3beb9a6f",
   "metadata": {},
   "outputs": [
    {
     "data": {
      "text/plain": [
       "Banana                    202\n",
       "Bag of Organic Bananas    176\n",
       "Organic Strawberries      138\n",
       "Organic Baby Spinach       98\n",
       "Limes                      82\n",
       "Large Lemon                76\n",
       "Organic Avocado            67\n",
       "Organic Garlic             64\n",
       "Strawberries               63\n",
       "Organic Raspberries        63\n",
       "Organic Cucumber           61\n",
       "Organic Hass Avocado       58\n",
       "Organic Whole Milk         57\n",
       "Organic Blueberries        54\n",
       "Organic Zucchini           51\n",
       "Seedless Red Grapes        50\n",
       "Organic Cilantro           49\n",
       "Spring Water               44\n",
       "Organic Tomato Cluster     44\n",
       "Organic Blackberries       44\n",
       "Name: product_name, dtype: int64"
      ]
     },
     "execution_count": 57,
     "metadata": {},
     "output_type": "execute_result"
    }
   ],
   "source": [
    "# Top 20 most frequently bought products\n",
    "most_frequent = sales_df[(sales_df['days_since_prior_order'] == 0)]\n",
    "most_frequent = most_frequent['product_name'].value_counts().head(20)\n",
    "most_frequent"
   ]
  },
  {
   "cell_type": "code",
   "execution_count": 58,
   "id": "fe7e6a48",
   "metadata": {},
   "outputs": [
    {
     "data": {
      "image/png": "[encoded data removed]",
      "text/plain": [
       "<Figure size 1080x504 with 1 Axes>"
      ]
     },
     "metadata": {
      "needs_background": "light"
     },
     "output_type": "display_data"
    }
   ],
   "source": [
    "# Let's visualize the 20 most frequently bought products\n",
    "plt.figure(figsize=(15,7))\n",
    "sns.barplot(most_frequent.index, most_frequent.values)\n",
    "plt.ylabel('Count')\n",
    "plt.xlabel('Most frequently bought items')\n",
    "plt.xticks(rotation='vertical')\n",
    "plt.show()"
   ]
  },
  {
   "cell_type": "markdown",
   "id": "3f2b4c02",
   "metadata": {},
   "source": [
    "###### Get the top most frequently bought from departments"
   ]
  },
  {
   "cell_type": "code",
   "execution_count": 59,
   "id": "9ada92f2",
   "metadata": {},
   "outputs": [
    {
     "data": {
      "text/plain": [
       "produce            4822\n",
       "dairy eggs         2518\n",
       "beverages          1670\n",
       "snacks             1669\n",
       "frozen             1153\n",
       "pantry             1137\n",
       "bakery              566\n",
       "deli                507\n",
       "canned goods        504\n",
       "household           496\n",
       "dry goods pasta     391\n",
       "breakfast           372\n",
       "meat seafood        370\n",
       "personal care       263\n",
       "babies              142\n",
       "international       137\n",
       "missing             110\n",
       "alcohol             109\n",
       "pets                 47\n",
       "other                41\n",
       "Name: department, dtype: int64"
      ]
     },
     "execution_count": 59,
     "metadata": {},
     "output_type": "execute_result"
    }
   ],
   "source": [
    "# Top 20 most frequently bought from departments\n",
    "most_frequent_depts = sales_df[(sales_df['days_since_prior_order'] == 0)]\n",
    "most_frequent_depts = most_frequent_depts['department'].value_counts().head(20)\n",
    "most_frequent_depts"
   ]
  },
  {
   "cell_type": "code",
   "execution_count": 60,
   "id": "edd416d5",
   "metadata": {},
   "outputs": [
    {
     "data": {
      "image/png": "[encoded data removed]",
      "text/plain": [
       "<Figure size 1080x504 with 1 Axes>"
      ]
     },
     "metadata": {
      "needs_background": "light"
     },
     "output_type": "display_data"
    }
   ],
   "source": [
    "# Let's visualize the top most frequently bought from departments (with 0 days in between)\n",
    "plt.figure(figsize=(15,7))\n",
    "sns.barplot(most_frequent_depts.index, most_frequent_depts.values)\n",
    "plt.ylabel('Count')\n",
    "plt.xlabel('Most frequently bought from departments')\n",
    "plt.xticks(rotation='vertical')\n",
    "plt.show()"
   ]
  },
  {
   "cell_type": "markdown",
   "id": "872a4ee9",
   "metadata": {},
   "source": [
    "###### Get the top most frequently bought from aisles"
   ]
  },
  {
   "cell_type": "code",
   "execution_count": 61,
   "id": "a53496b5",
   "metadata": {},
   "outputs": [
    {
     "data": {
      "text/plain": [
       "fresh fruits                     1783\n",
       "fresh vegetables                 1727\n",
       "packaged vegetables fruits        867\n",
       "yogurt                            639\n",
       "water seltzer sparkling water     518\n",
       "packaged cheese                   462\n",
       "milk                              394\n",
       "chips pretzels                    374\n",
       "refrigerated                      314\n",
       "ice cream ice                     311\n",
       "soy lactosefree                   305\n",
       "energy granola bars               275\n",
       "frozen produce                    266\n",
       "bread                             251\n",
       "soft drinks                       244\n",
       "packaged produce                  232\n",
       "crackers                          228\n",
       "eggs                              218\n",
       "fresh herbs                       213\n",
       "juice nectars                     208\n",
       "Name: aisle, dtype: int64"
      ]
     },
     "execution_count": 61,
     "metadata": {},
     "output_type": "execute_result"
    }
   ],
   "source": [
    "# Top 20 most frequently bought from aisles\n",
    "most_frequent_aisles = sales_df[(sales_df['days_since_prior_order'] == 0)]\n",
    "most_frequent_aisles = most_frequent_aisles['aisle'].value_counts().head(20)\n",
    "most_frequent_aisles"
   ]
  },
  {
   "cell_type": "code",
   "execution_count": 62,
   "id": "c2121736",
   "metadata": {},
   "outputs": [
    {
     "data": {
      "image/png": "[encoded data removed]",
      "text/plain": [
       "<Figure size 1080x504 with 1 Axes>"
      ]
     },
     "metadata": {
      "needs_background": "light"
     },
     "output_type": "display_data"
    }
   ],
   "source": [
    "# Let's visualize the top most frequently bought from aisles (with 0 days in between)\n",
    "plt.figure(figsize=(15,7))\n",
    "sns.barplot(most_frequent_aisles.index, most_frequent_aisles.values)\n",
    "plt.ylabel('Count')\n",
    "plt.xlabel('Most frequently bought from aisles')\n",
    "plt.xticks(rotation='vertical')\n",
    "plt.show()"
   ]
  },
  {
   "cell_type": "markdown",
   "id": "fe35f51d",
   "metadata": {},
   "source": [
    "##### Get the top 20 most bought products on 'weekends'"
   ]
  },
  {
   "cell_type": "code",
   "execution_count": 63,
   "id": "bd9f4089",
   "metadata": {},
   "outputs": [
    {
     "data": {
      "text/plain": [
       "Banana                    7668\n",
       "Bag of Organic Bananas    6039\n",
       "Organic Strawberries      4340\n",
       "Organic Baby Spinach      4184\n",
       "Large Lemon               3377\n",
       "Organic Avocado           3197\n",
       "Organic Hass Avocado      2995\n",
       "Strawberries              2577\n",
       "Limes                     2429\n",
       "Organic Raspberries       2166\n",
       "Organic Zucchini          2077\n",
       "Organic Blueberries       1961\n",
       "Organic Cucumber          1942\n",
       "Organic Whole Milk        1880\n",
       "Organic Yellow Onion      1845\n",
       "Organic Garlic            1729\n",
       "Asparagus                 1696\n",
       "Organic Grape Tomatoes    1679\n",
       "Seedless Red Grapes       1643\n",
       "Yellow Onions             1629\n",
       "Name: product_name, dtype: int64"
      ]
     },
     "execution_count": 63,
     "metadata": {},
     "output_type": "execute_result"
    }
   ],
   "source": [
    "# Top 20 most bought products on 'weekends'\n",
    "weeknd_sale = sales_df[(sales_df['order_day'] == 0) | (sales_df['order_day'] == 1)]\n",
    "weeknd_sale = weeknd_sale['product_name'].value_counts().head(20)\n",
    "weeknd_sale"
   ]
  },
  {
   "cell_type": "code",
   "execution_count": 64,
   "id": "887f5308",
   "metadata": {},
   "outputs": [
    {
     "data": {
      "image/png": "[encoded data removed]",
      "text/plain": [
       "<Figure size 1080x504 with 1 Axes>"
      ]
     },
     "metadata": {
      "needs_background": "light"
     },
     "output_type": "display_data"
    }
   ],
   "source": [
    "# Let's visualize the top 20 most bought products on 'weekends'\n",
    "plt.figure(figsize=(15,7))\n",
    "sns.barplot(weeknd_sale.index, weeknd_sale.values)\n",
    "plt.ylabel('Count')\n",
    "plt.xlabel('Top products bought on weekends')\n",
    "plt.title(\"Frequency of products bought on weekends\")\n",
    "plt.xticks(rotation='vertical')\n",
    "plt.show()"
   ]
  },
  {
   "cell_type": "markdown",
   "id": "3a8ab1a3",
   "metadata": {},
   "source": [
    "##### Get the top departments from which products are ordered on 'weekends'"
   ]
  },
  {
   "cell_type": "code",
   "execution_count": 65,
   "id": "57249844",
   "metadata": {},
   "outputs": [
    {
     "data": {
      "text/plain": [
       "produce            165973\n",
       "dairy eggs          83206\n",
       "snacks              43168\n",
       "beverages           39681\n",
       "frozen              37136\n",
       "pantry              29900\n",
       "canned goods        18671\n",
       "bakery              18351\n",
       "deli                17448\n",
       "dry goods pasta     15324\n",
       "household           12532\n",
       "meat seafood        12160\n",
       "breakfast           11216\n",
       "personal care        7730\n",
       "babies               5672\n",
       "international        4754\n",
       "missing              3106\n",
       "pets                 1525\n",
       "alcohol              1328\n",
       "other                 629\n",
       "Name: department, dtype: int64"
      ]
     },
     "execution_count": 65,
     "metadata": {},
     "output_type": "execute_result"
    }
   ],
   "source": [
    "# Top 20 most bought from departments on 'weekends'\n",
    "weeknd_sale_depts = sales_df[(sales_df['order_day'] == 0) | (sales_df['order_day'] == 1)]\n",
    "weeknd_sale_depts = weeknd_sale_depts['department'].value_counts().head(20)\n",
    "weeknd_sale_depts"
   ]
  },
  {
   "cell_type": "code",
   "execution_count": 66,
   "id": "0e3b59bf",
   "metadata": {},
   "outputs": [
    {
     "data": {
      "image/png": "[encoded data removed]",
      "text/plain": [
       "<Figure size 1080x504 with 1 Axes>"
      ]
     },
     "metadata": {
      "needs_background": "light"
     },
     "output_type": "display_data"
    }
   ],
   "source": [
    "# Let's visualize the top departments from which products are most bought on 'weekends'\n",
    "plt.figure(figsize=(15,7))\n",
    "sns.barplot(weeknd_sale_depts.index, weeknd_sale_depts.values)\n",
    "plt.ylabel('Count')\n",
    "plt.xlabel('Top departments on weekends')\n",
    "plt.title(\"Frequency of departments from which products are most bought on weekends\")\n",
    "plt.xticks(rotation='vertical')\n",
    "plt.show()"
   ]
  },
  {
   "cell_type": "markdown",
   "id": "ac47665c",
   "metadata": {},
   "source": [
    "##### Get the top aisles from which products are ordered on 'weekends'"
   ]
  },
  {
   "cell_type": "code",
   "execution_count": 67,
   "id": "2036bc1b",
   "metadata": {},
   "outputs": [
    {
     "data": {
      "text/plain": [
       "fresh vegetables                 62577\n",
       "fresh fruits                     60099\n",
       "packaged vegetables fruits       32193\n",
       "yogurt                           22082\n",
       "packaged cheese                  16147\n",
       "water seltzer sparkling water    13074\n",
       "milk                             12289\n",
       "chips pretzels                   11171\n",
       "soy lactosefree                   9963\n",
       "bread                             9019\n",
       "frozen produce                    8814\n",
       "refrigerated                      8275\n",
       "eggs                              7820\n",
       "ice cream ice                     7598\n",
       "crackers                          7133\n",
       "energy granola bars               6918\n",
       "frozen meals                      6841\n",
       "lunch meat                        6812\n",
       "fresh herbs                       6311\n",
       "cereal                            6162\n",
       "Name: aisle, dtype: int64"
      ]
     },
     "execution_count": 67,
     "metadata": {},
     "output_type": "execute_result"
    }
   ],
   "source": [
    "# Top 20 most bought from aisles on 'weekends'\n",
    "weeknd_sale_aisles = sales_df[(sales_df['order_day'] == 0) | (sales_df['order_day'] == 1)]\n",
    "weeknd_sale_aisles = weeknd_sale_aisles['aisle'].value_counts().head(20)\n",
    "weeknd_sale_aisles"
   ]
  },
  {
   "cell_type": "code",
   "execution_count": 68,
   "id": "2323807b",
   "metadata": {},
   "outputs": [
    {
     "data": {
      "image/png": "[encoded data removed]",
      "text/plain": [
       "<Figure size 1080x504 with 1 Axes>"
      ]
     },
     "metadata": {
      "needs_background": "light"
     },
     "output_type": "display_data"
    }
   ],
   "source": [
    "# Let's visualize the top aisles from which products are most bought on 'weekends'\n",
    "plt.figure(figsize=(15,7))\n",
    "sns.barplot(weeknd_sale_aisles.index, weeknd_sale_aisles.values)\n",
    "plt.ylabel('Count')\n",
    "plt.xlabel('Top aisles on weekends')\n",
    "plt.title(\"Frequency of aisles from which products are most bought on weekends\")\n",
    "plt.xticks(rotation='vertical')\n",
    "plt.show()"
   ]
  },
  {
   "cell_type": "markdown",
   "id": "fec03559",
   "metadata": {},
   "source": [
    "#### Analyzing the 'target' column"
   ]
  },
  {
   "cell_type": "code",
   "execution_count": 69,
   "id": "b3344eea",
   "metadata": {},
   "outputs": [
    {
     "name": "stdout",
     "output_type": "stream",
     "text": [
      "Percentage of reordered products:\n",
      "1    0.598594\n",
      "0    0.401406\n",
      "Name: reordered, dtype: float64\n"
     ]
    }
   ],
   "source": [
    "# 0.598594% of products were re-ordered\n",
    "reorder = sales_df.reordered.value_counts()\n",
    "\n",
    "print('Percentage of reordered products:')\n",
    "print(reorder / sum(reorder))"
   ]
  },
  {
   "cell_type": "code",
   "execution_count": 70,
   "id": "dd35fb14",
   "metadata": {},
   "outputs": [
    {
     "data": {
      "image/png": "[encoded data removed]",
      "text/plain": [
       "<Figure size 504x360 with 1 Axes>"
      ]
     },
     "metadata": {
      "needs_background": "light"
     },
     "output_type": "display_data"
    }
   ],
   "source": [
    "# Let’s check how well our target column is balanced\n",
    "plt.figure(figsize=(7,5))\n",
    "sns.barplot(x=reorder.index, y=reorder.values)\n",
    "plt.xlabel('Target variable')\n",
    "plt.ylabel('Count')\n",
    "plt.xticks(rotation='vertical')\n",
    "plt.show()"
   ]
  },
  {
   "cell_type": "markdown",
   "id": "e3ab528d",
   "metadata": {},
   "source": [
    "#### Pre-processing the final dataset"
   ]
  },
  {
   "cell_type": "code",
   "execution_count": 71,
   "id": "962b245f",
   "metadata": {},
   "outputs": [
    {
     "data": {
      "text/plain": [
       "['product_name', 'department', 'aisle']"
      ]
     },
     "execution_count": 71,
     "metadata": {},
     "output_type": "execute_result"
    }
   ],
   "source": [
    "# check for categorical columns\n",
    "cat_col = []\n",
    "for x in sales_df.dtypes.index:\n",
    "    if sales_df.dtypes[x] == 'object':\n",
    "        cat_col.append(x)\n",
    "cat_col"
   ]
  },
  {
   "cell_type": "code",
   "execution_count": 72,
   "id": "e97103bb",
   "metadata": {},
   "outputs": [
    {
     "name": "stdout",
     "output_type": "stream",
     "text": [
      "(1384617, 11)\n"
     ]
    },
    {
     "data": {
      "text/html": [
       "<div>\n",
       "<style scoped>\n",
       "    .dataframe tbody tr th:only-of-type {\n",
       "        vertical-align: middle;\n",
       "    }\n",
       "\n",
       "    .dataframe tbody tr th {\n",
       "        vertical-align: top;\n",
       "    }\n",
       "\n",
       "    .dataframe thead th {\n",
       "        text-align: right;\n",
       "    }\n",
       "</style>\n",
       "<table border=\"1\" class=\"dataframe\">\n",
       "  <thead>\n",
       "    <tr style=\"text-align: right;\">\n",
       "      <th></th>\n",
       "      <th>user_id</th>\n",
       "      <th>product_id</th>\n",
       "      <th>product_reorder_rate</th>\n",
       "      <th>department_id</th>\n",
       "      <th>aisle_id</th>\n",
       "      <th>order_day</th>\n",
       "      <th>order_hour_of_day</th>\n",
       "      <th>days_since_prior_order</th>\n",
       "      <th>add_to_cart_order</th>\n",
       "      <th>user_reorder_rate</th>\n",
       "      <th>reordered</th>\n",
       "    </tr>\n",
       "  </thead>\n",
       "  <tbody>\n",
       "    <tr>\n",
       "      <th>0</th>\n",
       "      <td>1540</td>\n",
       "      <td>1</td>\n",
       "      <td>0.644737</td>\n",
       "      <td>19</td>\n",
       "      <td>61</td>\n",
       "      <td>1</td>\n",
       "      <td>1</td>\n",
       "      <td>8</td>\n",
       "      <td>7</td>\n",
       "      <td>1.0</td>\n",
       "      <td>1</td>\n",
       "    </tr>\n",
       "    <tr>\n",
       "      <th>1</th>\n",
       "      <td>1540</td>\n",
       "      <td>130</td>\n",
       "      <td>0.680000</td>\n",
       "      <td>1</td>\n",
       "      <td>37</td>\n",
       "      <td>1</td>\n",
       "      <td>1</td>\n",
       "      <td>8</td>\n",
       "      <td>14</td>\n",
       "      <td>1.0</td>\n",
       "      <td>1</td>\n",
       "    </tr>\n",
       "    <tr>\n",
       "      <th>2</th>\n",
       "      <td>1540</td>\n",
       "      <td>3298</td>\n",
       "      <td>0.731707</td>\n",
       "      <td>16</td>\n",
       "      <td>21</td>\n",
       "      <td>1</td>\n",
       "      <td>1</td>\n",
       "      <td>8</td>\n",
       "      <td>13</td>\n",
       "      <td>1.0</td>\n",
       "      <td>1</td>\n",
       "    </tr>\n",
       "    <tr>\n",
       "      <th>3</th>\n",
       "      <td>1540</td>\n",
       "      <td>6184</td>\n",
       "      <td>0.743153</td>\n",
       "      <td>4</td>\n",
       "      <td>32</td>\n",
       "      <td>1</td>\n",
       "      <td>1</td>\n",
       "      <td>8</td>\n",
       "      <td>19</td>\n",
       "      <td>1.0</td>\n",
       "      <td>1</td>\n",
       "    </tr>\n",
       "    <tr>\n",
       "      <th>4</th>\n",
       "      <td>1540</td>\n",
       "      <td>9007</td>\n",
       "      <td>0.608696</td>\n",
       "      <td>14</td>\n",
       "      <td>121</td>\n",
       "      <td>1</td>\n",
       "      <td>1</td>\n",
       "      <td>8</td>\n",
       "      <td>9</td>\n",
       "      <td>1.0</td>\n",
       "      <td>1</td>\n",
       "    </tr>\n",
       "  </tbody>\n",
       "</table>\n",
       "</div>"
      ],
      "text/plain": [
       "   user_id  product_id  product_reorder_rate  department_id  aisle_id  \\\n",
       "0     1540           1              0.644737             19        61   \n",
       "1     1540         130              0.680000              1        37   \n",
       "2     1540        3298              0.731707             16        21   \n",
       "3     1540        6184              0.743153              4        32   \n",
       "4     1540        9007              0.608696             14       121   \n",
       "\n",
       "   order_day  order_hour_of_day  days_since_prior_order  add_to_cart_order  \\\n",
       "0          1                  1                       8                  7   \n",
       "1          1                  1                       8                 14   \n",
       "2          1                  1                       8                 13   \n",
       "3          1                  1                       8                 19   \n",
       "4          1                  1                       8                  9   \n",
       "\n",
       "   user_reorder_rate  reordered  \n",
       "0                1.0          1  \n",
       "1                1.0          1  \n",
       "2                1.0          1  \n",
       "3                1.0          1  \n",
       "4                1.0          1  "
      ]
     },
     "execution_count": 72,
     "metadata": {},
     "output_type": "execute_result"
    }
   ],
   "source": [
    "# Dropping off the other irrelevant columns\n",
    "# Since 'product_name' & 'department' is already mapped to their id's, we can safely drop these columns\n",
    "sales_df.drop(['order_id', 'order_number', 'product_name', 'department', 'aisle'], axis=1, inplace=True)\n",
    "print(sales_df.shape)\n",
    "sales_df.head(5)"
   ]
  },
  {
   "cell_type": "markdown",
   "id": "331bd96a",
   "metadata": {},
   "source": [
    "#### Correlation Matrix"
   ]
  },
  {
   "cell_type": "code",
   "execution_count": 73,
   "id": "8cf43bef",
   "metadata": {},
   "outputs": [
    {
     "data": {
      "image/png": "[encoded data removed]",
      "text/plain": [
       "<Figure size 1080x720 with 2 Axes>"
      ]
     },
     "metadata": {
      "needs_background": "light"
     },
     "output_type": "display_data"
    }
   ],
   "source": [
    "# Correlation among all the numeric variables\n",
    "plt.figure(figsize=(15,10))\n",
    "sns.heatmap(sales_df.corr(), annot=True, cmap = \"coolwarm\")\n",
    "plt.show()"
   ]
  },
  {
   "cell_type": "code",
   "execution_count": 74,
   "id": "9059f6fd",
   "metadata": {},
   "outputs": [
    {
     "data": {
      "image/png": "[encoded data removed]",
      "text/plain": [
       "<Figure size 720x504 with 1 Axes>"
      ]
     },
     "metadata": {
      "needs_background": "light"
     },
     "output_type": "display_data"
    }
   ],
   "source": [
    "sales_df.drop('reordered', axis=1).corrwith(sales_df['reordered']).plot(kind='bar', grid=True, figsize=(10, 7),\n",
    "                                                            title=\"Correlation with the target feature\")\n",
    "plt.show()"
   ]
  },
  {
   "cell_type": "markdown",
   "id": "09290ea0",
   "metadata": {},
   "source": [
    "### Building our Model"
   ]
  },
  {
   "cell_type": "code",
   "execution_count": 75,
   "id": "4666a576",
   "metadata": {},
   "outputs": [],
   "source": [
    "# Define the 'features' and 'labels'\n",
    "X = sales_df.drop('reordered', axis='columns')\n",
    "y = sales_df['reordered']"
   ]
  },
  {
   "cell_type": "code",
   "execution_count": 76,
   "id": "ea650519",
   "metadata": {},
   "outputs": [],
   "source": [
    "# Define train : test dataset in 70 : 30 ratio\n",
    "from sklearn.model_selection import train_test_split\n",
    "X_train, X_test, y_train, y_test = train_test_split(X, y, test_size=0.3, random_state=42)"
   ]
  },
  {
   "cell_type": "code",
   "execution_count": 77,
   "id": "3f35cdef",
   "metadata": {},
   "outputs": [
    {
     "name": "stdout",
     "output_type": "stream",
     "text": [
      "(969231, 10)\n",
      "(969231,)\n",
      "(415386, 10)\n",
      "(415386,)\n"
     ]
    }
   ],
   "source": [
    "print(X_train.shape)\n",
    "print(y_train.shape)\n",
    "print(X_test.shape)\n",
    "print(y_test.shape)"
   ]
  },
  {
   "cell_type": "code",
   "execution_count": 78,
   "id": "1c623475",
   "metadata": {},
   "outputs": [],
   "source": [
    "# Scale down i/p features for better results\n",
    "from sklearn.preprocessing import StandardScaler\n",
    "sc = StandardScaler()\n",
    "X_train = sc.fit_transform(X_train)\n",
    "X_test = sc.transform(X_test)"
   ]
  },
  {
   "cell_type": "markdown",
   "id": "0f5d0301",
   "metadata": {},
   "source": [
    "### Logistic Regression Model"
   ]
  },
  {
   "cell_type": "code",
   "execution_count": 79,
   "id": "c785e305",
   "metadata": {},
   "outputs": [],
   "source": [
    "from sklearn.linear_model import LogisticRegression\n",
    "\n",
    "log_model = LogisticRegression()\n",
    "\n",
    "# Train the model on the training set\n",
    "log_model.fit(X_train, y_train)\n",
    "\n",
    "# Make predictions on the testing set\n",
    "y_pred = log_model.predict(X_test)"
   ]
  },
  {
   "cell_type": "code",
   "execution_count": 80,
   "id": "f8d6cda3",
   "metadata": {},
   "outputs": [
    {
     "name": "stdout",
     "output_type": "stream",
     "text": [
      "[[118803  48350]\n",
      " [ 33922 214311]]\n",
      "              precision    recall  f1-score   support\n",
      "\n",
      "           0       0.78      0.71      0.74    167153\n",
      "           1       0.82      0.86      0.84    248233\n",
      "\n",
      "    accuracy                           0.80    415386\n",
      "   macro avg       0.80      0.79      0.79    415386\n",
      "weighted avg       0.80      0.80      0.80    415386\n",
      "\n"
     ]
    }
   ],
   "source": [
    "# evaluating our model\n",
    "from sklearn.metrics import classification_report, confusion_matrix\n",
    "\n",
    "print(confusion_matrix(y_test, y_pred))\n",
    "print(classification_report(y_test, y_pred))"
   ]
  },
  {
   "cell_type": "code",
   "execution_count": 81,
   "id": "725f7c25",
   "metadata": {},
   "outputs": [
    {
     "name": "stdout",
     "output_type": "stream",
     "text": [
      "Accuracy score:  80.19384379829845\n"
     ]
    }
   ],
   "source": [
    "from sklearn.metrics import accuracy_score\n",
    "\n",
    "log_score = accuracy_score(y_test, y_pred)*100\n",
    "print(\"Accuracy score: \", log_score)"
   ]
  },
  {
   "cell_type": "code",
   "execution_count": 82,
   "id": "6b0fefe4",
   "metadata": {},
   "outputs": [
    {
     "name": "stdout",
     "output_type": "stream",
     "text": [
      "0.4436786884000896\n"
     ]
    }
   ],
   "source": [
    "# Calculate the log loss -> lower loss scores are better\n",
    "from sklearn.metrics import log_loss\n",
    "\n",
    "clf_probs = log_model.predict_proba(X_test)\n",
    "lr_log_score = log_loss(y_test, clf_probs)\n",
    "print(lr_log_score)"
   ]
  },
  {
   "cell_type": "markdown",
   "id": "fb7a886e",
   "metadata": {},
   "source": [
    "### Random Forest Classifier (RFC)"
   ]
  },
  {
   "cell_type": "code",
   "execution_count": 83,
   "id": "0b0cbcb2",
   "metadata": {},
   "outputs": [],
   "source": [
    "# Import Random Forest model\n",
    "from sklearn.ensemble import RandomForestClassifier\n",
    "\n",
    "rfc = RandomForestClassifier(random_state=42)\n",
    "\n",
    "# Train the model on the training set\n",
    "rfc.fit(X_train, y_train)\n",
    "\n",
    "# Make predictions on the testing set\n",
    "y_pred1 = rfc.predict(X_test)"
   ]
  },
  {
   "cell_type": "code",
   "execution_count": 84,
   "id": "1b345578",
   "metadata": {},
   "outputs": [
    {
     "name": "stdout",
     "output_type": "stream",
     "text": [
      "[[153133  14020]\n",
      " [ 13572 234661]]\n",
      "              precision    recall  f1-score   support\n",
      "\n",
      "           0       0.92      0.92      0.92    167153\n",
      "           1       0.94      0.95      0.94    248233\n",
      "\n",
      "    accuracy                           0.93    415386\n",
      "   macro avg       0.93      0.93      0.93    415386\n",
      "weighted avg       0.93      0.93      0.93    415386\n",
      "\n"
     ]
    }
   ],
   "source": [
    "# evaluating our RFC model\n",
    "from sklearn.metrics import classification_report, confusion_matrix\n",
    "\n",
    "print(confusion_matrix(y_test, y_pred1))\n",
    "print(classification_report(y_test, y_pred1))"
   ]
  },
  {
   "cell_type": "code",
   "execution_count": 85,
   "id": "706b4b79",
   "metadata": {},
   "outputs": [
    {
     "name": "stdout",
     "output_type": "stream",
     "text": [
      "Accuracy score:  93.35750362313607\n"
     ]
    }
   ],
   "source": [
    "from sklearn.metrics import accuracy_score\n",
    "\n",
    "rfc_score = accuracy_score(y_test, y_pred1)*100\n",
    "print(\"Accuracy score: \", rfc_score)"
   ]
  },
  {
   "cell_type": "code",
   "execution_count": 86,
   "id": "2377cde6",
   "metadata": {},
   "outputs": [
    {
     "name": "stdout",
     "output_type": "stream",
     "text": [
      "0.18238617998231632\n"
     ]
    }
   ],
   "source": [
    "# Calculate the log loss -> lower loss scores are better\n",
    "from sklearn.metrics import log_loss\n",
    "\n",
    "clf_probs = rfc.predict_proba(X_test)\n",
    "rfc_log_score = log_loss(y_test, clf_probs)\n",
    "print(rfc_log_score)"
   ]
  },
  {
   "cell_type": "markdown",
   "id": "e663c7ed",
   "metadata": {},
   "source": [
    "### XGBoost Classifier"
   ]
  },
  {
   "cell_type": "code",
   "execution_count": 87,
   "id": "2985d36a",
   "metadata": {},
   "outputs": [
    {
     "name": "stdout",
     "output_type": "stream",
     "text": [
      "[16:48:05] WARNING: ..\\src\\learner.cc:1115: Starting in XGBoost 1.3.0, the default evaluation metric used with the objective 'binary:logistic' was changed from 'error' to 'logloss'. Explicitly set eval_metric if you'd like to restore the old behavior.\n",
      "{'objective': 'binary:logistic', 'base_score': 0.5, 'booster': 'gbtree', 'colsample_bylevel': 1, 'colsample_bynode': 1, 'colsample_bytree': 1, 'gamma': 0, 'gpu_id': -1, 'interaction_constraints': '', 'learning_rate': 0.300000012, 'max_delta_step': 0, 'max_depth': 3, 'min_child_weight': 1, 'monotone_constraints': '()', 'n_jobs': 12, 'num_parallel_tree': 1, 'predictor': 'auto', 'random_state': 0, 'reg_alpha': 0, 'reg_lambda': 1, 'scale_pos_weight': 1, 'subsample': 1, 'tree_method': 'exact', 'validate_parameters': 1, 'verbosity': None}\n"
     ]
    }
   ],
   "source": [
    "from xgboost.sklearn import XGBClassifier\n",
    "import xgboost as xgb\n",
    "\n",
    "xgb_clf = XGBClassifier(max_depth=3)\n",
    "\n",
    "# Train the model on the training set\n",
    "xgb_clf.fit(X_train, y_train)\n",
    "\n",
    "print(xgb_clf.get_xgb_params())\n",
    "\n",
    "# Make predictions on the testing set\n",
    "y_pred2 = xgb_clf.predict(X_test)"
   ]
  },
  {
   "cell_type": "code",
   "execution_count": 88,
   "id": "ef0801f8",
   "metadata": {},
   "outputs": [
    {
     "name": "stdout",
     "output_type": "stream",
     "text": [
      "Accuracy score:  87.22778331479635\n"
     ]
    }
   ],
   "source": [
    "from sklearn.metrics import accuracy_score\n",
    "\n",
    "xgb_clf_score = accuracy_score(y_test, y_pred2)*100\n",
    "print(\"Accuracy score: \", xgb_clf_score)"
   ]
  },
  {
   "cell_type": "markdown",
   "id": "7948250a",
   "metadata": {},
   "source": [
    "##### Hyperparameter tuning in XGBoost Classifier"
   ]
  },
  {
   "cell_type": "code",
   "execution_count": 89,
   "id": "a0324d7d",
   "metadata": {},
   "outputs": [],
   "source": [
    "# Hyperparameter tuning\n",
    "import xgboost as xgb\n",
    "from sklearn.model_selection import RandomizedSearchCV\n",
    "\n",
    "param_grid = {\n",
    "        'max_depth': [5, 6, 7, 8, 9, 10],\n",
    "        'learning_rate': [0.001, 0.01, 0.1, 0.2, 0.3, 0.5, 1.0],\n",
    "        'subsample': [0.5, 0.6, 0.7, 0.8, 0.9, 1],\n",
    "        'colsample_bytree': [0.5, 0.6, 0.7, 0.8, 0.9, 1],\n",
    "        'colsample_bylevel': [0.5, 0.6, 0.7, 0.8, 0.9, 1],\n",
    "        'min_child_weight': [0.1, 0.2, 0.3, 0.5, 1],\n",
    "        'gamma': [0, 0.25, 0.5, 1],\n",
    "        'n_estimators': [100, 200, 300, 500, 1000]}\n",
    "\n",
    "fit_params = {'eval_metric': 'logloss',\n",
    "              'early_stopping_rounds': 10,\n",
    "              'eval_set': [(X_train, y_train)]}"
   ]
  },
  {
   "cell_type": "code",
   "execution_count": 90,
   "id": "e7fe6206",
   "metadata": {},
   "outputs": [
    {
     "name": "stdout",
     "output_type": "stream",
     "text": [
      "Fitting 2 folds for each of 10 candidates, totalling 20 fits\n",
      "[0]\tvalidation_0-logloss:0.63737\n",
      "[1]\tvalidation_0-logloss:0.59591\n",
      "[2]\tvalidation_0-logloss:0.57573\n",
      "[3]\tvalidation_0-logloss:0.53789\n",
      "[4]\tvalidation_0-logloss:0.50589\n",
      "[5]\tvalidation_0-logloss:0.47863\n",
      "[6]\tvalidation_0-logloss:0.45570\n",
      "[7]\tvalidation_0-logloss:0.43543\n",
      "[8]\tvalidation_0-logloss:0.41581\n",
      "[9]\tvalidation_0-logloss:0.39999\n",
      "[10]\tvalidation_0-logloss:0.38798\n",
      "[11]\tvalidation_0-logloss:0.37509\n",
      "[12]\tvalidation_0-logloss:0.36359\n",
      "[13]\tvalidation_0-logloss:0.35344\n",
      "[14]\tvalidation_0-logloss:0.34329\n",
      "[15]\tvalidation_0-logloss:0.33434\n",
      "[16]\tvalidation_0-logloss:0.32815\n",
      "[17]\tvalidation_0-logloss:0.32097\n",
      "[18]\tvalidation_0-logloss:0.31544\n",
      "[19]\tvalidation_0-logloss:0.31023\n",
      "[20]\tvalidation_0-logloss:0.30498\n",
      "[21]\tvalidation_0-logloss:0.30073\n",
      "[22]\tvalidation_0-logloss:0.29723\n",
      "[23]\tvalidation_0-logloss:0.29320\n",
      "[24]\tvalidation_0-logloss:0.29030\n",
      "[25]\tvalidation_0-logloss:0.28740\n",
      "[26]\tvalidation_0-logloss:0.28357\n",
      "[27]\tvalidation_0-logloss:0.28137\n",
      "[28]\tvalidation_0-logloss:0.27902\n",
      "[29]\tvalidation_0-logloss:0.27733\n",
      "[30]\tvalidation_0-logloss:0.27603\n",
      "[31]\tvalidation_0-logloss:0.27457\n",
      "[32]\tvalidation_0-logloss:0.27214\n",
      "[33]\tvalidation_0-logloss:0.27066\n",
      "[34]\tvalidation_0-logloss:0.26885\n",
      "[35]\tvalidation_0-logloss:0.26782\n",
      "[36]\tvalidation_0-logloss:0.26695\n",
      "[37]\tvalidation_0-logloss:0.26605\n",
      "[38]\tvalidation_0-logloss:0.26532\n",
      "[39]\tvalidation_0-logloss:0.26349\n",
      "[40]\tvalidation_0-logloss:0.26259\n",
      "[41]\tvalidation_0-logloss:0.26187\n",
      "[42]\tvalidation_0-logloss:0.26122\n",
      "[43]\tvalidation_0-logloss:0.26078\n",
      "[44]\tvalidation_0-logloss:0.26032\n",
      "[45]\tvalidation_0-logloss:0.25979\n",
      "[46]\tvalidation_0-logloss:0.25947\n",
      "[47]\tvalidation_0-logloss:0.25903\n",
      "[48]\tvalidation_0-logloss:0.25877\n",
      "[49]\tvalidation_0-logloss:0.25857\n",
      "[50]\tvalidation_0-logloss:0.25831\n",
      "[51]\tvalidation_0-logloss:0.25814\n",
      "[52]\tvalidation_0-logloss:0.25799\n",
      "[53]\tvalidation_0-logloss:0.25717\n",
      "[54]\tvalidation_0-logloss:0.25680\n",
      "[55]\tvalidation_0-logloss:0.25667\n",
      "[56]\tvalidation_0-logloss:0.25570\n",
      "[57]\tvalidation_0-logloss:0.25525\n",
      "[58]\tvalidation_0-logloss:0.25506\n",
      "[59]\tvalidation_0-logloss:0.25472\n",
      "[60]\tvalidation_0-logloss:0.25458\n",
      "[61]\tvalidation_0-logloss:0.25445\n",
      "[62]\tvalidation_0-logloss:0.25433\n",
      "[63]\tvalidation_0-logloss:0.25425\n",
      "[64]\tvalidation_0-logloss:0.25354\n",
      "[65]\tvalidation_0-logloss:0.25328\n",
      "[66]\tvalidation_0-logloss:0.25284\n",
      "[67]\tvalidation_0-logloss:0.25256\n",
      "[68]\tvalidation_0-logloss:0.25173\n",
      "[69]\tvalidation_0-logloss:0.25156\n",
      "[70]\tvalidation_0-logloss:0.25134\n",
      "[71]\tvalidation_0-logloss:0.25006\n",
      "[72]\tvalidation_0-logloss:0.24987\n",
      "[73]\tvalidation_0-logloss:0.24942\n",
      "[74]\tvalidation_0-logloss:0.24925\n",
      "[75]\tvalidation_0-logloss:0.24911\n",
      "[76]\tvalidation_0-logloss:0.24813\n",
      "[77]\tvalidation_0-logloss:0.24793\n",
      "[78]\tvalidation_0-logloss:0.24768\n",
      "[79]\tvalidation_0-logloss:0.24752\n",
      "[80]\tvalidation_0-logloss:0.24721\n",
      "[81]\tvalidation_0-logloss:0.24653\n",
      "[82]\tvalidation_0-logloss:0.24608\n",
      "[83]\tvalidation_0-logloss:0.24589\n",
      "[84]\tvalidation_0-logloss:0.24557\n",
      "[85]\tvalidation_0-logloss:0.24544\n",
      "[86]\tvalidation_0-logloss:0.24508\n",
      "[87]\tvalidation_0-logloss:0.24496\n",
      "[88]\tvalidation_0-logloss:0.24490\n",
      "[89]\tvalidation_0-logloss:0.24429\n",
      "[90]\tvalidation_0-logloss:0.24417\n",
      "[91]\tvalidation_0-logloss:0.24366\n",
      "[92]\tvalidation_0-logloss:0.24334\n",
      "[93]\tvalidation_0-logloss:0.24224\n",
      "[94]\tvalidation_0-logloss:0.24187\n",
      "[95]\tvalidation_0-logloss:0.24158\n",
      "[96]\tvalidation_0-logloss:0.24129\n",
      "[97]\tvalidation_0-logloss:0.24108\n",
      "[98]\tvalidation_0-logloss:0.24093\n",
      "[99]\tvalidation_0-logloss:0.24005\n",
      "[100]\tvalidation_0-logloss:0.23953\n",
      "[101]\tvalidation_0-logloss:0.23918\n",
      "[102]\tvalidation_0-logloss:0.23898\n",
      "[103]\tvalidation_0-logloss:0.23856\n",
      "[104]\tvalidation_0-logloss:0.23829\n",
      "[105]\tvalidation_0-logloss:0.23795\n",
      "[106]\tvalidation_0-logloss:0.23757\n",
      "[107]\tvalidation_0-logloss:0.23728\n",
      "[108]\tvalidation_0-logloss:0.23621\n",
      "[109]\tvalidation_0-logloss:0.23587\n",
      "[110]\tvalidation_0-logloss:0.23565\n",
      "[111]\tvalidation_0-logloss:0.23479\n",
      "[112]\tvalidation_0-logloss:0.23450\n",
      "[113]\tvalidation_0-logloss:0.23411\n",
      "[114]\tvalidation_0-logloss:0.23405\n",
      "[115]\tvalidation_0-logloss:0.23386\n",
      "[116]\tvalidation_0-logloss:0.23366\n",
      "[117]\tvalidation_0-logloss:0.23286\n",
      "[118]\tvalidation_0-logloss:0.23281\n",
      "[119]\tvalidation_0-logloss:0.23266\n",
      "[120]\tvalidation_0-logloss:0.23208\n",
      "[121]\tvalidation_0-logloss:0.23145\n",
      "[122]\tvalidation_0-logloss:0.23037\n",
      "[123]\tvalidation_0-logloss:0.23023\n",
      "[124]\tvalidation_0-logloss:0.22989\n",
      "[125]\tvalidation_0-logloss:0.22960\n",
      "[126]\tvalidation_0-logloss:0.22914\n",
      "[127]\tvalidation_0-logloss:0.22896\n",
      "[128]\tvalidation_0-logloss:0.22875\n",
      "[129]\tvalidation_0-logloss:0.22870\n",
      "[130]\tvalidation_0-logloss:0.22847\n",
      "[131]\tvalidation_0-logloss:0.22842\n",
      "[132]\tvalidation_0-logloss:0.22800\n",
      "[133]\tvalidation_0-logloss:0.22786\n",
      "[134]\tvalidation_0-logloss:0.22770\n",
      "[135]\tvalidation_0-logloss:0.22698\n",
      "[136]\tvalidation_0-logloss:0.22657\n",
      "[137]\tvalidation_0-logloss:0.22651\n",
      "[138]\tvalidation_0-logloss:0.22559\n",
      "[139]\tvalidation_0-logloss:0.22442\n",
      "[140]\tvalidation_0-logloss:0.22354\n",
      "[141]\tvalidation_0-logloss:0.22287\n",
      "[142]\tvalidation_0-logloss:0.22251\n",
      "[143]\tvalidation_0-logloss:0.22234\n",
      "[144]\tvalidation_0-logloss:0.22174\n",
      "[145]\tvalidation_0-logloss:0.22116\n",
      "[146]\tvalidation_0-logloss:0.22084\n",
      "[147]\tvalidation_0-logloss:0.22047\n",
      "[148]\tvalidation_0-logloss:0.22022\n",
      "[149]\tvalidation_0-logloss:0.21972\n",
      "[150]\tvalidation_0-logloss:0.21889\n",
      "[151]\tvalidation_0-logloss:0.21869\n",
      "[152]\tvalidation_0-logloss:0.21849\n",
      "[153]\tvalidation_0-logloss:0.21801\n",
      "[154]\tvalidation_0-logloss:0.21793\n",
      "[155]\tvalidation_0-logloss:0.21747\n",
      "[156]\tvalidation_0-logloss:0.21720\n",
      "[157]\tvalidation_0-logloss:0.21676\n",
      "[158]\tvalidation_0-logloss:0.21637\n",
      "[159]\tvalidation_0-logloss:0.21571\n",
      "[160]\tvalidation_0-logloss:0.21566\n",
      "[161]\tvalidation_0-logloss:0.21477\n",
      "[162]\tvalidation_0-logloss:0.21440\n",
      "[163]\tvalidation_0-logloss:0.21421\n",
      "[164]\tvalidation_0-logloss:0.21358\n",
      "[165]\tvalidation_0-logloss:0.21318\n",
      "[166]\tvalidation_0-logloss:0.21284\n",
      "[167]\tvalidation_0-logloss:0.21259\n",
      "[168]\tvalidation_0-logloss:0.21213\n",
      "[169]\tvalidation_0-logloss:0.21194\n",
      "[170]\tvalidation_0-logloss:0.21141\n",
      "[171]\tvalidation_0-logloss:0.21096\n",
      "[172]\tvalidation_0-logloss:0.20990\n",
      "[173]\tvalidation_0-logloss:0.20972\n",
      "[174]\tvalidation_0-logloss:0.20947\n",
      "[175]\tvalidation_0-logloss:0.20943\n",
      "[176]\tvalidation_0-logloss:0.20901\n",
      "[177]\tvalidation_0-logloss:0.20887\n",
      "[178]\tvalidation_0-logloss:0.20869\n",
      "[179]\tvalidation_0-logloss:0.20862\n",
      "[180]\tvalidation_0-logloss:0.20757\n",
      "[181]\tvalidation_0-logloss:0.20714\n",
      "[182]\tvalidation_0-logloss:0.20681\n",
      "[183]\tvalidation_0-logloss:0.20661\n",
      "[184]\tvalidation_0-logloss:0.20591\n",
      "[185]\tvalidation_0-logloss:0.20537\n",
      "[186]\tvalidation_0-logloss:0.20519\n",
      "[187]\tvalidation_0-logloss:0.20510\n",
      "[188]\tvalidation_0-logloss:0.20505\n",
      "[189]\tvalidation_0-logloss:0.20466\n",
      "[190]\tvalidation_0-logloss:0.20409\n",
      "[191]\tvalidation_0-logloss:0.20366\n",
      "[192]\tvalidation_0-logloss:0.20355\n",
      "[193]\tvalidation_0-logloss:0.20340\n",
      "[194]\tvalidation_0-logloss:0.20258\n",
      "[195]\tvalidation_0-logloss:0.20238\n",
      "[196]\tvalidation_0-logloss:0.20215\n",
      "[197]\tvalidation_0-logloss:0.20207\n",
      "[198]\tvalidation_0-logloss:0.20177\n",
      "[199]\tvalidation_0-logloss:0.20169\n",
      "[200]\tvalidation_0-logloss:0.20098\n",
      "[201]\tvalidation_0-logloss:0.20025\n",
      "[202]\tvalidation_0-logloss:0.19990\n",
      "[203]\tvalidation_0-logloss:0.19938\n",
      "[204]\tvalidation_0-logloss:0.19929\n",
      "[205]\tvalidation_0-logloss:0.19901\n",
      "[206]\tvalidation_0-logloss:0.19849\n",
      "[207]\tvalidation_0-logloss:0.19842\n",
      "[208]\tvalidation_0-logloss:0.19834\n",
      "[209]\tvalidation_0-logloss:0.19792\n",
      "[210]\tvalidation_0-logloss:0.19778\n",
      "[211]\tvalidation_0-logloss:0.19745\n",
      "[212]\tvalidation_0-logloss:0.19705\n",
      "[213]\tvalidation_0-logloss:0.19689\n",
      "[214]\tvalidation_0-logloss:0.19621\n",
      "[215]\tvalidation_0-logloss:0.19615\n",
      "[216]\tvalidation_0-logloss:0.19538\n",
      "[217]\tvalidation_0-logloss:0.19436\n",
      "[218]\tvalidation_0-logloss:0.19408\n",
      "[219]\tvalidation_0-logloss:0.19382\n",
      "[220]\tvalidation_0-logloss:0.19331\n",
      "[221]\tvalidation_0-logloss:0.19312\n",
      "[222]\tvalidation_0-logloss:0.19288\n",
      "[223]\tvalidation_0-logloss:0.19271\n",
      "[224]\tvalidation_0-logloss:0.19234\n",
      "[225]\tvalidation_0-logloss:0.19212\n",
      "[226]\tvalidation_0-logloss:0.19144\n",
      "[227]\tvalidation_0-logloss:0.19123\n",
      "[228]\tvalidation_0-logloss:0.19025\n",
      "[229]\tvalidation_0-logloss:0.18991\n",
      "[230]\tvalidation_0-logloss:0.18978\n",
      "[231]\tvalidation_0-logloss:0.18966\n",
      "[232]\tvalidation_0-logloss:0.18929\n",
      "[233]\tvalidation_0-logloss:0.18885\n",
      "[234]\tvalidation_0-logloss:0.18851\n",
      "[235]\tvalidation_0-logloss:0.18771\n",
      "[236]\tvalidation_0-logloss:0.18741\n",
      "[237]\tvalidation_0-logloss:0.18692\n",
      "[238]\tvalidation_0-logloss:0.18660\n",
      "[239]\tvalidation_0-logloss:0.18605\n",
      "[240]\tvalidation_0-logloss:0.18567\n",
      "[241]\tvalidation_0-logloss:0.18560\n",
      "[242]\tvalidation_0-logloss:0.18556\n",
      "[243]\tvalidation_0-logloss:0.18523\n",
      "[244]\tvalidation_0-logloss:0.18509\n",
      "[245]\tvalidation_0-logloss:0.18462\n",
      "[246]\tvalidation_0-logloss:0.18437\n",
      "[247]\tvalidation_0-logloss:0.18400\n",
      "[248]\tvalidation_0-logloss:0.18391\n",
      "[249]\tvalidation_0-logloss:0.18373\n",
      "[250]\tvalidation_0-logloss:0.18359\n",
      "[251]\tvalidation_0-logloss:0.18269\n",
      "[252]\tvalidation_0-logloss:0.18249\n",
      "[253]\tvalidation_0-logloss:0.18191\n",
      "[254]\tvalidation_0-logloss:0.18184\n",
      "[255]\tvalidation_0-logloss:0.18181\n",
      "[256]\tvalidation_0-logloss:0.18114\n",
      "[257]\tvalidation_0-logloss:0.18070\n",
      "[258]\tvalidation_0-logloss:0.18058\n",
      "[259]\tvalidation_0-logloss:0.17988\n",
      "[260]\tvalidation_0-logloss:0.17977\n",
      "[261]\tvalidation_0-logloss:0.17934\n",
      "[262]\tvalidation_0-logloss:0.17921\n",
      "[263]\tvalidation_0-logloss:0.17867\n",
      "[264]\tvalidation_0-logloss:0.17851\n",
      "[265]\tvalidation_0-logloss:0.17812\n",
      "[266]\tvalidation_0-logloss:0.17795\n",
      "[267]\tvalidation_0-logloss:0.17757\n",
      "[268]\tvalidation_0-logloss:0.17717\n",
      "[269]\tvalidation_0-logloss:0.17704\n",
      "[270]\tvalidation_0-logloss:0.17699\n",
      "[271]\tvalidation_0-logloss:0.17692\n",
      "[272]\tvalidation_0-logloss:0.17661\n",
      "[273]\tvalidation_0-logloss:0.17630\n",
      "[274]\tvalidation_0-logloss:0.17583\n",
      "[275]\tvalidation_0-logloss:0.17565\n",
      "[276]\tvalidation_0-logloss:0.17528\n",
      "[277]\tvalidation_0-logloss:0.17499\n",
      "[278]\tvalidation_0-logloss:0.17486\n",
      "[279]\tvalidation_0-logloss:0.17453\n",
      "[280]\tvalidation_0-logloss:0.17430\n",
      "[281]\tvalidation_0-logloss:0.17411\n",
      "[282]\tvalidation_0-logloss:0.17367\n",
      "[283]\tvalidation_0-logloss:0.17303\n",
      "[284]\tvalidation_0-logloss:0.17290\n",
      "[285]\tvalidation_0-logloss:0.17282\n",
      "[286]\tvalidation_0-logloss:0.17263\n",
      "[287]\tvalidation_0-logloss:0.17247\n",
      "[288]\tvalidation_0-logloss:0.17228\n",
      "[289]\tvalidation_0-logloss:0.17216\n",
      "[290]\tvalidation_0-logloss:0.17178\n",
      "[291]\tvalidation_0-logloss:0.17129\n",
      "[292]\tvalidation_0-logloss:0.17123\n",
      "[293]\tvalidation_0-logloss:0.17117\n",
      "[294]\tvalidation_0-logloss:0.17113\n",
      "[295]\tvalidation_0-logloss:0.17096\n",
      "[296]\tvalidation_0-logloss:0.17056\n",
      "[297]\tvalidation_0-logloss:0.17042\n",
      "[298]\tvalidation_0-logloss:0.17007\n",
      "[299]\tvalidation_0-logloss:0.16999\n",
      "[300]\tvalidation_0-logloss:0.16993\n",
      "[301]\tvalidation_0-logloss:0.16983\n",
      "[302]\tvalidation_0-logloss:0.16973\n",
      "[303]\tvalidation_0-logloss:0.16949\n",
      "[304]\tvalidation_0-logloss:0.16945\n",
      "[305]\tvalidation_0-logloss:0.16938\n",
      "[306]\tvalidation_0-logloss:0.16933\n",
      "[307]\tvalidation_0-logloss:0.16896\n",
      "[308]\tvalidation_0-logloss:0.16870\n",
      "[309]\tvalidation_0-logloss:0.16864\n",
      "[310]\tvalidation_0-logloss:0.16851\n",
      "[311]\tvalidation_0-logloss:0.16805\n",
      "[312]\tvalidation_0-logloss:0.16777\n",
      "[313]\tvalidation_0-logloss:0.16723\n",
      "[314]\tvalidation_0-logloss:0.16722\n",
      "[315]\tvalidation_0-logloss:0.16712\n",
      "[316]\tvalidation_0-logloss:0.16693\n",
      "[317]\tvalidation_0-logloss:0.16680\n",
      "[318]\tvalidation_0-logloss:0.16663\n",
      "[319]\tvalidation_0-logloss:0.16656\n",
      "[320]\tvalidation_0-logloss:0.16650\n",
      "[321]\tvalidation_0-logloss:0.16644\n",
      "[322]\tvalidation_0-logloss:0.16632\n",
      "[323]\tvalidation_0-logloss:0.16607\n",
      "[324]\tvalidation_0-logloss:0.16601\n",
      "[325]\tvalidation_0-logloss:0.16574\n",
      "[326]\tvalidation_0-logloss:0.16556\n",
      "[327]\tvalidation_0-logloss:0.16525\n",
      "[328]\tvalidation_0-logloss:0.16516\n",
      "[329]\tvalidation_0-logloss:0.16464\n",
      "[330]\tvalidation_0-logloss:0.16458\n",
      "[331]\tvalidation_0-logloss:0.16455\n",
      "[332]\tvalidation_0-logloss:0.16408\n",
      "[333]\tvalidation_0-logloss:0.16397\n",
      "[334]\tvalidation_0-logloss:0.16317\n",
      "[335]\tvalidation_0-logloss:0.16301\n",
      "[336]\tvalidation_0-logloss:0.16266\n",
      "[337]\tvalidation_0-logloss:0.16219\n",
      "[338]\tvalidation_0-logloss:0.16189\n",
      "[339]\tvalidation_0-logloss:0.16170\n",
      "[340]\tvalidation_0-logloss:0.16149\n",
      "[341]\tvalidation_0-logloss:0.16113\n",
      "[342]\tvalidation_0-logloss:0.16098\n",
      "[343]\tvalidation_0-logloss:0.16093\n",
      "[344]\tvalidation_0-logloss:0.16066\n",
      "[345]\tvalidation_0-logloss:0.16035\n",
      "[346]\tvalidation_0-logloss:0.16022\n",
      "[347]\tvalidation_0-logloss:0.15956\n",
      "[348]\tvalidation_0-logloss:0.15922\n",
      "[349]\tvalidation_0-logloss:0.15913\n",
      "[350]\tvalidation_0-logloss:0.15893\n",
      "[351]\tvalidation_0-logloss:0.15884\n",
      "[352]\tvalidation_0-logloss:0.15877\n",
      "[353]\tvalidation_0-logloss:0.15862\n",
      "[354]\tvalidation_0-logloss:0.15853\n",
      "[355]\tvalidation_0-logloss:0.15839\n",
      "[356]\tvalidation_0-logloss:0.15832\n",
      "[357]\tvalidation_0-logloss:0.15826\n",
      "[358]\tvalidation_0-logloss:0.15816\n",
      "[359]\tvalidation_0-logloss:0.15769\n",
      "[360]\tvalidation_0-logloss:0.15754\n",
      "[361]\tvalidation_0-logloss:0.15736\n",
      "[362]\tvalidation_0-logloss:0.15723\n",
      "[363]\tvalidation_0-logloss:0.15720\n",
      "[364]\tvalidation_0-logloss:0.15694\n",
      "[365]\tvalidation_0-logloss:0.15683\n",
      "[366]\tvalidation_0-logloss:0.15664\n",
      "[367]\tvalidation_0-logloss:0.15653\n",
      "[368]\tvalidation_0-logloss:0.15646\n",
      "[369]\tvalidation_0-logloss:0.15633\n",
      "[370]\tvalidation_0-logloss:0.15616\n",
      "[371]\tvalidation_0-logloss:0.15597\n",
      "[372]\tvalidation_0-logloss:0.15571\n",
      "[373]\tvalidation_0-logloss:0.15541\n",
      "[374]\tvalidation_0-logloss:0.15533\n",
      "[375]\tvalidation_0-logloss:0.15517\n",
      "[376]\tvalidation_0-logloss:0.15506\n",
      "[377]\tvalidation_0-logloss:0.15489\n",
      "[378]\tvalidation_0-logloss:0.15460\n",
      "[379]\tvalidation_0-logloss:0.15444\n",
      "[380]\tvalidation_0-logloss:0.15418\n",
      "[381]\tvalidation_0-logloss:0.15406\n",
      "[382]\tvalidation_0-logloss:0.15399\n",
      "[383]\tvalidation_0-logloss:0.15393\n",
      "[384]\tvalidation_0-logloss:0.15372\n",
      "[385]\tvalidation_0-logloss:0.15370\n",
      "[386]\tvalidation_0-logloss:0.15365\n",
      "[387]\tvalidation_0-logloss:0.15350\n",
      "[388]\tvalidation_0-logloss:0.15321\n",
      "[389]\tvalidation_0-logloss:0.15274\n",
      "[390]\tvalidation_0-logloss:0.15261\n",
      "[391]\tvalidation_0-logloss:0.15238\n",
      "[392]\tvalidation_0-logloss:0.15232\n",
      "[393]\tvalidation_0-logloss:0.15224\n",
      "[394]\tvalidation_0-logloss:0.15215\n",
      "[395]\tvalidation_0-logloss:0.15208\n",
      "[396]\tvalidation_0-logloss:0.15201\n",
      "[397]\tvalidation_0-logloss:0.15179\n",
      "[398]\tvalidation_0-logloss:0.15167\n",
      "[399]\tvalidation_0-logloss:0.15158\n",
      "[400]\tvalidation_0-logloss:0.15124\n",
      "[401]\tvalidation_0-logloss:0.15088\n",
      "[402]\tvalidation_0-logloss:0.15055\n",
      "[403]\tvalidation_0-logloss:0.15043\n",
      "[404]\tvalidation_0-logloss:0.15039\n",
      "[405]\tvalidation_0-logloss:0.14996\n",
      "[406]\tvalidation_0-logloss:0.14978\n",
      "[407]\tvalidation_0-logloss:0.14947\n",
      "[408]\tvalidation_0-logloss:0.14941\n",
      "[409]\tvalidation_0-logloss:0.14932\n",
      "[410]\tvalidation_0-logloss:0.14922\n",
      "[411]\tvalidation_0-logloss:0.14901\n",
      "[412]\tvalidation_0-logloss:0.14896\n",
      "[413]\tvalidation_0-logloss:0.14886\n",
      "[414]\tvalidation_0-logloss:0.14884\n",
      "[415]\tvalidation_0-logloss:0.14872\n",
      "[416]\tvalidation_0-logloss:0.14867\n",
      "[417]\tvalidation_0-logloss:0.14854\n",
      "[418]\tvalidation_0-logloss:0.14836\n",
      "[419]\tvalidation_0-logloss:0.14827\n",
      "[420]\tvalidation_0-logloss:0.14815\n",
      "[421]\tvalidation_0-logloss:0.14773\n",
      "[422]\tvalidation_0-logloss:0.14766\n",
      "[423]\tvalidation_0-logloss:0.14732\n",
      "[424]\tvalidation_0-logloss:0.14723\n",
      "[425]\tvalidation_0-logloss:0.14691\n",
      "[426]\tvalidation_0-logloss:0.14668\n",
      "[427]\tvalidation_0-logloss:0.14643\n",
      "[428]\tvalidation_0-logloss:0.14630\n",
      "[429]\tvalidation_0-logloss:0.14620\n",
      "[430]\tvalidation_0-logloss:0.14616\n",
      "[431]\tvalidation_0-logloss:0.14590\n",
      "[432]\tvalidation_0-logloss:0.14574\n",
      "[433]\tvalidation_0-logloss:0.14541\n",
      "[434]\tvalidation_0-logloss:0.14523\n",
      "[435]\tvalidation_0-logloss:0.14501\n",
      "[436]\tvalidation_0-logloss:0.14483\n",
      "[437]\tvalidation_0-logloss:0.14473\n",
      "[438]\tvalidation_0-logloss:0.14463\n",
      "[439]\tvalidation_0-logloss:0.14457\n",
      "[440]\tvalidation_0-logloss:0.14451\n",
      "[441]\tvalidation_0-logloss:0.14446\n",
      "[442]\tvalidation_0-logloss:0.14432\n",
      "[443]\tvalidation_0-logloss:0.14424\n",
      "[444]\tvalidation_0-logloss:0.14418\n",
      "[445]\tvalidation_0-logloss:0.14386\n",
      "[446]\tvalidation_0-logloss:0.14383\n",
      "[447]\tvalidation_0-logloss:0.14363\n",
      "[448]\tvalidation_0-logloss:0.14350\n",
      "[449]\tvalidation_0-logloss:0.14318\n",
      "[450]\tvalidation_0-logloss:0.14295\n",
      "[451]\tvalidation_0-logloss:0.14274\n",
      "[452]\tvalidation_0-logloss:0.14261\n",
      "[453]\tvalidation_0-logloss:0.14242\n",
      "[454]\tvalidation_0-logloss:0.14236\n",
      "[455]\tvalidation_0-logloss:0.14214\n",
      "[456]\tvalidation_0-logloss:0.14194\n",
      "[457]\tvalidation_0-logloss:0.14187\n",
      "[458]\tvalidation_0-logloss:0.14181\n",
      "[459]\tvalidation_0-logloss:0.14178\n",
      "[460]\tvalidation_0-logloss:0.14175\n",
      "[461]\tvalidation_0-logloss:0.14164\n",
      "[462]\tvalidation_0-logloss:0.14156\n",
      "[463]\tvalidation_0-logloss:0.14142\n",
      "[464]\tvalidation_0-logloss:0.14129\n",
      "[465]\tvalidation_0-logloss:0.14093\n",
      "[466]\tvalidation_0-logloss:0.14093\n",
      "[467]\tvalidation_0-logloss:0.14072\n",
      "[468]\tvalidation_0-logloss:0.14053\n",
      "[469]\tvalidation_0-logloss:0.14040\n",
      "[470]\tvalidation_0-logloss:0.14034\n",
      "[471]\tvalidation_0-logloss:0.14010\n",
      "[472]\tvalidation_0-logloss:0.13989\n",
      "[473]\tvalidation_0-logloss:0.13979\n",
      "[474]\tvalidation_0-logloss:0.13968\n",
      "[475]\tvalidation_0-logloss:0.13935\n",
      "[476]\tvalidation_0-logloss:0.13923\n",
      "[477]\tvalidation_0-logloss:0.13911\n",
      "[478]\tvalidation_0-logloss:0.13891\n",
      "[479]\tvalidation_0-logloss:0.13865\n",
      "[480]\tvalidation_0-logloss:0.13850\n",
      "[481]\tvalidation_0-logloss:0.13842\n",
      "[482]\tvalidation_0-logloss:0.13831\n",
      "[483]\tvalidation_0-logloss:0.13814\n",
      "[484]\tvalidation_0-logloss:0.13808\n",
      "[485]\tvalidation_0-logloss:0.13798\n",
      "[486]\tvalidation_0-logloss:0.13778\n",
      "[487]\tvalidation_0-logloss:0.13770\n",
      "[488]\tvalidation_0-logloss:0.13768\n",
      "[489]\tvalidation_0-logloss:0.13752\n",
      "[490]\tvalidation_0-logloss:0.13749\n",
      "[491]\tvalidation_0-logloss:0.13745\n",
      "[492]\tvalidation_0-logloss:0.13730\n",
      "[493]\tvalidation_0-logloss:0.13724\n",
      "[494]\tvalidation_0-logloss:0.13711\n",
      "[495]\tvalidation_0-logloss:0.13692\n",
      "[496]\tvalidation_0-logloss:0.13676\n",
      "[497]\tvalidation_0-logloss:0.13667\n",
      "[498]\tvalidation_0-logloss:0.13662\n",
      "[499]\tvalidation_0-logloss:0.13641\n"
     ]
    },
    {
     "data": {
      "text/plain": [
       "RandomizedSearchCV(cv=2,\n",
       "                   estimator=XGBClassifier(base_score=None, booster=None,\n",
       "                                           colsample_bylevel=None,\n",
       "                                           colsample_bynode=None,\n",
       "                                           colsample_bytree=None,\n",
       "                                           enable_categorical=False, gamma=None,\n",
       "                                           gpu_id=None, importance_type=None,\n",
       "                                           interaction_constraints=None,\n",
       "                                           learning_rate=None,\n",
       "                                           max_delta_step=None, max_depth=None,\n",
       "                                           min_child_weight=None, missing=nan,\n",
       "                                           monotone_constraints...\n",
       "                   param_distributions={'colsample_bylevel': [0.5, 0.6, 0.7,\n",
       "                                                              0.8, 0.9, 1],\n",
       "                                        'colsample_bytree': [0.5, 0.6, 0.7, 0.8,\n",
       "                                                             0.9, 1],\n",
       "                                        'gamma': [0, 0.25, 0.5, 1],\n",
       "                                        'learning_rate': [0.001, 0.01, 0.1, 0.2,\n",
       "                                                          0.3, 0.5, 1.0],\n",
       "                                        'max_depth': [5, 6, 7, 8, 9, 10],\n",
       "                                        'min_child_weight': [0.1, 0.2, 0.3, 0.5,\n",
       "                                                             1],\n",
       "                                        'n_estimators': [100, 200, 300, 500,\n",
       "                                                         1000],\n",
       "                                        'subsample': [0.5, 0.6, 0.7, 0.8, 0.9,\n",
       "                                                      1]},\n",
       "                   scoring='neg_log_loss', verbose=2)"
      ]
     },
     "execution_count": 90,
     "metadata": {},
     "output_type": "execute_result"
    }
   ],
   "source": [
    "clf = xgb.XGBClassifier()\n",
    "\n",
    "clf_cv = RandomizedSearchCV(clf, param_grid, verbose=2, n_jobs=-1, scoring='neg_log_loss', cv=2)\n",
    "\n",
    "# Train the model on the training set\n",
    "clf_cv.fit(X_train, y_train, **fit_params)"
   ]
  },
  {
   "cell_type": "code",
   "execution_count": 91,
   "id": "0cfc300d",
   "metadata": {},
   "outputs": [
    {
     "name": "stdout",
     "output_type": "stream",
     "text": [
      "Best score: -0.1566993269957277\n",
      "Best parameters: \n",
      "colsample_bylevel: 1\n",
      "colsample_bytree: 0.9\n",
      "gamma: 0.25\n",
      "learning_rate: 0.1\n",
      "max_depth: 8\n",
      "min_child_weight: 0.3\n",
      "n_estimators: 500\n",
      "subsample: 0.5\n"
     ]
    }
   ],
   "source": [
    "best_score = clf_cv.best_score_\n",
    "best_params = clf_cv.best_params_\n",
    "\n",
    "print(\"Best score: {}\".format(best_score))\n",
    "print(\"Best parameters: \")\n",
    "for param_name in sorted(best_params.keys()):\n",
    "    print('%s: %r' % (param_name, best_params[param_name]))"
   ]
  },
  {
   "cell_type": "markdown",
   "id": "88bea6df",
   "metadata": {},
   "source": [
    "##### XGBoost with optimal hyperparameters"
   ]
  },
  {
   "cell_type": "code",
   "execution_count": 94,
   "id": "479172d1",
   "metadata": {},
   "outputs": [
    {
     "name": "stdout",
     "output_type": "stream",
     "text": [
      "[17:33:20] WARNING: ..\\src\\learner.cc:1115: Starting in XGBoost 1.3.0, the default evaluation metric used with the objective 'binary:logistic' was changed from 'error' to 'logloss'. Explicitly set eval_metric if you'd like to restore the old behavior.\n"
     ]
    }
   ],
   "source": [
    "# XGBoost with optimal hyperparameters\n",
    "clf = xgb.XGBClassifier(gamma=0.25, learning_rate=0.1, max_depth=8, n_estimators=1000, subsample=0.5,\n",
    "                        colsample_bylevel=1, colsample_bytree=0.9, min_child_weight=0.3) \n",
    "\n",
    "# Train the model on the training set\n",
    "clf.fit(X_train, y_train)\n",
    "\n",
    "# Make predictions on the testing set\n",
    "y_pred3 = clf.predict(X_test)"
   ]
  },
  {
   "cell_type": "code",
   "execution_count": 95,
   "id": "f228bef7",
   "metadata": {},
   "outputs": [
    {
     "name": "stdout",
     "output_type": "stream",
     "text": [
      "Accuracy score:  96.53262266903555\n"
     ]
    }
   ],
   "source": [
    "from sklearn.metrics import accuracy_score\n",
    "\n",
    "xgb_score = accuracy_score(y_test, y_pred3)*100\n",
    "print(\"Accuracy score: \", xgb_score)"
   ]
  },
  {
   "cell_type": "code",
   "execution_count": 96,
   "id": "88746e76",
   "metadata": {},
   "outputs": [
    {
     "name": "stdout",
     "output_type": "stream",
     "text": [
      "0.10507133610442926\n"
     ]
    }
   ],
   "source": [
    "from sklearn.metrics import log_loss\n",
    "clf_probs = clf.predict_proba(X_test)\n",
    "xgb_log_score = log_loss(y_test, clf_probs)\n",
    "print(xgb_log_score)"
   ]
  },
  {
   "cell_type": "markdown",
   "id": "e41060d2",
   "metadata": {},
   "source": [
    "### LightGBM Classifier"
   ]
  },
  {
   "cell_type": "code",
   "execution_count": 97,
   "id": "4f02e42e",
   "metadata": {},
   "outputs": [],
   "source": [
    "import lightgbm as lgb\n",
    "from lightgbm import LGBMClassifier\n",
    "\n",
    "lgb_clf = LGBMClassifier(n_estimators=20)\n",
    "\n",
    "# Train the model on the training set\n",
    "lgb_clf.fit(X_train, y_train)\n",
    "\n",
    "# Make predictions on the testing set\n",
    "y_pred4 = lgb_clf.predict(X_test)"
   ]
  },
  {
   "cell_type": "code",
   "execution_count": 98,
   "id": "ac43188c",
   "metadata": {},
   "outputs": [
    {
     "name": "stdout",
     "output_type": "stream",
     "text": [
      "Accuracy score:  96.53262266903555\n"
     ]
    }
   ],
   "source": [
    "from sklearn.metrics import accuracy_score\n",
    "\n",
    "lgb_clf_score = accuracy_score(y_test, y_pred3)*100\n",
    "print(\"Accuracy score: \", lgb_clf_score)"
   ]
  },
  {
   "cell_type": "markdown",
   "id": "f339ac62",
   "metadata": {},
   "source": [
    "##### Hyperparameter tuning in LightGBM Classifier"
   ]
  },
  {
   "cell_type": "code",
   "execution_count": 99,
   "id": "0d77be1d",
   "metadata": {},
   "outputs": [],
   "source": [
    "# Hyperparameter tuning\n",
    "import lightgbm as lgb\n",
    "from sklearn.model_selection import RandomizedSearchCV\n",
    "\n",
    "search_params = {\n",
    "        'max_depth': [3, 4, 5, 6, 7, 8, 9, 10],\n",
    "        'learning_rate': [0.01, 0.10, 0.125, 0.15, 0.175, 0.2, 0.5, 1.0],\n",
    "        'subsample': [0.5, 0.6, 0.7, 0.8, 0.9, 1.0],\n",
    "        'num_leaves': [20, 30, 40, 50, 60, 70],\n",
    "        'n_estimators': [x for x in range(20, 150, 2)]}"
   ]
  },
  {
   "cell_type": "code",
   "execution_count": 100,
   "id": "6522183a",
   "metadata": {},
   "outputs": [
    {
     "name": "stdout",
     "output_type": "stream",
     "text": [
      "Fitting 2 folds for each of 10 candidates, totalling 20 fits\n"
     ]
    },
    {
     "data": {
      "text/plain": [
       "RandomizedSearchCV(cv=2, estimator=LGBMClassifier(), n_jobs=-1,\n",
       "                   param_distributions={'learning_rate': [0.01, 0.1, 0.125,\n",
       "                                                          0.15, 0.175, 0.2, 0.5,\n",
       "                                                          1.0],\n",
       "                                        'max_depth': [3, 4, 5, 6, 7, 8, 9, 10],\n",
       "                                        'n_estimators': [20, 22, 24, 26, 28, 30,\n",
       "                                                         32, 34, 36, 38, 40, 42,\n",
       "                                                         44, 46, 48, 50, 52, 54,\n",
       "                                                         56, 58, 60, 62, 64, 66,\n",
       "                                                         68, 70, 72, 74, 76, 78, ...],\n",
       "                                        'num_leaves': [20, 30, 40, 50, 60, 70],\n",
       "                                        'subsample': [0.5, 0.6, 0.7, 0.8, 0.9,\n",
       "                                                      1.0]},\n",
       "                   verbose=2)"
      ]
     },
     "execution_count": 100,
     "metadata": {},
     "output_type": "execute_result"
    }
   ],
   "source": [
    "estimator = lgb.LGBMClassifier()\n",
    "\n",
    "grid = RandomizedSearchCV(estimator, search_params, verbose=2, n_jobs=-1, cv=2)\n",
    "\n",
    "# Train the model on the training set\n",
    "grid.fit(X_train, y_train)"
   ]
  },
  {
   "cell_type": "code",
   "execution_count": 101,
   "id": "35046190",
   "metadata": {},
   "outputs": [
    {
     "name": "stdout",
     "output_type": "stream",
     "text": [
      "Best score: 0.9342313637637212\n",
      "Best parameters: \n",
      "learning_rate: 0.5\n",
      "max_depth: 9\n",
      "n_estimators: 96\n",
      "num_leaves: 50\n",
      "subsample: 1.0\n"
     ]
    }
   ],
   "source": [
    "best_score = grid.best_score_\n",
    "best_params = grid.best_params_\n",
    "\n",
    "print(\"Best score: {}\".format(best_score))\n",
    "print(\"Best parameters: \")\n",
    "for param_name in sorted(best_params.keys()):\n",
    "    print('%s: %r' % (param_name, best_params[param_name]))"
   ]
  },
  {
   "cell_type": "markdown",
   "id": "258b14d0",
   "metadata": {},
   "source": [
    "##### LightGBM Classifier with optimal hyperparameters"
   ]
  },
  {
   "cell_type": "code",
   "execution_count": 102,
   "id": "fa8de6ff",
   "metadata": {},
   "outputs": [],
   "source": [
    "# LightGBM with optimal hyperparameters\n",
    "estimator = lgb.LGBMClassifier(learning_rate=0.5, max_depth=8, n_estimators=124, num_leaves=70, subsample=0.7) \n",
    "\n",
    "# Train the model on the training set\n",
    "estimator.fit(X_train, y_train)\n",
    "\n",
    "# Make predictions on the testing set\n",
    "y_pred5 = estimator.predict(X_test)"
   ]
  },
  {
   "cell_type": "code",
   "execution_count": 103,
   "id": "c2e9bd4b",
   "metadata": {},
   "outputs": [
    {
     "name": "stdout",
     "output_type": "stream",
     "text": [
      "Accuracy score:  94.87898003302952\n"
     ]
    }
   ],
   "source": [
    "from sklearn.metrics import accuracy_score\n",
    "\n",
    "lgb_score = accuracy_score(y_test, y_pred5)*100\n",
    "print(\"Accuracy score: \", lgb_score)"
   ]
  },
  {
   "cell_type": "code",
   "execution_count": 104,
   "id": "6fde4c41",
   "metadata": {},
   "outputs": [
    {
     "name": "stdout",
     "output_type": "stream",
     "text": [
      "0.33295823843303485\n"
     ]
    }
   ],
   "source": [
    "from sklearn.metrics import log_loss\n",
    "clf_probs = lgb_clf.predict_proba(X_test)\n",
    "lgb_log_score = log_loss(y_test, clf_probs)\n",
    "print(lgb_log_score)"
   ]
  },
  {
   "cell_type": "code",
   "execution_count": 105,
   "id": "b4a770b8",
   "metadata": {},
   "outputs": [
    {
     "data": {
      "text/html": [
       "<div>\n",
       "<style scoped>\n",
       "    .dataframe tbody tr th:only-of-type {\n",
       "        vertical-align: middle;\n",
       "    }\n",
       "\n",
       "    .dataframe tbody tr th {\n",
       "        vertical-align: top;\n",
       "    }\n",
       "\n",
       "    .dataframe thead th {\n",
       "        text-align: right;\n",
       "    }\n",
       "</style>\n",
       "<table border=\"1\" class=\"dataframe\">\n",
       "  <thead>\n",
       "    <tr style=\"text-align: right;\">\n",
       "      <th></th>\n",
       "      <th>Model</th>\n",
       "      <th>Accuracy</th>\n",
       "      <th>Log Loss</th>\n",
       "    </tr>\n",
       "  </thead>\n",
       "  <tbody>\n",
       "    <tr>\n",
       "      <th>2</th>\n",
       "      <td>XGBoost Classifier</td>\n",
       "      <td>96.532623</td>\n",
       "      <td>0.105071</td>\n",
       "    </tr>\n",
       "    <tr>\n",
       "      <th>3</th>\n",
       "      <td>LightGBM Classifier</td>\n",
       "      <td>94.878980</td>\n",
       "      <td>0.332958</td>\n",
       "    </tr>\n",
       "    <tr>\n",
       "      <th>1</th>\n",
       "      <td>Random Forest Classifier</td>\n",
       "      <td>93.357504</td>\n",
       "      <td>0.182386</td>\n",
       "    </tr>\n",
       "    <tr>\n",
       "      <th>0</th>\n",
       "      <td>Logistic Regression</td>\n",
       "      <td>80.193844</td>\n",
       "      <td>0.443679</td>\n",
       "    </tr>\n",
       "  </tbody>\n",
       "</table>\n",
       "</div>"
      ],
      "text/plain": [
       "                      Model   Accuracy  Log Loss\n",
       "2        XGBoost Classifier  96.532623  0.105071\n",
       "3       LightGBM Classifier  94.878980  0.332958\n",
       "1  Random Forest Classifier  93.357504  0.182386\n",
       "0       Logistic Regression  80.193844  0.443679"
      ]
     },
     "execution_count": 105,
     "metadata": {},
     "output_type": "execute_result"
    }
   ],
   "source": [
    "results = pd.DataFrame({\n",
    "    'Model': ['Logistic Regression', 'Random Forest Classifier', 'XGBoost Classifier', 'LightGBM Classifier'],\n",
    "    'Accuracy': [log_score, rfc_score, xgb_score, lgb_score],\n",
    "    'Log Loss': [lr_log_score, rfc_log_score, xgb_log_score, lgb_log_score]\n",
    "})\n",
    "\n",
    "result_df = results.sort_values(by=['Accuracy','Log Loss'], ascending=[False,True])\n",
    "result_df"
   ]
  },
  {
   "cell_type": "markdown",
   "id": "5012e54e",
   "metadata": {},
   "source": [
    "### Feature Importances in Random Forest Classifier model"
   ]
  },
  {
   "cell_type": "code",
   "execution_count": 106,
   "id": "26bee07b",
   "metadata": {},
   "outputs": [
    {
     "data": {
      "text/html": [
       "<div>\n",
       "<style scoped>\n",
       "    .dataframe tbody tr th:only-of-type {\n",
       "        vertical-align: middle;\n",
       "    }\n",
       "\n",
       "    .dataframe tbody tr th {\n",
       "        vertical-align: top;\n",
       "    }\n",
       "\n",
       "    .dataframe thead th {\n",
       "        text-align: right;\n",
       "    }\n",
       "</style>\n",
       "<table border=\"1\" class=\"dataframe\">\n",
       "  <thead>\n",
       "    <tr style=\"text-align: right;\">\n",
       "      <th></th>\n",
       "      <th>Importance</th>\n",
       "    </tr>\n",
       "    <tr>\n",
       "      <th>Feature</th>\n",
       "      <th></th>\n",
       "    </tr>\n",
       "  </thead>\n",
       "  <tbody>\n",
       "    <tr>\n",
       "      <th>product_reorder_rate</th>\n",
       "      <td>0.399690</td>\n",
       "    </tr>\n",
       "    <tr>\n",
       "      <th>user_reorder_rate</th>\n",
       "      <td>0.168659</td>\n",
       "    </tr>\n",
       "    <tr>\n",
       "      <th>department_id</th>\n",
       "      <td>0.097900</td>\n",
       "    </tr>\n",
       "    <tr>\n",
       "      <th>product_id</th>\n",
       "      <td>0.079891</td>\n",
       "    </tr>\n",
       "    <tr>\n",
       "      <th>aisle_id</th>\n",
       "      <td>0.077110</td>\n",
       "    </tr>\n",
       "    <tr>\n",
       "      <th>days_since_prior_order</th>\n",
       "      <td>0.046545</td>\n",
       "    </tr>\n",
       "    <tr>\n",
       "      <th>user_id</th>\n",
       "      <td>0.043902</td>\n",
       "    </tr>\n",
       "    <tr>\n",
       "      <th>add_to_cart_order</th>\n",
       "      <td>0.039389</td>\n",
       "    </tr>\n",
       "    <tr>\n",
       "      <th>order_hour_of_day</th>\n",
       "      <td>0.028370</td>\n",
       "    </tr>\n",
       "    <tr>\n",
       "      <th>order_day</th>\n",
       "      <td>0.018545</td>\n",
       "    </tr>\n",
       "  </tbody>\n",
       "</table>\n",
       "</div>"
      ],
      "text/plain": [
       "                        Importance\n",
       "Feature                           \n",
       "product_reorder_rate      0.399690\n",
       "user_reorder_rate         0.168659\n",
       "department_id             0.097900\n",
       "product_id                0.079891\n",
       "aisle_id                  0.077110\n",
       "days_since_prior_order    0.046545\n",
       "user_id                   0.043902\n",
       "add_to_cart_order         0.039389\n",
       "order_hour_of_day         0.028370\n",
       "order_day                 0.018545"
      ]
     },
     "execution_count": 106,
     "metadata": {},
     "output_type": "execute_result"
    }
   ],
   "source": [
    "# get importance\n",
    "importance = pd.DataFrame({\n",
    "    'Feature': sales_df.drop('reordered', axis=1).columns,\n",
    "    'Importance': rfc.feature_importances_\n",
    "})\n",
    "\n",
    "importance = importance.sort_values(by='Importance', ascending=False)\n",
    "importance = importance.set_index('Feature')\n",
    "importance"
   ]
  },
  {
   "cell_type": "code",
   "execution_count": 107,
   "id": "0f741a0d",
   "metadata": {},
   "outputs": [
    {
     "data": {
      "image/png": "[encoded data removed]",
      "text/plain": [
       "<Figure size 432x288 with 1 Axes>"
      ]
     },
     "metadata": {
      "needs_background": "light"
     },
     "output_type": "display_data"
    }
   ],
   "source": [
    "# Plot feature importance\n",
    "importance.plot.bar()\n",
    "plt.title(\"Feature importances\")\n",
    "plt.show()"
   ]
  },
  {
   "cell_type": "markdown",
   "id": "4bedd94c",
   "metadata": {},
   "source": [
    "### Making predictions"
   ]
  },
  {
   "cell_type": "code",
   "execution_count": 108,
   "id": "e657c283",
   "metadata": {},
   "outputs": [
    {
     "data": {
      "text/plain": [
       "Index(['user_id', 'product_id', 'product_reorder_rate', 'department_id',\n",
       "       'aisle_id', 'order_day', 'order_hour_of_day', 'days_since_prior_order',\n",
       "       'add_to_cart_order', 'user_reorder_rate'],\n",
       "      dtype='object')"
      ]
     },
     "execution_count": 108,
     "metadata": {},
     "output_type": "execute_result"
    }
   ],
   "source": [
    "X.columns"
   ]
  },
  {
   "cell_type": "code",
   "execution_count": 109,
   "id": "68da828a",
   "metadata": {},
   "outputs": [],
   "source": [
    "def predict(product_id, department_id, aisle_id, days_since_prior_order, add_to_cart_order):\n",
    "    x = np.zeros(len(X.columns))\n",
    "    x[1] = product_id\n",
    "    x[3] = department_id\n",
    "    x[4] = aisle_id\n",
    "    x[7] = days_since_prior_order\n",
    "    x[8] = add_to_cart_order\n",
    "    \n",
    "    return clf.predict([x])[0]"
   ]
  },
  {
   "cell_type": "code",
   "execution_count": 110,
   "id": "f3163e61",
   "metadata": {},
   "outputs": [
    {
     "data": {
      "text/plain": [
       "1"
      ]
     },
     "execution_count": 110,
     "metadata": {},
     "output_type": "execute_result"
    }
   ],
   "source": [
    "predict(2, 1, 1, 7, 2)"
   ]
  },
  {
   "cell_type": "code",
   "execution_count": 111,
   "id": "ba5ef09a",
   "metadata": {},
   "outputs": [],
   "source": [
    "# Finally, after loading that model we will use this to make predictions\n",
    "prediction = clf.predict(X_test)"
   ]
  },
  {
   "cell_type": "code",
   "execution_count": 112,
   "id": "bc3f48bd",
   "metadata": {},
   "outputs": [
    {
     "data": {
      "text/html": [
       "<div>\n",
       "<style scoped>\n",
       "    .dataframe tbody tr th:only-of-type {\n",
       "        vertical-align: middle;\n",
       "    }\n",
       "\n",
       "    .dataframe tbody tr th {\n",
       "        vertical-align: top;\n",
       "    }\n",
       "\n",
       "    .dataframe thead th {\n",
       "        text-align: right;\n",
       "    }\n",
       "</style>\n",
       "<table border=\"1\" class=\"dataframe\">\n",
       "  <thead>\n",
       "    <tr style=\"text-align: right;\">\n",
       "      <th></th>\n",
       "      <th>Actual</th>\n",
       "      <th>Predicted</th>\n",
       "    </tr>\n",
       "  </thead>\n",
       "  <tbody>\n",
       "    <tr>\n",
       "      <th>928213</th>\n",
       "      <td>0</td>\n",
       "      <td>0</td>\n",
       "    </tr>\n",
       "    <tr>\n",
       "      <th>732292</th>\n",
       "      <td>0</td>\n",
       "      <td>0</td>\n",
       "    </tr>\n",
       "    <tr>\n",
       "      <th>1001402</th>\n",
       "      <td>1</td>\n",
       "      <td>1</td>\n",
       "    </tr>\n",
       "    <tr>\n",
       "      <th>216147</th>\n",
       "      <td>1</td>\n",
       "      <td>1</td>\n",
       "    </tr>\n",
       "    <tr>\n",
       "      <th>190745</th>\n",
       "      <td>1</td>\n",
       "      <td>1</td>\n",
       "    </tr>\n",
       "    <tr>\n",
       "      <th>99966</th>\n",
       "      <td>1</td>\n",
       "      <td>1</td>\n",
       "    </tr>\n",
       "    <tr>\n",
       "      <th>70355</th>\n",
       "      <td>1</td>\n",
       "      <td>1</td>\n",
       "    </tr>\n",
       "    <tr>\n",
       "      <th>509972</th>\n",
       "      <td>1</td>\n",
       "      <td>1</td>\n",
       "    </tr>\n",
       "    <tr>\n",
       "      <th>154659</th>\n",
       "      <td>1</td>\n",
       "      <td>1</td>\n",
       "    </tr>\n",
       "    <tr>\n",
       "      <th>391491</th>\n",
       "      <td>1</td>\n",
       "      <td>1</td>\n",
       "    </tr>\n",
       "  </tbody>\n",
       "</table>\n",
       "</div>"
      ],
      "text/plain": [
       "         Actual  Predicted\n",
       "928213        0          0\n",
       "732292        0          0\n",
       "1001402       1          1\n",
       "216147        1          1\n",
       "190745        1          1\n",
       "99966         1          1\n",
       "70355         1          1\n",
       "509972        1          1\n",
       "154659        1          1\n",
       "391491        1          1"
      ]
     },
     "execution_count": 112,
     "metadata": {},
     "output_type": "execute_result"
    }
   ],
   "source": [
    "df = pd.DataFrame({'Actual': y_test, 'Predicted': prediction})\n",
    "df.tail(10)"
   ]
  },
  {
   "cell_type": "code",
   "execution_count": 113,
   "id": "52fd6087",
   "metadata": {},
   "outputs": [],
   "source": [
    "final_df = df['Predicted']\n",
    "final_df = df.drop('Actual', axis=1)"
   ]
  },
  {
   "cell_type": "code",
   "execution_count": 114,
   "id": "357fafc7",
   "metadata": {},
   "outputs": [],
   "source": [
    "X[\"reordered\"] = final_df"
   ]
  },
  {
   "cell_type": "code",
   "execution_count": 115,
   "id": "7c96427f",
   "metadata": {},
   "outputs": [
    {
     "name": "stdout",
     "output_type": "stream",
     "text": [
      "Successfully Exported!!\n"
     ]
    }
   ],
   "source": [
    "export_csv = X.to_csv(r'C:\\Users\\Rajashri\\Desktop\\Resume\\Resume Projects\\Instacart analyis\\predictions.csv', \n",
    "                      index=None, header=True)\n",
    "print(\"Successfully Exported!!\")"
   ]
  },
  {
   "cell_type": "markdown",
   "id": "46cb5e5f",
   "metadata": {},
   "source": [
    "#### Get the prediction probabilities for each class"
   ]
  },
  {
   "cell_type": "code",
   "execution_count": 116,
   "id": "a5212eb1",
   "metadata": {},
   "outputs": [],
   "source": [
    "pred1 = rfc.predict_proba(X_test)\n",
    "pred2 = clf.predict_proba(X_test)\n",
    "pred3 = estimator.predict_proba(X_test)\n",
    "\n",
    "final_pred = (pred1+pred2+pred3)/3"
   ]
  },
  {
   "cell_type": "code",
   "execution_count": 117,
   "id": "ae9e34c8",
   "metadata": {},
   "outputs": [
    {
     "data": {
      "text/html": [
       "<div>\n",
       "<style scoped>\n",
       "    .dataframe tbody tr th:only-of-type {\n",
       "        vertical-align: middle;\n",
       "    }\n",
       "\n",
       "    .dataframe tbody tr th {\n",
       "        vertical-align: top;\n",
       "    }\n",
       "\n",
       "    .dataframe thead th {\n",
       "        text-align: right;\n",
       "    }\n",
       "</style>\n",
       "<table border=\"1\" class=\"dataframe\">\n",
       "  <thead>\n",
       "    <tr style=\"text-align: right;\">\n",
       "      <th></th>\n",
       "      <th>0</th>\n",
       "      <th>1</th>\n",
       "    </tr>\n",
       "  </thead>\n",
       "  <tbody>\n",
       "    <tr>\n",
       "      <th>0</th>\n",
       "      <td>0.999273</td>\n",
       "      <td>0.000727</td>\n",
       "    </tr>\n",
       "    <tr>\n",
       "      <th>1</th>\n",
       "      <td>0.581741</td>\n",
       "      <td>0.418259</td>\n",
       "    </tr>\n",
       "    <tr>\n",
       "      <th>2</th>\n",
       "      <td>0.003335</td>\n",
       "      <td>0.996665</td>\n",
       "    </tr>\n",
       "    <tr>\n",
       "      <th>3</th>\n",
       "      <td>0.984556</td>\n",
       "      <td>0.015444</td>\n",
       "    </tr>\n",
       "    <tr>\n",
       "      <th>4</th>\n",
       "      <td>0.111406</td>\n",
       "      <td>0.888594</td>\n",
       "    </tr>\n",
       "    <tr>\n",
       "      <th>...</th>\n",
       "      <td>...</td>\n",
       "      <td>...</td>\n",
       "    </tr>\n",
       "    <tr>\n",
       "      <th>415381</th>\n",
       "      <td>0.006863</td>\n",
       "      <td>0.993137</td>\n",
       "    </tr>\n",
       "    <tr>\n",
       "      <th>415382</th>\n",
       "      <td>0.158772</td>\n",
       "      <td>0.841228</td>\n",
       "    </tr>\n",
       "    <tr>\n",
       "      <th>415383</th>\n",
       "      <td>0.000729</td>\n",
       "      <td>0.999271</td>\n",
       "    </tr>\n",
       "    <tr>\n",
       "      <th>415384</th>\n",
       "      <td>0.147824</td>\n",
       "      <td>0.852176</td>\n",
       "    </tr>\n",
       "    <tr>\n",
       "      <th>415385</th>\n",
       "      <td>0.123167</td>\n",
       "      <td>0.876833</td>\n",
       "    </tr>\n",
       "  </tbody>\n",
       "</table>\n",
       "<p>415386 rows × 2 columns</p>\n",
       "</div>"
      ],
      "text/plain": [
       "               0         1\n",
       "0       0.999273  0.000727\n",
       "1       0.581741  0.418259\n",
       "2       0.003335  0.996665\n",
       "3       0.984556  0.015444\n",
       "4       0.111406  0.888594\n",
       "...          ...       ...\n",
       "415381  0.006863  0.993137\n",
       "415382  0.158772  0.841228\n",
       "415383  0.000729  0.999271\n",
       "415384  0.147824  0.852176\n",
       "415385  0.123167  0.876833\n",
       "\n",
       "[415386 rows x 2 columns]"
      ]
     },
     "execution_count": 117,
     "metadata": {},
     "output_type": "execute_result"
    }
   ],
   "source": [
    "prob_df = pd.DataFrame(final_pred, columns=['0','1'])\n",
    "prob_df"
   ]
  },
  {
   "cell_type": "code",
   "execution_count": 118,
   "id": "df8d7894",
   "metadata": {},
   "outputs": [],
   "source": [
    "final_df1 = prob_df['1']\n",
    "final_df1 = prob_df.drop('0',axis=1)"
   ]
  },
  {
   "cell_type": "code",
   "execution_count": 119,
   "id": "e1a78fe1",
   "metadata": {},
   "outputs": [],
   "source": [
    "X[\"reordered\"] = final_df1"
   ]
  },
  {
   "cell_type": "code",
   "execution_count": 120,
   "id": "9bc405ce",
   "metadata": {},
   "outputs": [
    {
     "name": "stdout",
     "output_type": "stream",
     "text": [
      "Successfully Exported!!\n"
     ]
    }
   ],
   "source": [
    "export_csv = X.to_csv(r'C:\\Users\\Rajashri\\Desktop\\Resume\\Resume Projects\\Instacart analyis\\prediction_probabilities.csv', \n",
    "                      index=None, header=True)\n",
    "print(\"Successfully Exported!!\")"
   ]
  },
  {
   "cell_type": "code",
   "execution_count": null,
   "id": "fb470377",
   "metadata": {},
   "outputs": [],
   "source": []
  }
 ],
 "metadata": {
  "kernelspec": {
   "display_name": "Python 3 (ipykernel)",
   "language": "python",
   "name": "python3"
  },
  "language_info": {
   "codemirror_mode": {
    "name": "ipython",
    "version": 3
   },
   "file_extension": ".py",
   "mimetype": "text/x-python",
   "name": "python",
   "nbconvert_exporter": "python",
   "pygments_lexer": "ipython3",
   "version": "3.9.12"
  }
 },
 "nbformat": 4,
 "nbformat_minor": 5
}
